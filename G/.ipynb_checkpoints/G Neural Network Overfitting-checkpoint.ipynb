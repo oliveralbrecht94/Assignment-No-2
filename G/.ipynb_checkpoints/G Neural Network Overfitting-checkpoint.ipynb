{
 "cells": [
  {
   "cell_type": "markdown",
   "metadata": {},
   "source": [
    "# G Neural Networks Overfitting"
   ]
  },
  {
   "cell_type": "markdown",
   "metadata": {},
   "source": [
    "- Train a neural net and prevent overfitting by regularization. \n",
    "- You can use any combination of regularizers we saw in class.\n",
    "- Use the train and test splits in the data to evaluate the model.\n"
   ]
  },
  {
   "cell_type": "code",
   "execution_count": 1,
   "metadata": {},
   "outputs": [],
   "source": [
    "# Imports\n",
    "import matplotlib.pyplot as plt\n",
    "import tensorflow as tf\n",
    "from tensorflow.python.keras.layers import Input, Dense\n",
    "from tensorflow.python.keras.datasets import cifar10\n",
    "from tensorflow.python.keras import models, layers\n",
    "from tensorflow.python.keras.models import Sequential\n",
    "from tensorflow.python.keras.layers import Dense, Dropout, Flatten\n",
    "from tensorflow.python.keras.layers import Conv2D, MaxPooling2D \n",
    "from tensorflow.python.keras.callbacks import EarlyStopping"
   ]
  },
  {
   "cell_type": "code",
   "execution_count": 2,
   "metadata": {},
   "outputs": [],
   "source": [
    "#Datensatz laden\n",
    "(X_train, Y_train), (X_test, Y_test) = cifar10.load_data()\n",
    "X_train = X_train/ 255\n",
    "X_test = X_test /255"
   ]
  },
  {
   "cell_type": "code",
   "execution_count": 3,
   "metadata": {},
   "outputs": [
    {
     "name": "stdout",
     "output_type": "stream",
     "text": [
      "WARNING:tensorflow:From C:\\Users\\Creators\\Anaconda3\\lib\\site-packages\\tensorflow\\python\\ops\\init_ops.py:1251: calling VarianceScaling.__init__ (from tensorflow.python.ops.init_ops) with dtype is deprecated and will be removed in a future version.\n",
      "Instructions for updating:\n",
      "Call initializer instance with the dtype argument instead of passing it to the constructor\n",
      "Model: \"sequential\"\n",
      "_________________________________________________________________\n",
      "Layer (type)                 Output Shape              Param #   \n",
      "=================================================================\n",
      "conv2d (Conv2D)              (None, 30, 30, 32)        896       \n",
      "_________________________________________________________________\n",
      "max_pooling2d (MaxPooling2D) (None, 15, 15, 32)        0         \n",
      "_________________________________________________________________\n",
      "conv2d_1 (Conv2D)            (None, 13, 13, 64)        18496     \n",
      "_________________________________________________________________\n",
      "max_pooling2d_1 (MaxPooling2 (None, 6, 6, 64)          0         \n",
      "_________________________________________________________________\n",
      "conv2d_2 (Conv2D)            (None, 4, 4, 64)          36928     \n",
      "_________________________________________________________________\n",
      "flatten (Flatten)            (None, 1024)              0         \n",
      "_________________________________________________________________\n",
      "dense (Dense)                (None, 128)               131200    \n",
      "_________________________________________________________________\n",
      "dropout (Dropout)            (None, 128)               0         \n",
      "_________________________________________________________________\n",
      "dense_1 (Dense)              (None, 64)                8256      \n",
      "_________________________________________________________________\n",
      "dense_2 (Dense)              (None, 10)                650       \n",
      "=================================================================\n",
      "Total params: 196,426\n",
      "Trainable params: 196,426\n",
      "Non-trainable params: 0\n",
      "_________________________________________________________________\n"
     ]
    }
   ],
   "source": [
    "#Model erstellen\n",
    "model = models.Sequential()\n",
    "model.add(layers.Conv2D(32, (3, 3), activation='relu', input_shape=(32, 32, 3)))\n",
    "model.add(layers.MaxPooling2D((2, 2)))\n",
    "model.add(layers.Conv2D(64, (3, 3), activation='relu'))\n",
    "model.add(layers.MaxPooling2D((2, 2)))\n",
    "model.add(layers.Conv2D(64, (3, 3), activation='relu'))\n",
    "\n",
    "model.add(layers.Flatten())\n",
    "model.add(layers.Dense(128, activation='relu'))\n",
    "\n",
    "#Dropout von 0.5 hinzufügen\n",
    "model.add(layers.Dropout(0.5))\n",
    "model.add(layers.Dense(64, activation='relu'))\n",
    "model.add(layers.Dense(10, activation='softmax'))\n",
    "\n",
    "model.summary()\n",
    "\n",
    "model.compile(loss='sparse_categorical_crossentropy', optimizer='adam', metrics=['accuracy'])"
   ]
  },
  {
   "cell_type": "code",
   "execution_count": 4,
   "metadata": {},
   "outputs": [
    {
     "name": "stdout",
     "output_type": "stream",
     "text": [
      "Train on 50000 samples, validate on 10000 samples\n",
      "Epoch 1/12\n",
      "50000/50000 [==============================] - 181s 4ms/sample - loss: 1.6197 - acc: 0.4026 - val_loss: 1.2837 - val_acc: 0.5434\n",
      "Epoch 2/12\n",
      "50000/50000 [==============================] - 493s 10ms/sample - loss: 1.2686 - acc: 0.5485 - val_loss: 1.1626 - val_acc: 0.5813\n",
      "Epoch 3/12\n",
      "50000/50000 [==============================] - 715s 14ms/sample - loss: 1.1301 - acc: 0.6054 - val_loss: 1.0686 - val_acc: 0.6301\n",
      "Epoch 4/12\n",
      "50000/50000 [==============================] - 610s 12ms/sample - loss: 1.0498 - acc: 0.6330 - val_loss: 1.0035 - val_acc: 0.6533\n",
      "Epoch 5/12\n",
      "50000/50000 [==============================] - 290s 6ms/sample - loss: 0.9882 - acc: 0.6551 - val_loss: 1.0049 - val_acc: 0.6533\n",
      "Epoch 6/12\n",
      "50000/50000 [==============================] - 157s 3ms/sample - loss: 0.9409 - acc: 0.6735 - val_loss: 0.9473 - val_acc: 0.6765\n",
      "Epoch 7/12\n",
      "50000/50000 [==============================] - 156s 3ms/sample - loss: 0.8991 - acc: 0.6901 - val_loss: 0.9246 - val_acc: 0.6845\n",
      "Epoch 8/12\n",
      "50000/50000 [==============================] - 159s 3ms/sample - loss: 0.8740 - acc: 0.6973 - val_loss: 0.9319 - val_acc: 0.6800\n",
      "Epoch 9/12\n",
      "50000/50000 [==============================] - 159s 3ms/sample - loss: 0.8376 - acc: 0.7105 - val_loss: 1.0120 - val_acc: 0.6698\n"
     ]
    }
   ],
   "source": [
    "#Model trainieren\n",
    "early_stopping = EarlyStopping(monitor='val_loss', min_delta=0, patience=2, verbose=0, mode='auto')\n",
    "history = model.fit(X_train, Y_train, batch_size=10, epochs=12, validation_data=(X_test, Y_test), callbacks=[early_stopping])"
   ]
  },
  {
   "cell_type": "code",
   "execution_count": 5,
   "metadata": {},
   "outputs": [
    {
     "name": "stdout",
     "output_type": "stream",
     "text": [
      "Test loss: 1.0119660123825074\n",
      "Test accuracy: 0.6698\n"
     ]
    }
   ],
   "source": [
    "# Scores ermitteln \n",
    "score = model.evaluate(X_test, Y_test, verbose=0)\n",
    "print('Test loss:', score[0])\n",
    "print('Test accuracy:', score[1])"
   ]
  },
  {
   "cell_type": "code",
   "execution_count": 6,
   "metadata": {},
   "outputs": [
    {
     "data": {
      "image/png": "[encoded data removed]",
      "text/plain": [
       "<Figure size 432x288 with 1 Axes>"
      ]
     },
     "metadata": {
      "needs_background": "light"
     },
     "output_type": "display_data"
    }
   ],
   "source": [
    "# Ermitteln von training and test loss histories\n",
    "training_loss = history.history['loss']\n",
    "test_loss = history.history['val_loss']\n",
    "\n",
    "# Hochzählen der Epochen\n",
    "epoch_count = range(1, len(training_loss) + 1)\n",
    "\n",
    "#Visualisierung der loss history\n",
    "plt.plot(epoch_count, training_loss, 'r--')\n",
    "plt.plot(epoch_count, test_loss, 'b-')\n",
    "plt.legend(['Training Loss', 'Test Loss'])\n",
    "plt.xlabel('Epoch')\n",
    "plt.ylabel('Loss')\n",
    "plt.show();"
   ]
  },
  {
   "cell_type": "markdown",
   "metadata": {},
   "source": [
    "## Fazit\n",
    "\n",
    "Man kann anhand der Grafik sehen, dass sowohl der Trainings- als auch der Testdatensatz ihren Verlust kontinuierlich verringern. Der frühe stopp-callback  stoppt das Overfitten der Trainingsepochen. Die Genauigkeit aus dem Test und dem Trainingsatensatz ist ähnlich.. "
   ]
  },
  {
   "cell_type": "code",
   "execution_count": null,
   "metadata": {},
   "outputs": [],
   "source": []
  }
 ],
 "metadata": {
  "kernelspec": {
   "display_name": "Python 3",
   "language": "python",
   "name": "python3"
  },
  "language_info": {
   "codemirror_mode": {
    "name": "ipython",
    "version": 3
   },
   "file_extension": ".py",
   "mimetype": "text/x-python",
   "name": "python",
   "nbconvert_exporter": "python",
   "pygments_lexer": "ipython3",
   "version": "3.7.3"
  }
 },
 "nbformat": 4,
 "nbformat_minor": 2
}
