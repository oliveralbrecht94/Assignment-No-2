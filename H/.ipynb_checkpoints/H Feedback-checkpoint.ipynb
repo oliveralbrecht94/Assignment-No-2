{
 "cells": [
  {
   "cell_type": "markdown",
   "metadata": {},
   "source": [
    "# H Feedback"
   ]
  },
  {
   "cell_type": "markdown",
   "metadata": {},
   "source": [
    "## How much time did you work on this assignment and how often did you meet?\n",
    "\n",
    "Marcel = 15 h ;\n",
    "Oli = 22h  ;\n",
    "Simon = 10 h ;\n",
    "\n",
    "Wir trafen uns 3x per Skype und sprachen oft an der Universität oder über whattsapp."
   ]
  },
  {
   "cell_type": "markdown",
   "metadata": {},
   "source": [
    "## What was your favorite excercise?\n",
    "\n",
    "F war interessant und wir haben in der Forschung viel gelernt. Es war einfach spannend zu sehen, wie ein neuronales Netzwerk überlastet ist und sich verhält."
   ]
  },
  {
   "cell_type": "markdown",
   "metadata": {},
   "source": [
    "## What exercise did you like least?"
   ]
  },
  {
   "cell_type": "markdown",
   "metadata": {},
   "source": [
    "Um ehrlich zu sein, war A ein wenig nervig, weil es ein riesiger Datensatz ist und es für ein Anfänger sehr schwierig ist, hier durchzusteigen. Es brauchte viel Arbeit/Zeit, um den Datensatz zu verstehen. Außerdem musste man sehr mutig sein, zu entscheiden, welche Spalten man ignorieren sollte und welche nicht. Oft ist man hier einfach unsicher, da man teilweise nicht wusste, was die Spalte aussagt. Die Dokumentation zum Datensatz war leider sehr lückenhaft. Aber wahrscheinlich ist dies das tägliche Brot eines Data Scientiest und deshalb war es eine gute praktische Erfahrung.\n",
    "\n"
   ]
  },
  {
   "cell_type": "code",
   "execution_count": null,
   "metadata": {},
   "outputs": [],
   "source": []
  }
 ],
 "metadata": {
  "kernelspec": {
   "display_name": "Python 3",
   "language": "python",
   "name": "python3"
  },
  "language_info": {
   "codemirror_mode": {
    "name": "ipython",
    "version": 3
   },
   "file_extension": ".py",
   "mimetype": "text/x-python",
   "name": "python",
   "nbconvert_exporter": "python",
   "pygments_lexer": "ipython3",
   "version": "3.7.3"
  }
 },
 "nbformat": 4,
 "nbformat_minor": 2
}
