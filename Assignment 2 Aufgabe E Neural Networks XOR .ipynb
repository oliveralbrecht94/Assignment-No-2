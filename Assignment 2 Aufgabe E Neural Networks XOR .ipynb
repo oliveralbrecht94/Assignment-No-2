{
 "cells": [
  {
   "attachments": {
    "image.png": {
     "image/png": "[encoded data removed]"
    }
   },
   "cell_type": "markdown",
   "metadata": {},
   "source": [
    "Um die Gewichte zu benutzen haben wir eine Hilfsfunktion verwendet:\n",
    "![image.png](attachment:image.png)\n",
    "\n",
    "Diese benötigen wir um die Outputs der anderen Funktionen auf 1 oder 0 zu setzen\n",
    "Die XOR-Function setzt sich wie folgt zusammen: \n",
    "\n",
    "\n",
    "XOR=OR(AND(NOT(X1),X2),AND(NOT(X2),X1))  \n",
    "Y=ax + b  \n",
    "Y=weight * input + bias  \n",
    "Y:Output\n"
   ]
  },
  {
   "cell_type": "code",
   "execution_count": 1,
   "metadata": {},
   "outputs": [],
   "source": [
    "def xor_op(nummer1, nummer2):\n",
    "    return or_op(and_op(not_op(nummer1),nummer2),and_op(not_op(nummer2),nummer1))"
   ]
  },
  {
   "cell_type": "code",
   "execution_count": 2,
   "metadata": {
    "scrolled": true
   },
   "outputs": [],
   "source": [
    "def and_op(nummer1, nummer2):\n",
    "    return 0.5 * nummer1 + 0.5 * nummer2 - 0.6"
   ]
  },
  {
   "cell_type": "code",
   "execution_count": 3,
   "metadata": {},
   "outputs": [],
   "source": [
    "def or_op(nummer1, nummer2):\n",
    "    return  1 * nummer1 + 1 * nummer2 + 0"
   ]
  },
  {
   "cell_type": "code",
   "execution_count": 4,
   "metadata": {},
   "outputs": [],
   "source": [
    "def not_op(nummer):\n",
    "    return -1 * nummer + 1"
   ]
  },
  {
   "cell_type": "code",
   "execution_count": 5,
   "metadata": {},
   "outputs": [],
   "source": [
    "def test():\n",
    "\n",
    "    print('XOR (0,0): ', xor_op(0,0))\n",
    "    print('XOR (0,1): ', xor_op(0,1))\n",
    "    print('XOR (1,0): ', xor_op(1,0))\n",
    "    print('XOR (1,1): ', xor_op(1,1))  \n",
    "    print('Nächster Operator:')\n",
    "    print('AND (0,0): ', and_op(0,0))\n",
    "    print('AND (0,1): ', and_op(0,1))\n",
    "    print('AND (1,0): ', and_op(1,0))\n",
    "    print('AND (1,1): ', and_op(1,1))  \n",
    "    print('Nächster Operator:')\n",
    "    print('OR (0,0): ', or_op(0,0))\n",
    "    print('OR (0,1): ', or_op(0,1))\n",
    "    print('OR (1,0): ', or_op(1,0))\n",
    "    print('OR (1,1): ', or_op(1,1))  \n",
    "    print('Nächster Operator:')\n",
    "    print('NOT (0): ', not_op(0))\n",
    "    print('NOT (1): ', not_op(1))"
   ]
  },
  {
   "cell_type": "code",
   "execution_count": 6,
   "metadata": {},
   "outputs": [
    {
     "name": "stdout",
     "output_type": "stream",
     "text": [
      "XOR (0,0):  -0.19999999999999996\n",
      "XOR (0,1):  -0.19999999999999996\n",
      "XOR (1,0):  -0.19999999999999996\n",
      "XOR (1,1):  -0.19999999999999996\n",
      "Nächster Operator:\n",
      "AND (0,0):  -0.6\n",
      "AND (0,1):  -0.09999999999999998\n",
      "AND (1,0):  -0.09999999999999998\n",
      "AND (1,1):  0.4\n",
      "Nächster Operator:\n",
      "OR (0,0):  0\n",
      "OR (0,1):  1\n",
      "OR (1,0):  1\n",
      "OR (1,1):  2\n",
      "Nächster Operator:\n",
      "NOT (0):  1\n",
      "NOT (1):  0\n"
     ]
    }
   ],
   "source": [
    "test()"
   ]
  },
  {
   "cell_type": "markdown",
   "metadata": {},
   "source": [
    "Die Ergebnisse sind leider nicht korrekt. Dies wird verursacht durch die Operatoren, da diese fehlerhaft implementiert sind.  \n",
    "  \n",
    " Korrigieren können wir dies mit der am Anfang bereits genannten Hilfsfunktion.  \n",
    " Dank ihr wird der Output immer auf 1 oder 0 gesetzt."
   ]
  },
  {
   "cell_type": "code",
   "execution_count": 7,
   "metadata": {},
   "outputs": [],
   "source": [
    "def hilfsfunktion(nummer):\n",
    "    if nummer <= 0:\n",
    "        return 0\n",
    "    else:\n",
    "        return 1"
   ]
  },
  {
   "cell_type": "code",
   "execution_count": 8,
   "metadata": {},
   "outputs": [],
   "source": [
    "def xor_op(nummer1, nummer2):\n",
    "    return or_op(and_op(not_op(nummer1), nummer2), and_op(not_op(nummer2), nummer1))"
   ]
  },
  {
   "cell_type": "code",
   "execution_count": 9,
   "metadata": {},
   "outputs": [],
   "source": [
    "def and_op(nummer1, nummer2):\n",
    "    return hilfsfunktion(0.5 * nummer1 + 0.5 * nummer2 - 0.6)"
   ]
  },
  {
   "cell_type": "code",
   "execution_count": 10,
   "metadata": {},
   "outputs": [],
   "source": [
    "def or_op(nummer1, nummer2):\n",
    "    return  hilfsfunktion(1 * nummer1 + 1 * nummer2 + 0)\n",
    "    "
   ]
  },
  {
   "cell_type": "code",
   "execution_count": 11,
   "metadata": {},
   "outputs": [],
   "source": [
    "def not_op(nummer):\n",
    "    return hilfsfunktion(-1 * nummer + 1)"
   ]
  },
  {
   "cell_type": "markdown",
   "metadata": {},
   "source": [
    "Die XOR Funktion nach der Verknüpfung:\n",
    "\n",
    "xor_op(x,y) = hilfsfunktion(1*(hilfsfunktion(0.5*hilfsfunktion(-1*x+1)+0.5*y-0.6)+0.5*hilfsfunktion(hilfsfunktion(-1*y+1)+0.5*x-0.6)))\n",
    "    "
   ]
  },
  {
   "cell_type": "code",
   "execution_count": 12,
   "metadata": {},
   "outputs": [],
   "source": [
    "def test():\n",
    "\n",
    "    print('XOR (0,0): ', xor_op(0,0))\n",
    "    print('XOR (0,1): ', xor_op(0,1))\n",
    "    print('XOR (1,0): ', xor_op(1,0))\n",
    "    print('XOR (1,1): ', xor_op(1,1))  \n",
    "    print('Nächster Operator:')\n",
    "    print('AND (0,0): ', and_op(0,0))\n",
    "    print('AND (0,1): ', and_op(0,1))\n",
    "    print('AND (1,0): ', and_op(1,0))\n",
    "    print('AND (1,1): ', and_op(1,1))  \n",
    "    print('Nächster Operator:')\n",
    "    print('OR (0,0): ', or_op(0,0))\n",
    "    print('OR (0,1): ', or_op(0,1))\n",
    "    print('OR (1,0): ', or_op(1,0))\n",
    "    print('OR (1,1): ', or_op(1,1))  \n",
    "    print('Nächster Operator:')\n",
    "    print('NOT (0): ', not_op(0))\n",
    "    print('NOT (1): ', not_op(1))"
   ]
  },
  {
   "cell_type": "code",
   "execution_count": 13,
   "metadata": {},
   "outputs": [],
   "source": [
    "def xor(x,y):\n",
    "    return x**2-2*x*y+y**2"
   ]
  },
  {
   "cell_type": "code",
   "execution_count": 14,
   "metadata": {},
   "outputs": [
    {
     "name": "stdout",
     "output_type": "stream",
     "text": [
      "XOR (0,0):  0\n",
      "XOR (0,1):  1\n",
      "XOR (1,0):  1\n",
      "XOR (1,1):  0\n",
      "Nächster Operator:\n",
      "AND (0,0):  0\n",
      "AND (0,1):  0\n",
      "AND (1,0):  0\n",
      "AND (1,1):  1\n",
      "Nächster Operator:\n",
      "OR (0,0):  0\n",
      "OR (0,1):  1\n",
      "OR (1,0):  1\n",
      "OR (1,1):  1\n",
      "Nächster Operator:\n",
      "NOT (0):  1\n",
      "NOT (1):  0\n"
     ]
    }
   ],
   "source": [
    "test()"
   ]
  },
  {
   "cell_type": "markdown",
   "metadata": {},
   "source": [
    "Mit Hilfe der Hilfsfunktion funktioniert es jedoch, da die die Outputs normalisiert.  \n",
    "XOR, AND, Or und NOT liefern nun die richtigen Ergebnisse.\n",
    "\n"
   ]
  },
  {
   "cell_type": "code",
   "execution_count": null,
   "metadata": {},
   "outputs": [],
   "source": []
  },
  {
   "cell_type": "code",
   "execution_count": null,
   "metadata": {},
   "outputs": [],
   "source": []
  },
  {
   "cell_type": "code",
   "execution_count": null,
   "metadata": {},
   "outputs": [],
   "source": []
  },
  {
   "cell_type": "code",
   "execution_count": null,
   "metadata": {},
   "outputs": [],
   "source": []
  }
 ],
 "metadata": {
  "kernelspec": {
   "display_name": "Python 3",
   "language": "python",
   "name": "python3"
  },
  "language_info": {
   "codemirror_mode": {
    "name": "ipython",
    "version": 3
   },
   "file_extension": ".py",
   "mimetype": "text/x-python",
   "name": "python",
   "nbconvert_exporter": "python",
   "pygments_lexer": "ipython3",
   "version": "3.7.3"
  }
 },
 "nbformat": 4,
 "nbformat_minor": 2
}
