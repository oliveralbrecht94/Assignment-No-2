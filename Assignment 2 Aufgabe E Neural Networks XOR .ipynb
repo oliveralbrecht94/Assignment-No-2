{
 "cells": [
  {
   "attachments": {
    "image.png": {
     "image/png": "[encoded data removed]"
    }
   },
   "cell_type": "markdown",
   "metadata": {},
   "source": [
    "Um die Gewichte zu benutzen haben wir eine Hilfsfunktion verwendet:\n",
    "![image.png](attachment:image.png)\n",
    "\n",
    "Diese benötigen wir um die Outputs der anderen Funktionen auf 1 oder 0 zu setzen\n",
    "Die XOR-Function setzt sich wie folgt zusammen: \n",
    "\n",
    "xor(x,y)=h(h(-1*h(x+y-1)+1)+h(x+y)-1)\n"
   ]
  },
  {
   "cell_type": "code",
   "execution_count": 1,
   "metadata": {},
   "outputs": [],
   "source": [
    "def xor(x, y):\n",
    "    ergebnis = 0.5*(-1*(0.5*x+0.5*y-0.6))+0.5*(x+y)-0.6\n",
    "    return ergebnis"
   ]
  },
  {
   "cell_type": "code",
   "execution_count": 2,
   "metadata": {
    "scrolled": true
   },
   "outputs": [
    {
     "data": {
      "text/plain": [
       "0.20000000000000007"
      ]
     },
     "execution_count": 2,
     "metadata": {},
     "output_type": "execute_result"
    }
   ],
   "source": [
    "xor( 1 , 1)"
   ]
  },
  {
   "cell_type": "code",
   "execution_count": 3,
   "metadata": {},
   "outputs": [
    {
     "data": {
      "text/plain": [
       "-0.3"
      ]
     },
     "execution_count": 3,
     "metadata": {},
     "output_type": "execute_result"
    }
   ],
   "source": [
    "xor(0,0)"
   ]
  },
  {
   "cell_type": "code",
   "execution_count": 4,
   "metadata": {},
   "outputs": [
    {
     "data": {
      "text/plain": [
       "-0.04999999999999993"
      ]
     },
     "execution_count": 4,
     "metadata": {},
     "output_type": "execute_result"
    }
   ],
   "source": [
    "xor(0,1)"
   ]
  },
  {
   "cell_type": "code",
   "execution_count": 5,
   "metadata": {},
   "outputs": [
    {
     "data": {
      "text/plain": [
       "-0.04999999999999993"
      ]
     },
     "execution_count": 5,
     "metadata": {},
     "output_type": "execute_result"
    }
   ],
   "source": [
    "xor(1,0)"
   ]
  },
  {
   "cell_type": "code",
   "execution_count": 6,
   "metadata": {},
   "outputs": [],
   "source": [
    "def my_not(number):\n",
    "    print('not: ', number)\n",
    "    return -1 * number + 1;\n",
    "\n",
    "def my_and(x, y):\n",
    "    print('and: ', x, y)\n",
    "    return x+y-1\n",
    "\n",
    "def my_or(x, y):\n",
    "    print('or: ', x,y)\n",
    "    return x + y\n",
    "\n",
    "def xor(x, y):\n",
    "    ergebnis = my_and(my_or(x,y), my_not(my_and(x,y)))\n",
    "    return ergebnis"
   ]
  },
  {
   "cell_type": "code",
   "execution_count": 7,
   "metadata": {},
   "outputs": [
    {
     "name": "stdout",
     "output_type": "stream",
     "text": [
      "or:  1 1\n",
      "and:  1 1\n",
      "not:  1\n",
      "and:  2 0\n"
     ]
    },
    {
     "data": {
      "text/plain": [
       "1"
      ]
     },
     "execution_count": 7,
     "metadata": {},
     "output_type": "execute_result"
    }
   ],
   "source": [
    "xor(1,1)"
   ]
  },
  {
   "cell_type": "code",
   "execution_count": 8,
   "metadata": {},
   "outputs": [
    {
     "name": "stdout",
     "output_type": "stream",
     "text": [
      "or:  0 0\n",
      "and:  0 0\n",
      "not:  -1\n",
      "and:  0 2\n"
     ]
    },
    {
     "data": {
      "text/plain": [
       "1"
      ]
     },
     "execution_count": 8,
     "metadata": {},
     "output_type": "execute_result"
    }
   ],
   "source": [
    "xor(0,0)"
   ]
  },
  {
   "cell_type": "code",
   "execution_count": 9,
   "metadata": {},
   "outputs": [
    {
     "name": "stdout",
     "output_type": "stream",
     "text": [
      "or:  0 1\n",
      "and:  0 1\n",
      "not:  0\n",
      "and:  1 1\n"
     ]
    },
    {
     "data": {
      "text/plain": [
       "1"
      ]
     },
     "execution_count": 9,
     "metadata": {},
     "output_type": "execute_result"
    }
   ],
   "source": [
    "xor(0,1)"
   ]
  },
  {
   "cell_type": "code",
   "execution_count": 10,
   "metadata": {},
   "outputs": [
    {
     "name": "stdout",
     "output_type": "stream",
     "text": [
      "or:  1 0\n",
      "and:  1 0\n",
      "not:  0\n",
      "and:  1 1\n"
     ]
    },
    {
     "data": {
      "text/plain": [
       "1"
      ]
     },
     "execution_count": 10,
     "metadata": {},
     "output_type": "execute_result"
    }
   ],
   "source": [
    "xor(1,0)"
   ]
  },
  {
   "cell_type": "code",
   "execution_count": 11,
   "metadata": {},
   "outputs": [],
   "source": [
    "def my_not(number):\n",
    "    print('not: ', number)\n",
    "    return -1 * number + 1;\n",
    "\n",
    "def my_and(x, y):\n",
    "    print('and: ', x, y)\n",
    "    return 0.5*x+ 0.5*y-1\n",
    "\n",
    "def my_or(x, y):\n",
    "    print('or: ', x,y)\n",
    "    return 0.5*x + 0.5*y \n",
    "\n",
    "def xor(x, y):\n",
    "    ergebnis = my_and(my_or(x,y), my_not(my_and(x,y)))\n",
    "    return ergebnis\n",
    "\n",
    "def test_xor():\n",
    "    print('0,0:',xor(0,0))\n",
    "    print('----------------------------------------')\n",
    "    print('1,1:',xor(1,1))\n",
    "    print('----------------------------------------')\n",
    "    print('0,1:',xor(0,1))\n",
    "    print('----------------------------------------')\n",
    "    print('1,0:',xor(1,0))\n",
    "    "
   ]
  },
  {
   "cell_type": "code",
   "execution_count": 12,
   "metadata": {},
   "outputs": [
    {
     "name": "stdout",
     "output_type": "stream",
     "text": [
      "or:  0 0\n",
      "and:  0 0\n",
      "not:  -1.0\n",
      "and:  0.0 2.0\n",
      "0,0: 0.0\n",
      "----------------------------------------\n",
      "or:  1 1\n",
      "and:  1 1\n",
      "not:  0.0\n",
      "and:  1.0 1.0\n",
      "1,1: 0.0\n",
      "----------------------------------------\n",
      "or:  0 1\n",
      "and:  0 1\n",
      "not:  -0.5\n",
      "and:  0.5 1.5\n",
      "0,1: 0.0\n",
      "----------------------------------------\n",
      "or:  1 0\n",
      "and:  1 0\n",
      "not:  -0.5\n",
      "and:  0.5 1.5\n",
      "1,0: 0.0\n"
     ]
    }
   ],
   "source": [
    "test_xor()"
   ]
  },
  {
   "cell_type": "code",
   "execution_count": 13,
   "metadata": {},
   "outputs": [],
   "source": [
    "def my_not(number):\n",
    "    print('not: ', number)\n",
    "    return -1 * number;\n",
    "\n",
    "def my_and(x, y):\n",
    "    print('and: ', x, y)\n",
    "    return 0.5*x+ 0.5*y-.6\n",
    "\n",
    "def my_or(x, y):\n",
    "    print('or: ', x,y)\n",
    "    return x + y \n",
    "\n",
    "def xor(x, y):\n",
    "    ergebnis = my_or(my_and(y, not(x)), my_and(x, not(y)))\n",
    "    return ergebnis\n",
    "\n",
    "def test_xor():\n",
    "    print('0,0:',xor(0,0))\n",
    "    print('----------------------------------------')\n",
    "    print('1,1:',xor(1,1))\n",
    "    print('----------------------------------------')\n",
    "    print('0,1:',xor(0,1))\n",
    "    print('----------------------------------------')\n",
    "    print('1,0:',xor(1,0))\n",
    "    "
   ]
  },
  {
   "cell_type": "code",
   "execution_count": 14,
   "metadata": {},
   "outputs": [
    {
     "name": "stdout",
     "output_type": "stream",
     "text": [
      "and:  0 True\n",
      "and:  0 True\n",
      "or:  -0.09999999999999998 -0.09999999999999998\n",
      "0,0: -0.19999999999999996\n",
      "----------------------------------------\n",
      "and:  1 False\n",
      "and:  1 False\n",
      "or:  -0.09999999999999998 -0.09999999999999998\n",
      "1,1: -0.19999999999999996\n",
      "----------------------------------------\n",
      "and:  1 True\n",
      "and:  0 False\n",
      "or:  0.4 -0.6\n",
      "0,1: -0.19999999999999996\n",
      "----------------------------------------\n",
      "and:  0 False\n",
      "and:  1 True\n",
      "or:  -0.6 0.4\n",
      "1,0: -0.19999999999999996\n"
     ]
    }
   ],
   "source": [
    "test_xor()"
   ]
  },
  {
   "cell_type": "code",
   "execution_count": 15,
   "metadata": {},
   "outputs": [],
   "source": [
    "def xor(x,y):\n",
    "    return x**2-2*x*y+y**2"
   ]
  },
  {
   "cell_type": "code",
   "execution_count": 16,
   "metadata": {},
   "outputs": [
    {
     "name": "stdout",
     "output_type": "stream",
     "text": [
      "0,0: 0\n",
      "----------------------------------------\n",
      "1,1: 0\n",
      "----------------------------------------\n",
      "0,1: 1\n",
      "----------------------------------------\n",
      "1,0: 1\n"
     ]
    }
   ],
   "source": [
    "test_xor()"
   ]
  },
  {
   "attachments": {
    "image.png": {
     "image/png": "[encoded data removed]"
    }
   },
   "cell_type": "markdown",
   "metadata": {},
   "source": [
    "Es ist nicht möglich, aus diesen Teilen eine Formel zu schreiben.\n",
    "\n",
    "Eine einfache Alternative ist die Formel für XOR:![image.png](attachment:image.png) \n",
    "\n",
    "\n",
    "Mit Hilfe der Hilfsfunktion, funktioniert es jedoch, da diee die Outputs normalisiert.\n",
    "\n"
   ]
  },
  {
   "cell_type": "code",
   "execution_count": 17,
   "metadata": {},
   "outputs": [],
   "source": [
    "def normalize(x):\n",
    "    if x <= 0:\n",
    "        return 0\n",
    "    else:\n",
    "        return 1"
   ]
  },
  {
   "cell_type": "code",
   "execution_count": 18,
   "metadata": {},
   "outputs": [],
   "source": [
    "def my_not(number):\n",
    "    print('not: ', number)\n",
    "    return normalize(-1 * number + 1)\n",
    "\n",
    "def my_and(x, y):\n",
    "    print('and: ', x, y)\n",
    "    return normalize(x+ y-1)\n",
    "\n",
    "def my_or(x, y):\n",
    "    print('or: ', x,y)\n",
    "    return normalize(x + y) \n",
    "\n",
    "def xor(x, y):\n",
    "    ergebnis = my_or(my_and(y, not(x)), my_and(x, not(y)))\n",
    "    return ergebnis\n",
    "\n",
    "def test_xor():\n",
    "    print('0,0:',xor(0,0))\n",
    "    print('----------------------------------------')\n",
    "    print('1,0:',xor(1,0))\n",
    "    print('----------------------------------------')\n",
    "    print('0,1:',xor(0,1))\n",
    "    print('----------------------------------------')\n",
    "    print('1,1:',xor(1,1))"
   ]
  },
  {
   "cell_type": "code",
   "execution_count": 19,
   "metadata": {},
   "outputs": [
    {
     "name": "stdout",
     "output_type": "stream",
     "text": [
      "and:  0 True\n",
      "and:  0 True\n",
      "or:  0 0\n",
      "0,0: 0\n",
      "----------------------------------------\n",
      "and:  0 False\n",
      "and:  1 True\n",
      "or:  0 1\n",
      "1,0: 1\n",
      "----------------------------------------\n",
      "and:  1 True\n",
      "and:  0 False\n",
      "or:  1 0\n",
      "0,1: 1\n",
      "----------------------------------------\n",
      "and:  1 False\n",
      "and:  1 False\n",
      "or:  0 0\n",
      "1,1: 0\n"
     ]
    }
   ],
   "source": [
    "test_xor()"
   ]
  },
  {
   "cell_type": "code",
   "execution_count": null,
   "metadata": {},
   "outputs": [],
   "source": []
  }
 ],
 "metadata": {
  "kernelspec": {
   "display_name": "Python 3",
   "language": "python",
   "name": "python3"
  },
  "language_info": {
   "codemirror_mode": {
    "name": "ipython",
    "version": 3
   },
   "file_extension": ".py",
   "mimetype": "text/x-python",
   "name": "python",
   "nbconvert_exporter": "python",
   "pygments_lexer": "ipython3",
   "version": "3.7.3"
  }
 },
 "nbformat": 4,
 "nbformat_minor": 2
}
