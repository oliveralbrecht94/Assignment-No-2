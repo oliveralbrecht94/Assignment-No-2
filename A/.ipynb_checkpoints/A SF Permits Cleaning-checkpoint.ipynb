{
 "cells": [
  {
   "cell_type": "markdown",
   "metadata": {},
   "source": [
    "**1) Download the Building_Permits.csv from Kaggle**\n",
    "\n",
    "\n",
    "**2) Clean the San Francisco Building permit dataset**\n",
    "\n",
    "\n",
    "**3) Use imputation were necessary**\n",
    "\n"
   ]
  },
  {
   "cell_type": "markdown",
   "metadata": {},
   "source": [
    "### Import der Daten & Python Pakete"
   ]
  },
  {
   "cell_type": "code",
   "execution_count": 514,
   "metadata": {},
   "outputs": [],
   "source": [
    "import numpy as np \n",
    "import pandas as pd \n",
    "\n",
    "from sklearn import preprocessing\n",
    "import matplotlib.pyplot as plt \n",
    "plt.rc(\"font\", size=14)\n",
    "import seaborn as sns\n",
    "\n",
    "sns.set(style=\"white\")\n",
    "sns.set(style=\"whitegrid\", color_codes=True)\n"
   ]
  },
  {
   "cell_type": "code",
   "execution_count": 515,
   "metadata": {},
   "outputs": [
    {
     "data": {
      "text/html": [
       "<div>\n",
       "<style scoped>\n",
       "    .dataframe tbody tr th:only-of-type {\n",
       "        vertical-align: middle;\n",
       "    }\n",
       "\n",
       "    .dataframe tbody tr th {\n",
       "        vertical-align: top;\n",
       "    }\n",
       "\n",
       "    .dataframe thead th {\n",
       "        text-align: right;\n",
       "    }\n",
       "</style>\n",
       "<table border=\"1\" class=\"dataframe\">\n",
       "  <thead>\n",
       "    <tr style=\"text-align: right;\">\n",
       "      <th></th>\n",
       "      <th>Permit Number</th>\n",
       "      <th>Permit Type</th>\n",
       "      <th>Permit Type Definition</th>\n",
       "      <th>Permit Creation Date</th>\n",
       "      <th>Block</th>\n",
       "      <th>Lot</th>\n",
       "      <th>Street Number</th>\n",
       "      <th>Street Number Suffix</th>\n",
       "      <th>Street Name</th>\n",
       "      <th>Street Suffix</th>\n",
       "      <th>...</th>\n",
       "      <th>Existing Construction Type</th>\n",
       "      <th>Existing Construction Type Description</th>\n",
       "      <th>Proposed Construction Type</th>\n",
       "      <th>Proposed Construction Type Description</th>\n",
       "      <th>Site Permit</th>\n",
       "      <th>Supervisor District</th>\n",
       "      <th>Neighborhoods - Analysis Boundaries</th>\n",
       "      <th>Zipcode</th>\n",
       "      <th>Location</th>\n",
       "      <th>Record ID</th>\n",
       "    </tr>\n",
       "  </thead>\n",
       "  <tbody>\n",
       "    <tr>\n",
       "      <th>40553</th>\n",
       "      <td>201403039652</td>\n",
       "      <td>8</td>\n",
       "      <td>otc alterations permit</td>\n",
       "      <td>03/03/2014</td>\n",
       "      <td>3732</td>\n",
       "      <td>008</td>\n",
       "      <td>400</td>\n",
       "      <td>NaN</td>\n",
       "      <td>Clementina</td>\n",
       "      <td>St</td>\n",
       "      <td>...</td>\n",
       "      <td>NaN</td>\n",
       "      <td>NaN</td>\n",
       "      <td>1.0</td>\n",
       "      <td>constr type 1</td>\n",
       "      <td>NaN</td>\n",
       "      <td>6.0</td>\n",
       "      <td>South of Market</td>\n",
       "      <td>94103.0</td>\n",
       "      <td>(37.780460571778164, -122.40450626524974)</td>\n",
       "      <td>1334094491645</td>\n",
       "    </tr>\n",
       "    <tr>\n",
       "      <th>169731</th>\n",
       "      <td>201510159735</td>\n",
       "      <td>3</td>\n",
       "      <td>additions alterations or repairs</td>\n",
       "      <td>10/15/2015</td>\n",
       "      <td>2609</td>\n",
       "      <td>028</td>\n",
       "      <td>79</td>\n",
       "      <td>NaN</td>\n",
       "      <td>Buena Vista</td>\n",
       "      <td>Tr</td>\n",
       "      <td>...</td>\n",
       "      <td>5.0</td>\n",
       "      <td>wood frame (5)</td>\n",
       "      <td>5.0</td>\n",
       "      <td>wood frame (5)</td>\n",
       "      <td>NaN</td>\n",
       "      <td>8.0</td>\n",
       "      <td>Castro/Upper Market</td>\n",
       "      <td>94117.0</td>\n",
       "      <td>(37.76757916496494, -122.43793170417105)</td>\n",
       "      <td>1399356139170</td>\n",
       "    </tr>\n",
       "    <tr>\n",
       "      <th>19180</th>\n",
       "      <td>M409787</td>\n",
       "      <td>8</td>\n",
       "      <td>otc alterations permit</td>\n",
       "      <td>07/22/2013</td>\n",
       "      <td>4624</td>\n",
       "      <td>031</td>\n",
       "      <td>178</td>\n",
       "      <td>NaN</td>\n",
       "      <td>West Point</td>\n",
       "      <td>Rd</td>\n",
       "      <td>...</td>\n",
       "      <td>NaN</td>\n",
       "      <td>NaN</td>\n",
       "      <td>NaN</td>\n",
       "      <td>NaN</td>\n",
       "      <td>NaN</td>\n",
       "      <td>10.0</td>\n",
       "      <td>Bayview Hunters Point</td>\n",
       "      <td>94124.0</td>\n",
       "      <td>(37.73524725436046, -122.38063828309745)</td>\n",
       "      <td>1311685491725</td>\n",
       "    </tr>\n",
       "    <tr>\n",
       "      <th>68047</th>\n",
       "      <td>201411191888</td>\n",
       "      <td>8</td>\n",
       "      <td>otc alterations permit</td>\n",
       "      <td>11/19/2014</td>\n",
       "      <td>0039</td>\n",
       "      <td>109</td>\n",
       "      <td>294</td>\n",
       "      <td>NaN</td>\n",
       "      <td>Francisco</td>\n",
       "      <td>St</td>\n",
       "      <td>...</td>\n",
       "      <td>5.0</td>\n",
       "      <td>wood frame (5)</td>\n",
       "      <td>5.0</td>\n",
       "      <td>wood frame (5)</td>\n",
       "      <td>NaN</td>\n",
       "      <td>3.0</td>\n",
       "      <td>North Beach</td>\n",
       "      <td>94133.0</td>\n",
       "      <td>(37.805257822817126, -122.40998545760392)</td>\n",
       "      <td>1362881288870</td>\n",
       "    </tr>\n",
       "    <tr>\n",
       "      <th>64238</th>\n",
       "      <td>M527228</td>\n",
       "      <td>8</td>\n",
       "      <td>otc alterations permit</td>\n",
       "      <td>10/14/2014</td>\n",
       "      <td>1251</td>\n",
       "      <td>002</td>\n",
       "      <td>707</td>\n",
       "      <td>NaN</td>\n",
       "      <td>Cole</td>\n",
       "      <td>St</td>\n",
       "      <td>...</td>\n",
       "      <td>NaN</td>\n",
       "      <td>NaN</td>\n",
       "      <td>NaN</td>\n",
       "      <td>NaN</td>\n",
       "      <td>NaN</td>\n",
       "      <td>5.0</td>\n",
       "      <td>Haight Ashbury</td>\n",
       "      <td>94117.0</td>\n",
       "      <td>(37.76836885973765, -122.45074431487859)</td>\n",
       "      <td>135886493776</td>\n",
       "    </tr>\n",
       "  </tbody>\n",
       "</table>\n",
       "<p>5 rows × 43 columns</p>\n",
       "</div>"
      ],
      "text/plain": [
       "       Permit Number  Permit Type            Permit Type Definition  \\\n",
       "40553   201403039652            8            otc alterations permit   \n",
       "169731  201510159735            3  additions alterations or repairs   \n",
       "19180        M409787            8            otc alterations permit   \n",
       "68047   201411191888            8            otc alterations permit   \n",
       "64238        M527228            8            otc alterations permit   \n",
       "\n",
       "       Permit Creation Date Block  Lot  Street Number Street Number Suffix  \\\n",
       "40553            03/03/2014  3732  008            400                  NaN   \n",
       "169731           10/15/2015  2609  028             79                  NaN   \n",
       "19180            07/22/2013  4624  031            178                  NaN   \n",
       "68047            11/19/2014  0039  109            294                  NaN   \n",
       "64238            10/14/2014  1251  002            707                  NaN   \n",
       "\n",
       "        Street Name Street Suffix  ...  Existing Construction Type  \\\n",
       "40553    Clementina            St  ...                         NaN   \n",
       "169731  Buena Vista            Tr  ...                         5.0   \n",
       "19180    West Point            Rd  ...                         NaN   \n",
       "68047     Francisco            St  ...                         5.0   \n",
       "64238          Cole            St  ...                         NaN   \n",
       "\n",
       "       Existing Construction Type Description Proposed Construction Type  \\\n",
       "40553                                     NaN                        1.0   \n",
       "169731                         wood frame (5)                        5.0   \n",
       "19180                                     NaN                        NaN   \n",
       "68047                          wood frame (5)                        5.0   \n",
       "64238                                     NaN                        NaN   \n",
       "\n",
       "       Proposed Construction Type Description Site Permit Supervisor District  \\\n",
       "40553                           constr type 1         NaN                 6.0   \n",
       "169731                         wood frame (5)         NaN                 8.0   \n",
       "19180                                     NaN         NaN                10.0   \n",
       "68047                          wood frame (5)         NaN                 3.0   \n",
       "64238                                     NaN         NaN                 5.0   \n",
       "\n",
       "       Neighborhoods - Analysis Boundaries  Zipcode  \\\n",
       "40553                      South of Market  94103.0   \n",
       "169731                 Castro/Upper Market  94117.0   \n",
       "19180                Bayview Hunters Point  94124.0   \n",
       "68047                          North Beach  94133.0   \n",
       "64238                       Haight Ashbury  94117.0   \n",
       "\n",
       "                                         Location      Record ID  \n",
       "40553   (37.780460571778164, -122.40450626524974)  1334094491645  \n",
       "169731   (37.76757916496494, -122.43793170417105)  1399356139170  \n",
       "19180    (37.73524725436046, -122.38063828309745)  1311685491725  \n",
       "68047   (37.805257822817126, -122.40998545760392)  1362881288870  \n",
       "64238    (37.76836885973765, -122.45074431487859)   135886493776  \n",
       "\n",
       "[5 rows x 43 columns]"
      ]
     },
     "execution_count": 515,
     "metadata": {},
     "output_type": "execute_result"
    }
   ],
   "source": [
    "# get building_permit csv files as a DataFrame\n",
    "\n",
    "#developmental data (train)\n",
    "building_df = pd.read_csv(\"./Building_Permits.csv\")\n",
    "\n",
    "#cross validation data (hold-out testing)\n",
    "#test_df    = pd.read_csv(\"./titanic/test.csv\")\n",
    "np.random.seed(0) \n",
    "# preview developmental data\n",
    "building_df.sample(5)"
   ]
  },
  {
   "cell_type": "markdown",
   "metadata": {},
   "source": [
    "### Datenanalyse - Wie viele Werte fehlen in welcher Spalte?"
   ]
  },
  {
   "cell_type": "code",
   "execution_count": 516,
   "metadata": {},
   "outputs": [
    {
     "data": {
      "text/plain": [
       "TIDF Compliance                           0.999990\n",
       "Voluntary Soft-Story Retrofit             0.999824\n",
       "Unit Suffix                               0.990141\n",
       "Street Number Suffix                      0.988859\n",
       "Site Permit                               0.973057\n",
       "Structural Notification                   0.965199\n",
       "Fire Only Permit                          0.905344\n",
       "Unit                                      0.851790\n",
       "Completed Date                            0.511357\n",
       "Permit Expiration Date                    0.260835\n",
       "Existing Units                            0.259115\n",
       "Proposed Units                            0.255963\n",
       "Existing Construction Type                0.218029\n",
       "Existing Construction Type Description    0.218029\n",
       "Proposed Construction Type                0.217004\n",
       "Proposed Construction Type Description    0.217004\n",
       "Number of Proposed Stories                0.215525\n",
       "Number of Existing Stories                0.215103\n",
       "Proposed Use                              0.213369\n",
       "Existing Use                              0.206707\n",
       "Estimated Cost                            0.191383\n",
       "Plansets                                  0.187577\n",
       "First Construction Document Date          0.075143\n",
       "Issued Date                               0.075113\n",
       "Revised Cost                              0.030498\n",
       "Street Suffix                             0.013917\n",
       "Neighborhoods - Analysis Boundaries       0.008673\n",
       "Supervisor District                       0.008632\n",
       "Zipcode                                   0.008627\n",
       "Location                                  0.008547\n",
       "Description                               0.001458\n",
       "Lot                                       0.000000\n",
       "Permit Type                               0.000000\n",
       "Permit Type Definition                    0.000000\n",
       "Permit Creation Date                      0.000000\n",
       "Block                                     0.000000\n",
       "Record ID                                 0.000000\n",
       "Street Number                             0.000000\n",
       "Street Name                               0.000000\n",
       "Current Status                            0.000000\n",
       "Current Status Date                       0.000000\n",
       "Filed Date                                0.000000\n",
       "Permit Number                             0.000000\n",
       "dtype: float64"
      ]
     },
     "execution_count": 516,
     "metadata": {},
     "output_type": "execute_result"
    }
   ],
   "source": [
    "#Find out what percent of the sf_permits dataset is missing total count of missing values in each column\n",
    "missing_values = building_df.isnull().sum()\n",
    "\n",
    "sums = building_df.isnull().sum()\n",
    "missing_percent = (sums/building_df.shape[0]).sort_values(ascending=False)\n",
    "missing_percent"
   ]
  },
  {
   "cell_type": "code",
   "execution_count": 517,
   "metadata": {},
   "outputs": [
    {
     "data": {
      "text/plain": [
       "26.26002315058403"
      ]
     },
     "execution_count": 517,
     "metadata": {},
     "output_type": "execute_result"
    }
   ],
   "source": [
    "# total number of cells \n",
    "total_cells = np.product(building_df.shape)\n",
    "# total missing values \n",
    "missing_values = building_df.isnull().sum()\n",
    "total_missing_values = missing_values.sum()\n",
    "\n",
    "# percentage of nan or None cells \n",
    "nan_or_null_cell_percentage = (total_missing_values/total_cells)*100\n",
    "nan_or_null_cell_percentage"
   ]
  },
  {
   "cell_type": "markdown",
   "metadata": {},
   "source": [
    "### Bemerkung\n",
    "\n",
    "Insgesamt fehlen über 26% der Einträge in den Spalten. \n",
    "\n",
    "bei folgenden Spalten (in %) fehlen extrem viele Werte und sind damit ungeinget, falls wir später mit Hilfe dieser Daten etwas vorhersagen möchten: \n",
    "\n",
    "\n",
    "* TIDF Compliance                           100.00\n",
    "* Voluntary Soft-Story Retrofit              99.98\n",
    "* Unit Suffix                                99.01\n",
    "* Street Number Suffix                       98.89\n",
    "* Site Permit                                97.31\n",
    "* Structural Notification                    96.52\n",
    "* Fire Only Permit                           90.53\n",
    "* Unit                                       85.18\n",
    "* Completed Date                             51.14"
   ]
  },
  {
   "cell_type": "markdown",
   "metadata": {},
   "source": [
    "### Entschluss - Einfügen Y/N Spalten\n",
    "\n",
    "Wir haben uns darauf geeinigt, dass wir den Großteil der Spalten ignorieren und bei Voluntary Soft-Story Retrofit, Site Permit und Fire Only Permit bei allen fehlenden Werten ein N (No) eintragen, da dies nur Y/N Spalten sind. Somit füllen wir die \"fehlenden\" Werte auf und können diese für die Prediction verwenden."
   ]
  },
  {
   "cell_type": "code",
   "execution_count": 518,
   "metadata": {},
   "outputs": [
    {
     "data": {
      "text/plain": [
       "Y    35\n",
       "Name: Voluntary Soft-Story Retrofit, dtype: int64"
      ]
     },
     "execution_count": 518,
     "metadata": {},
     "output_type": "execute_result"
    }
   ],
   "source": [
    "building_df['Voluntary Soft-Story Retrofit'].value_counts()\n"
   ]
  },
  {
   "cell_type": "code",
   "execution_count": 519,
   "metadata": {},
   "outputs": [
    {
     "data": {
      "text/plain": [
       "Y    5359\n",
       "Name: Site Permit, dtype: int64"
      ]
     },
     "execution_count": 519,
     "metadata": {},
     "output_type": "execute_result"
    }
   ],
   "source": [
    "building_df['Site Permit'].value_counts()\n"
   ]
  },
  {
   "cell_type": "code",
   "execution_count": 520,
   "metadata": {},
   "outputs": [
    {
     "data": {
      "text/plain": [
       "Y    18827\n",
       "Name: Fire Only Permit, dtype: int64"
      ]
     },
     "execution_count": 520,
     "metadata": {},
     "output_type": "execute_result"
    }
   ],
   "source": [
    "building_df['Fire Only Permit'].value_counts()"
   ]
  },
  {
   "cell_type": "code",
   "execution_count": 521,
   "metadata": {},
   "outputs": [],
   "source": [
    "# Die Spalte besteht nur aus Y oder kein Y, daher fügen wir bei keinem Y einfach ein N hinzu.  \n",
    "building_df['Voluntary Soft-Story Retrofit'] = np.where(building_df['Voluntary Soft-Story Retrofit']=='Y', 'Y', 'N')\n",
    "building_df['Site Permit'] = np.where(building_df['Site Permit']=='Y', 'Y', 'N')\n",
    "building_df['Fire Only Permit'] = np.where(building_df['Fire Only Permit']=='Y', 'Y', 'N')"
   ]
  },
  {
   "cell_type": "code",
   "execution_count": 522,
   "metadata": {},
   "outputs": [
    {
     "data": {
      "text/plain": [
       "N    180073\n",
       "Y     18827\n",
       "Name: Fire Only Permit, dtype: int64"
      ]
     },
     "execution_count": 522,
     "metadata": {},
     "output_type": "execute_result"
    }
   ],
   "source": [
    "# hat geklappt\n",
    "building_df['Fire Only Permit'].value_counts()"
   ]
  },
  {
   "cell_type": "markdown",
   "metadata": {},
   "source": [
    "### Ergebnis\n",
    "\n",
    "Wie man sieht, fehlen jetzt keine Werte mehr in den oben behandelten Spalten: "
   ]
  },
  {
   "cell_type": "code",
   "execution_count": 523,
   "metadata": {},
   "outputs": [
    {
     "data": {
      "text/plain": [
       "TIDF Compliance                           0.999990\n",
       "Unit Suffix                               0.990141\n",
       "Street Number Suffix                      0.988859\n",
       "Structural Notification                   0.965199\n",
       "Unit                                      0.851790\n",
       "Completed Date                            0.511357\n",
       "Permit Expiration Date                    0.260835\n",
       "Existing Units                            0.259115\n",
       "Proposed Units                            0.255963\n",
       "Existing Construction Type Description    0.218029\n",
       "Existing Construction Type                0.218029\n",
       "Proposed Construction Type                0.217004\n",
       "Proposed Construction Type Description    0.217004\n",
       "Number of Proposed Stories                0.215525\n",
       "Number of Existing Stories                0.215103\n",
       "Proposed Use                              0.213369\n",
       "Existing Use                              0.206707\n",
       "Estimated Cost                            0.191383\n",
       "Plansets                                  0.187577\n",
       "First Construction Document Date          0.075143\n",
       "Issued Date                               0.075113\n",
       "Revised Cost                              0.030498\n",
       "Street Suffix                             0.013917\n",
       "Neighborhoods - Analysis Boundaries       0.008673\n",
       "Supervisor District                       0.008632\n",
       "Zipcode                                   0.008627\n",
       "Location                                  0.008547\n",
       "Description                               0.001458\n",
       "Permit Type Definition                    0.000000\n",
       "Permit Creation Date                      0.000000\n",
       "Permit Type                               0.000000\n",
       "Block                                     0.000000\n",
       "Lot                                       0.000000\n",
       "Street Number                             0.000000\n",
       "Record ID                                 0.000000\n",
       "Street Name                               0.000000\n",
       "Current Status                            0.000000\n",
       "Current Status Date                       0.000000\n",
       "Filed Date                                0.000000\n",
       "Voluntary Soft-Story Retrofit             0.000000\n",
       "Fire Only Permit                          0.000000\n",
       "Site Permit                               0.000000\n",
       "Permit Number                             0.000000\n",
       "dtype: float64"
      ]
     },
     "execution_count": 523,
     "metadata": {},
     "output_type": "execute_result"
    }
   ],
   "source": [
    "sums = building_df.isnull().sum()\n",
    "missing_percent = (sums/building_df.shape[0]).sort_values(ascending=False)\n",
    "missing_percent"
   ]
  },
  {
   "cell_type": "markdown",
   "metadata": {},
   "source": [
    "Als nächsten werden folgende restlichen Spalten behandelt:\n",
    "\n",
    "* TIDF Compliance                           100.00\n",
    "* Unit Suffix                                99.01\n",
    "* Street Number Suffix                       98.89\n",
    "* Structural Notification                    96.52\n",
    "* Unit                                       85.18\n",
    "* Completed Date                             51.14\n",
    "\n",
    "### Ignorieren der Spalten mit vielen fehlenden Werten\n",
    "\n",
    "Da eine rekonstruktion bzw. Imputation zu aufwändig ist bzw. dafür auch zu viele Daten fehlen ( >50%) werden wir die oben aufgezählten Spalten ignorieren. Nach unsrerem Verständnis ergbit es auch keine Sinn, dass wir anhand von bspw. der Street Number Suffix etwas vorhersagen und außerdem wäre es hier zu aufwändig im Verhältnis zum Nutzen"
   ]
  },
  {
   "cell_type": "code",
   "execution_count": 524,
   "metadata": {},
   "outputs": [],
   "source": [
    "def drop_column(column_name):\n",
    "    building_df.drop(column_name, axis=1, inplace=True)\n",
    "for i in range(len(missing_percent)):\n",
    "    if ( missing_percent[i] > 0.5):\n",
    "        drop_column(missing_percent.index[i])\n",
    "    else:\n",
    "        break"
   ]
  },
  {
   "cell_type": "markdown",
   "metadata": {},
   "source": [
    "Wie wir sehen können, wurden die entsprechenden Spalten gelöscht."
   ]
  },
  {
   "cell_type": "code",
   "execution_count": 525,
   "metadata": {},
   "outputs": [
    {
     "data": {
      "text/plain": [
       "Permit Expiration Date                    0.260835\n",
       "Existing Units                            0.259115\n",
       "Proposed Units                            0.255963\n",
       "Existing Construction Type Description    0.218029\n",
       "Existing Construction Type                0.218029\n",
       "Proposed Construction Type Description    0.217004\n",
       "Proposed Construction Type                0.217004\n",
       "Number of Proposed Stories                0.215525\n",
       "Number of Existing Stories                0.215103\n",
       "Proposed Use                              0.213369\n",
       "Existing Use                              0.206707\n",
       "Estimated Cost                            0.191383\n",
       "Plansets                                  0.187577\n",
       "First Construction Document Date          0.075143\n",
       "Issued Date                               0.075113\n",
       "Revised Cost                              0.030498\n",
       "Street Suffix                             0.013917\n",
       "Neighborhoods - Analysis Boundaries       0.008673\n",
       "Supervisor District                       0.008632\n",
       "Zipcode                                   0.008627\n",
       "Location                                  0.008547\n",
       "Description                               0.001458\n",
       "Street Number                             0.000000\n",
       "Permit Type Definition                    0.000000\n",
       "Permit Type                               0.000000\n",
       "Permit Creation Date                      0.000000\n",
       "Block                                     0.000000\n",
       "Lot                                       0.000000\n",
       "Record ID                                 0.000000\n",
       "Fire Only Permit                          0.000000\n",
       "Street Name                               0.000000\n",
       "Current Status                            0.000000\n",
       "Current Status Date                       0.000000\n",
       "Filed Date                                0.000000\n",
       "Voluntary Soft-Story Retrofit             0.000000\n",
       "Site Permit                               0.000000\n",
       "Permit Number                             0.000000\n",
       "dtype: float64"
      ]
     },
     "execution_count": 525,
     "metadata": {},
     "output_type": "execute_result"
    }
   ],
   "source": [
    "sums = building_df.isnull().sum()\n",
    "missing_percent = (sums/building_df.shape[0]).sort_values(ascending=False)\n",
    "missing_percent"
   ]
  },
  {
   "cell_type": "markdown",
   "metadata": {},
   "source": [
    "Nach der Behandlung der Daten fehlen nur noch knapp 8,4 % der Daten"
   ]
  },
  {
   "cell_type": "code",
   "execution_count": 526,
   "metadata": {},
   "outputs": [
    {
     "data": {
      "text/plain": [
       "8.39526857173916"
      ]
     },
     "execution_count": 526,
     "metadata": {},
     "output_type": "execute_result"
    }
   ],
   "source": [
    "# total number of cells \n",
    "total_cells = np.product(building_df.shape)\n",
    "# total missing values \n",
    "missing_values = building_df.isnull().sum()\n",
    "total_missing_values = missing_values.sum()\n",
    "\n",
    "# percentage of nan or None cells \n",
    "nan_or_null_cell_percentage = (total_missing_values/total_cells)*100\n",
    "nan_or_null_cell_percentage"
   ]
  },
  {
   "cell_type": "markdown",
   "metadata": {},
   "source": [
    "### Beschreibenden Spalten ignorieren\n",
    "\n",
    "Nachdem wir die Spalten mit den meistfehlenden Einträgen behandelt haben, schauen wir uns den restlichen Datensatz an. Wir können hier erkennen, dass es einige Spalten gibt, die andere wiederum  beschreiben.\n",
    "\n",
    "Permit Type - Permit Type Definition\n",
    "\n",
    "Wir haben uns entschieden, die Spalte rauszuschmeißen, welche eine numerische Spalte beschreibt -- Also Permit Type Definition z.B"
   ]
  },
  {
   "cell_type": "code",
   "execution_count": 527,
   "metadata": {},
   "outputs": [],
   "source": [
    "unuseful_columns = ['Record ID', 'Description', 'Permit Type Definition', 'Existing Construction Type Description', 'Proposed Construction Type Description']\n",
    "building_df.drop(unuseful_columns, axis=1, inplace=True)\n"
   ]
  },
  {
   "cell_type": "code",
   "execution_count": 528,
   "metadata": {},
   "outputs": [
    {
     "data": {
      "text/plain": [
       "Permit Number                                                       201505065519\n",
       "Permit Type                                                                    4\n",
       "Permit Creation Date                                                  05/06/2015\n",
       "Block                                                                       0326\n",
       "Lot                                                                          023\n",
       "Street Number                                                                140\n",
       "Street Name                                                                Ellis\n",
       "Street Suffix                                                                 St\n",
       "Current Status                                                           expired\n",
       "Current Status Date                                                   12/21/2017\n",
       "Filed Date                                                            05/06/2015\n",
       "Issued Date                                                           11/09/2015\n",
       "First Construction Document Date                                      11/09/2015\n",
       "Number of Existing Stories                                                     6\n",
       "Number of Proposed Stories                                                   NaN\n",
       "Voluntary Soft-Story Retrofit                                                  N\n",
       "Fire Only Permit                                                               N\n",
       "Permit Expiration Date                                                11/03/2016\n",
       "Estimated Cost                                                              4000\n",
       "Revised Cost                                                                4000\n",
       "Existing Use                                                 tourist hotel/motel\n",
       "Existing Units                                                               143\n",
       "Proposed Use                                                                 NaN\n",
       "Proposed Units                                                               NaN\n",
       "Plansets                                                                       2\n",
       "Existing Construction Type                                                     3\n",
       "Proposed Construction Type                                                   NaN\n",
       "Site Permit                                                                    N\n",
       "Supervisor District                                                            3\n",
       "Neighborhoods - Analysis Boundaries                                   Tenderloin\n",
       "Zipcode                                                                    94102\n",
       "Location                               (37.785719256680785, -122.40852313194863)\n",
       "Name: 0, dtype: object"
      ]
     },
     "execution_count": 528,
     "metadata": {},
     "output_type": "execute_result"
    }
   ],
   "source": [
    "#show columns\n",
    "building_df.iloc[0]"
   ]
  },
  {
   "cell_type": "code",
   "execution_count": 529,
   "metadata": {},
   "outputs": [
    {
     "data": {
      "text/plain": [
       "Permit Expiration Date                 0.260835\n",
       "Existing Units                         0.259115\n",
       "Proposed Units                         0.255963\n",
       "Existing Construction Type             0.218029\n",
       "Proposed Construction Type             0.217004\n",
       "Number of Proposed Stories             0.215525\n",
       "Number of Existing Stories             0.215103\n",
       "Proposed Use                           0.213369\n",
       "Existing Use                           0.206707\n",
       "Estimated Cost                         0.191383\n",
       "Plansets                               0.187577\n",
       "First Construction Document Date       0.075143\n",
       "Issued Date                            0.075113\n",
       "Revised Cost                           0.030498\n",
       "Street Suffix                          0.013917\n",
       "Neighborhoods - Analysis Boundaries    0.008673\n",
       "Supervisor District                    0.008632\n",
       "Zipcode                                0.008627\n",
       "Location                               0.008547\n",
       "Permit Creation Date                   0.000000\n",
       "Street Name                            0.000000\n",
       "Permit Type                            0.000000\n",
       "Block                                  0.000000\n",
       "Lot                                    0.000000\n",
       "Street Number                          0.000000\n",
       "Voluntary Soft-Story Retrofit          0.000000\n",
       "Current Status                         0.000000\n",
       "Current Status Date                    0.000000\n",
       "Filed Date                             0.000000\n",
       "Fire Only Permit                       0.000000\n",
       "Site Permit                            0.000000\n",
       "Permit Number                          0.000000\n",
       "dtype: float64"
      ]
     },
     "execution_count": 529,
     "metadata": {},
     "output_type": "execute_result"
    }
   ],
   "source": [
    "sums = building_df.isnull().sum()\n",
    "missing_percent = (sums/building_df.shape[0]).sort_values(ascending=False)\n",
    "missing_percent"
   ]
  },
  {
   "cell_type": "markdown",
   "metadata": {},
   "source": [
    "### Logischer Zusammenhang zw. Proposed Spalten und Existing Spalten\n",
    "\n",
    "Wir haben uns den Datensatz mal genauer angeschaut und fest gestellt, dass bei vielen Tupeln, die Einträge bei Proposed Spalten und Existing Spalten identisch sind (immer über ca. 75%). Wir haben uns daher entschieden. dass wir die Werte der Proposed  Spalten in die Existing Spalten überführen und die Proposed Spalte danach ignorieren, da die Zahlen nicht zu unterschiedlich sein sollten und wir denken, dass die'Existing'-Spalten für Baugenehmigungen wichtiger sind. "
   ]
  },
  {
   "cell_type": "code",
   "execution_count": 530,
   "metadata": {},
   "outputs": [
    {
     "data": {
      "text/plain": [
       "0.7422976370035194"
      ]
     },
     "execution_count": 530,
     "metadata": {},
     "output_type": "execute_result"
    }
   ],
   "source": [
    "(building_df['Existing Use'] == building_df['Proposed Use']).sum() / len(building_df['Proposed Use'])"
   ]
  },
  {
   "cell_type": "code",
   "execution_count": 531,
   "metadata": {},
   "outputs": [
    {
     "data": {
      "text/plain": [
       "0.7635796882855707"
      ]
     },
     "execution_count": 531,
     "metadata": {},
     "output_type": "execute_result"
    }
   ],
   "source": [
    "(building_df['Existing Construction Type'] == building_df['Proposed Construction Type']).sum() / len(building_df['Proposed Construction Type'])"
   ]
  },
  {
   "cell_type": "code",
   "execution_count": 532,
   "metadata": {},
   "outputs": [
    {
     "data": {
      "text/plain": [
       "0.969502262443439"
      ]
     },
     "execution_count": 532,
     "metadata": {},
     "output_type": "execute_result"
    }
   ],
   "source": [
    "(building_df['Revised Cost'] == building_df['Revised Cost']).sum() / len(building_df['Estimated Cost'])"
   ]
  },
  {
   "cell_type": "code",
   "execution_count": 533,
   "metadata": {},
   "outputs": [
    {
     "data": {
      "text/plain": [
       "0.7525641025641026"
      ]
     },
     "execution_count": 533,
     "metadata": {},
     "output_type": "execute_result"
    }
   ],
   "source": [
    "(building_df['Number of Existing Stories'] == building_df['Number of Proposed Stories']).sum() / len(building_df['Number of Proposed Stories'])"
   ]
  },
  {
   "cell_type": "code",
   "execution_count": 534,
   "metadata": {},
   "outputs": [
    {
     "data": {
      "text/plain": [
       "0.7635796882855707"
      ]
     },
     "execution_count": 534,
     "metadata": {},
     "output_type": "execute_result"
    }
   ],
   "source": [
    "(building_df['Existing Construction Type'] == building_df['Proposed Construction Type']).sum() / len(building_df['Proposed Construction Type'])"
   ]
  },
  {
   "cell_type": "code",
   "execution_count": 535,
   "metadata": {},
   "outputs": [],
   "source": [
    "building_df['Existing Use'].fillna(building_df['Proposed Use'], inplace=True)\n",
    "building_df['Revised Cost'].fillna(building_df['Estimated Cost'], inplace=True)\n",
    "building_df['Existing Units'].fillna(building_df['Proposed Units'], inplace=True)\n",
    "building_df['Number of Existing Stories'].fillna(building_df['Number of Proposed Stories'], inplace=True)\n",
    "building_df['Existing Construction Type'].fillna(building_df['Proposed Construction Type'], inplace=True)"
   ]
  },
  {
   "cell_type": "markdown",
   "metadata": {},
   "source": [
    "Anmerkung: Die Werte haben sich leicht verbessert"
   ]
  },
  {
   "cell_type": "code",
   "execution_count": 536,
   "metadata": {},
   "outputs": [
    {
     "data": {
      "text/plain": [
       "Permit Expiration Date                 0.260835\n",
       "Proposed Units                         0.255963\n",
       "Existing Units                         0.243957\n",
       "Proposed Construction Type             0.217004\n",
       "Number of Proposed Stories             0.215525\n",
       "Proposed Use                           0.213369\n",
       "Existing Construction Type             0.199211\n",
       "Number of Existing Stories             0.197959\n",
       "Existing Use                           0.195093\n",
       "Estimated Cost                         0.191383\n",
       "Plansets                               0.187577\n",
       "First Construction Document Date       0.075143\n",
       "Issued Date                            0.075113\n",
       "Street Suffix                          0.013917\n",
       "Neighborhoods - Analysis Boundaries    0.008673\n",
       "Supervisor District                    0.008632\n",
       "Zipcode                                0.008627\n",
       "Location                               0.008547\n",
       "Revised Cost                           0.003042\n",
       "Permit Creation Date                   0.000000\n",
       "Street Name                            0.000000\n",
       "Permit Type                            0.000000\n",
       "Block                                  0.000000\n",
       "Lot                                    0.000000\n",
       "Street Number                          0.000000\n",
       "Voluntary Soft-Story Retrofit          0.000000\n",
       "Current Status                         0.000000\n",
       "Current Status Date                    0.000000\n",
       "Filed Date                             0.000000\n",
       "Fire Only Permit                       0.000000\n",
       "Site Permit                            0.000000\n",
       "Permit Number                          0.000000\n",
       "dtype: float64"
      ]
     },
     "execution_count": 536,
     "metadata": {},
     "output_type": "execute_result"
    }
   ],
   "source": [
    "sums = building_df.isnull().sum()\n",
    "missing_percent = (sums/building_df.shape[0]).sort_values(ascending=False)\n",
    "missing_percent"
   ]
  },
  {
   "cell_type": "markdown",
   "metadata": {},
   "source": [
    "### Datum anpassen, neue Spaltenaufteilung und alte Datumspalten entfernen\n",
    "\n",
    "da die Daten in der jeweiligen spalte auch in verschiedenen Formaten existieren, haben wir uns dazu entschieden, die Spalten aufzubrechen in einzelne Tag, Monat und Jahre Spalte und die ursprüngliche Spalte zu entfernen "
   ]
  },
  {
   "cell_type": "code",
   "execution_count": 537,
   "metadata": {},
   "outputs": [],
   "source": [
    "date_columns = [\n",
    "    'Permit Creation Date',\n",
    "    'Current Status Date',\n",
    "    'Filed Date',\n",
    "    'Issued Date',\n",
    "    'First Construction Document Date',\n",
    "    'Permit Expiration Date'\n",
    "]"
   ]
  },
  {
   "cell_type": "code",
   "execution_count": 538,
   "metadata": {},
   "outputs": [],
   "source": [
    "def split_dates(column_name):\n",
    "    name = column_name[0:-4]\n",
    "    building_df[name+'Year'] = building_df[column_name].astype(str).str[-4:]\n",
    "    building_df[name+'Year'] = pd.to_numeric(building_df[name+'Year'], errors='coerce')\n",
    "    building_df[name+'Day'] = building_df[column_name].astype(str).str[3:5]\n",
    "    building_df[name+'Day'] = pd.to_numeric(building_df[name+'Day'], errors='coerce')\n",
    "    building_df[name+'Month'] = building_df[column_name].astype(str).str[0:2]\n",
    "    building_df[name+'Month'] = pd.to_numeric(building_df[name+'Month'], errors='coerce')\n",
    "for i in date_columns:\n",
    "    split_dates(i)"
   ]
  },
  {
   "cell_type": "code",
   "execution_count": 539,
   "metadata": {},
   "outputs": [
    {
     "data": {
      "text/plain": [
       "Index(['Permit Number', 'Permit Type', 'Permit Creation Date', 'Block', 'Lot',\n",
       "       'Street Number', 'Street Name', 'Street Suffix', 'Current Status',\n",
       "       'Current Status Date', 'Filed Date', 'Issued Date',\n",
       "       'First Construction Document Date', 'Number of Existing Stories',\n",
       "       'Number of Proposed Stories', 'Voluntary Soft-Story Retrofit',\n",
       "       'Fire Only Permit', 'Permit Expiration Date', 'Estimated Cost',\n",
       "       'Revised Cost', 'Existing Use', 'Existing Units', 'Proposed Use',\n",
       "       'Proposed Units', 'Plansets', 'Existing Construction Type',\n",
       "       'Proposed Construction Type', 'Site Permit', 'Supervisor District',\n",
       "       'Neighborhoods - Analysis Boundaries', 'Zipcode', 'Location',\n",
       "       'Permit Creation Year', 'Permit Creation Day', 'Permit Creation Month',\n",
       "       'Current Status Year', 'Current Status Day', 'Current Status Month',\n",
       "       'Filed Year', 'Filed Day', 'Filed Month', 'Issued Year', 'Issued Day',\n",
       "       'Issued Month', 'First Construction Document Year',\n",
       "       'First Construction Document Day', 'First Construction Document Month',\n",
       "       'Permit Expiration Year', 'Permit Expiration Day',\n",
       "       'Permit Expiration Month'],\n",
       "      dtype='object')"
      ]
     },
     "execution_count": 539,
     "metadata": {},
     "output_type": "execute_result"
    }
   ],
   "source": [
    "building_df.columns"
   ]
  },
  {
   "cell_type": "code",
   "execution_count": 540,
   "metadata": {},
   "outputs": [],
   "source": [
    "for i in date_columns:\n",
    "    drop_column(i)"
   ]
  },
  {
   "cell_type": "code",
   "execution_count": 541,
   "metadata": {},
   "outputs": [
    {
     "data": {
      "text/plain": [
       "Index(['Permit Number', 'Permit Type', 'Block', 'Lot', 'Street Number',\n",
       "       'Street Name', 'Street Suffix', 'Current Status',\n",
       "       'Number of Existing Stories', 'Number of Proposed Stories',\n",
       "       'Voluntary Soft-Story Retrofit', 'Fire Only Permit', 'Estimated Cost',\n",
       "       'Revised Cost', 'Existing Use', 'Existing Units', 'Proposed Use',\n",
       "       'Proposed Units', 'Plansets', 'Existing Construction Type',\n",
       "       'Proposed Construction Type', 'Site Permit', 'Supervisor District',\n",
       "       'Neighborhoods - Analysis Boundaries', 'Zipcode', 'Location',\n",
       "       'Permit Creation Year', 'Permit Creation Day', 'Permit Creation Month',\n",
       "       'Current Status Year', 'Current Status Day', 'Current Status Month',\n",
       "       'Filed Year', 'Filed Day', 'Filed Month', 'Issued Year', 'Issued Day',\n",
       "       'Issued Month', 'First Construction Document Year',\n",
       "       'First Construction Document Day', 'First Construction Document Month',\n",
       "       'Permit Expiration Year', 'Permit Expiration Day',\n",
       "       'Permit Expiration Month'],\n",
       "      dtype='object')"
      ]
     },
     "execution_count": 541,
     "metadata": {},
     "output_type": "execute_result"
    }
   ],
   "source": [
    "building_df.columns"
   ]
  },
  {
   "cell_type": "code",
   "execution_count": 542,
   "metadata": {},
   "outputs": [
    {
     "data": {
      "text/plain": [
       "Permit Expiration Month                0.260835\n",
       "Permit Expiration Year                 0.260835\n",
       "Permit Expiration Day                  0.260835\n",
       "Proposed Units                         0.255963\n",
       "Existing Units                         0.243957\n",
       "Proposed Construction Type             0.217004\n",
       "Number of Proposed Stories             0.215525\n",
       "Proposed Use                           0.213369\n",
       "Existing Construction Type             0.199211\n",
       "Number of Existing Stories             0.197959\n",
       "Existing Use                           0.195093\n",
       "Estimated Cost                         0.191383\n",
       "Plansets                               0.187577\n",
       "First Construction Document Month      0.075143\n",
       "First Construction Document Day        0.075143\n",
       "First Construction Document Year       0.075143\n",
       "Issued Year                            0.075113\n",
       "Issued Month                           0.075113\n",
       "Issued Day                             0.075113\n",
       "Street Suffix                          0.013917\n",
       "Neighborhoods - Analysis Boundaries    0.008673\n",
       "Supervisor District                    0.008632\n",
       "Zipcode                                0.008627\n",
       "Location                               0.008547\n",
       "Revised Cost                           0.003042\n",
       "Lot                                    0.000000\n",
       "Permit Type                            0.000000\n",
       "Voluntary Soft-Story Retrofit          0.000000\n",
       "Current Status                         0.000000\n",
       "Street Name                            0.000000\n",
       "Street Number                          0.000000\n",
       "Block                                  0.000000\n",
       "Site Permit                            0.000000\n",
       "Fire Only Permit                       0.000000\n",
       "Permit Creation Year                   0.000000\n",
       "Permit Creation Day                    0.000000\n",
       "Permit Creation Month                  0.000000\n",
       "Current Status Year                    0.000000\n",
       "Current Status Day                     0.000000\n",
       "Current Status Month                   0.000000\n",
       "Filed Year                             0.000000\n",
       "Filed Day                              0.000000\n",
       "Filed Month                            0.000000\n",
       "Permit Number                          0.000000\n",
       "dtype: float64"
      ]
     },
     "execution_count": 542,
     "metadata": {},
     "output_type": "execute_result"
    }
   ],
   "source": [
    "sums = building_df.isnull().sum()\n",
    "missing_percent = (sums/building_df.shape[0]).sort_values(ascending=False)\n",
    "missing_percent"
   ]
  },
  {
   "cell_type": "markdown",
   "metadata": {},
   "source": [
    "### Welche Spalten sind für die Vorhersage (logisch) sinnvoll und welche nicht?\n",
    "\n",
    "Nachdem wir schon einige Spalten behandelt haben, haben wir uns überlegt, welche Spalten wir in diesem schon gesäuberten Datensatz behalten, und welche wir vor nicht sinnvoll halten. \n",
    "\n",
    "Hier eine Übersicht:\n",
    "\n",
    "* Location - Die Location ist nur ein Geokoordinate, das keinen Nutzen  ohne die Zonen hat (zu komplex für diesen Zweck und die Postleitzahl ist besser dafür).\n",
    "* Proposed Use\n",
    "* Estimated Cost,\n",
    "* Proposed Units,\n",
    "* Number of Proposed Stories,\n",
    "* Proposed Construction Type,\n",
    "* Street Number - wir ignorieren die Hausnummer , weil sie kategorisch ist, aber zu viele Kategorien hat und keinen Einfluss auf die Baugenehmigung hat (sollte nicht). \n",
    "* Block - tdie Adresse liefert keine guten Daten für Baugenehmigungen und kann nicht verwendet werden. \n",
    "* Lot\n",
    "* **Street Name** - wir haben uns entschieden, den Straßennamen zu behalten, weil es nicht zu viele Werte gibt und alle Zeilen ihn haben.\n",
    "* Street Suffix -  keinen Einfluss auf die Baugenehmigung hat (sollte nicht). \n",
    "* Permit Number - nur eine Zahl, zu viele Kategorien "
   ]
  },
  {
   "cell_type": "code",
   "execution_count": 543,
   "metadata": {},
   "outputs": [
    {
     "data": {
      "text/plain": [
       "1704"
      ]
     },
     "execution_count": 543,
     "metadata": {},
     "output_type": "execute_result"
    }
   ],
   "source": [
    "len(building_df['Street Name'].unique())"
   ]
  },
  {
   "cell_type": "code",
   "execution_count": 544,
   "metadata": {},
   "outputs": [],
   "source": [
    "columns_to_drop = ['Location', \n",
    "                   'Proposed Use',\n",
    "                   'Estimated Cost',\n",
    "                   'Proposed Units',\n",
    "                   'Number of Proposed Stories',\n",
    "                   'Proposed Construction Type',\n",
    "                   'Street Number', \n",
    "                   'Block', \n",
    "                   'Lot',\n",
    "                   'Street Suffix',\n",
    "                   'Permit Number', \n",
    "                   \n",
    "                  \n",
    "                  ]"
   ]
  },
  {
   "cell_type": "code",
   "execution_count": 545,
   "metadata": {},
   "outputs": [],
   "source": [
    "for i in columns_to_drop:\n",
    "    drop_column(i)"
   ]
  },
  {
   "cell_type": "code",
   "execution_count": 546,
   "metadata": {},
   "outputs": [
    {
     "data": {
      "text/plain": [
       "(198900, 33)"
      ]
     },
     "execution_count": 546,
     "metadata": {},
     "output_type": "execute_result"
    }
   ],
   "source": [
    "building_df.shape"
   ]
  },
  {
   "cell_type": "code",
   "execution_count": 547,
   "metadata": {},
   "outputs": [
    {
     "data": {
      "text/plain": [
       "Permit Expiration Month                0.260835\n",
       "Permit Expiration Year                 0.260835\n",
       "Permit Expiration Day                  0.260835\n",
       "Existing Units                         0.243957\n",
       "Existing Construction Type             0.199211\n",
       "Number of Existing Stories             0.197959\n",
       "Existing Use                           0.195093\n",
       "Plansets                               0.187577\n",
       "First Construction Document Year       0.075143\n",
       "First Construction Document Day        0.075143\n",
       "First Construction Document Month      0.075143\n",
       "Issued Month                           0.075113\n",
       "Issued Day                             0.075113\n",
       "Issued Year                            0.075113\n",
       "Neighborhoods - Analysis Boundaries    0.008673\n",
       "Supervisor District                    0.008632\n",
       "Zipcode                                0.008627\n",
       "Revised Cost                           0.003042\n",
       "Street Name                            0.000000\n",
       "Current Status                         0.000000\n",
       "Voluntary Soft-Story Retrofit          0.000000\n",
       "Fire Only Permit                       0.000000\n",
       "Permit Creation Day                    0.000000\n",
       "Site Permit                            0.000000\n",
       "Permit Creation Year                   0.000000\n",
       "Permit Creation Month                  0.000000\n",
       "Current Status Year                    0.000000\n",
       "Current Status Day                     0.000000\n",
       "Current Status Month                   0.000000\n",
       "Filed Year                             0.000000\n",
       "Filed Day                              0.000000\n",
       "Filed Month                            0.000000\n",
       "Permit Type                            0.000000\n",
       "dtype: float64"
      ]
     },
     "execution_count": 547,
     "metadata": {},
     "output_type": "execute_result"
    }
   ],
   "source": [
    "sums = building_df.isnull().sum()\n",
    "missing_percent = (sums/building_df.shape[0]).sort_values(ascending=False)\n",
    "missing_percent"
   ]
  },
  {
   "cell_type": "markdown",
   "metadata": {},
   "source": [
    "# Imputations\n",
    "\n",
    "\n",
    "Damit man später weiß, welche Werte imputiert/nachberechnet wurden. fügen wir für jede Spalte eine zusätzliche Spalte hinzu, deren fehlende Werte anzeigen, ob dieser Wert berechnet wurde oder nicht. "
   ]
  },
  {
   "cell_type": "code",
   "execution_count": 563,
   "metadata": {},
   "outputs": [],
   "source": [
    "imputed = building_df.copy()\n",
    "cols_with_missing = (col for col in building_df.columns \n",
    "                                 if building_df[col].isnull().any())\n",
    "for col in cols_with_missing:\n",
    "    imputed[col + '_was_missing'] = imputed[col].isnull()\n",
    "    "
   ]
  },
  {
   "cell_type": "code",
   "execution_count": 564,
   "metadata": {},
   "outputs": [
    {
     "data": {
      "text/html": [
       "<div>\n",
       "<style scoped>\n",
       "    .dataframe tbody tr th:only-of-type {\n",
       "        vertical-align: middle;\n",
       "    }\n",
       "\n",
       "    .dataframe tbody tr th {\n",
       "        vertical-align: top;\n",
       "    }\n",
       "\n",
       "    .dataframe thead th {\n",
       "        text-align: right;\n",
       "    }\n",
       "</style>\n",
       "<table border=\"1\" class=\"dataframe\">\n",
       "  <thead>\n",
       "    <tr style=\"text-align: right;\">\n",
       "      <th></th>\n",
       "      <th>Permit Type</th>\n",
       "      <th>Street Name</th>\n",
       "      <th>Current Status</th>\n",
       "      <th>Number of Existing Stories</th>\n",
       "      <th>Voluntary Soft-Story Retrofit</th>\n",
       "      <th>Fire Only Permit</th>\n",
       "      <th>Revised Cost</th>\n",
       "      <th>Existing Use</th>\n",
       "      <th>Existing Units</th>\n",
       "      <th>Plansets</th>\n",
       "      <th>...</th>\n",
       "      <th>Zipcode_was_missing</th>\n",
       "      <th>Issued Year_was_missing</th>\n",
       "      <th>Issued Day_was_missing</th>\n",
       "      <th>Issued Month_was_missing</th>\n",
       "      <th>First Construction Document Year_was_missing</th>\n",
       "      <th>First Construction Document Day_was_missing</th>\n",
       "      <th>First Construction Document Month_was_missing</th>\n",
       "      <th>Permit Expiration Year_was_missing</th>\n",
       "      <th>Permit Expiration Day_was_missing</th>\n",
       "      <th>Permit Expiration Month_was_missing</th>\n",
       "    </tr>\n",
       "  </thead>\n",
       "  <tbody>\n",
       "    <tr>\n",
       "      <th>0</th>\n",
       "      <td>4</td>\n",
       "      <td>Ellis</td>\n",
       "      <td>expired</td>\n",
       "      <td>6.0</td>\n",
       "      <td>N</td>\n",
       "      <td>N</td>\n",
       "      <td>4000.0</td>\n",
       "      <td>tourist hotel/motel</td>\n",
       "      <td>143.0</td>\n",
       "      <td>2.0</td>\n",
       "      <td>...</td>\n",
       "      <td>False</td>\n",
       "      <td>False</td>\n",
       "      <td>False</td>\n",
       "      <td>False</td>\n",
       "      <td>False</td>\n",
       "      <td>False</td>\n",
       "      <td>False</td>\n",
       "      <td>False</td>\n",
       "      <td>False</td>\n",
       "      <td>False</td>\n",
       "    </tr>\n",
       "    <tr>\n",
       "      <th>1</th>\n",
       "      <td>4</td>\n",
       "      <td>Geary</td>\n",
       "      <td>issued</td>\n",
       "      <td>7.0</td>\n",
       "      <td>N</td>\n",
       "      <td>N</td>\n",
       "      <td>500.0</td>\n",
       "      <td>tourist hotel/motel</td>\n",
       "      <td>NaN</td>\n",
       "      <td>2.0</td>\n",
       "      <td>...</td>\n",
       "      <td>False</td>\n",
       "      <td>False</td>\n",
       "      <td>False</td>\n",
       "      <td>False</td>\n",
       "      <td>False</td>\n",
       "      <td>False</td>\n",
       "      <td>False</td>\n",
       "      <td>False</td>\n",
       "      <td>False</td>\n",
       "      <td>False</td>\n",
       "    </tr>\n",
       "    <tr>\n",
       "      <th>2</th>\n",
       "      <td>3</td>\n",
       "      <td>Pacific</td>\n",
       "      <td>withdrawn</td>\n",
       "      <td>6.0</td>\n",
       "      <td>N</td>\n",
       "      <td>N</td>\n",
       "      <td>20000.0</td>\n",
       "      <td>retail sales</td>\n",
       "      <td>39.0</td>\n",
       "      <td>2.0</td>\n",
       "      <td>...</td>\n",
       "      <td>False</td>\n",
       "      <td>True</td>\n",
       "      <td>True</td>\n",
       "      <td>True</td>\n",
       "      <td>True</td>\n",
       "      <td>True</td>\n",
       "      <td>True</td>\n",
       "      <td>True</td>\n",
       "      <td>True</td>\n",
       "      <td>True</td>\n",
       "    </tr>\n",
       "    <tr>\n",
       "      <th>3</th>\n",
       "      <td>8</td>\n",
       "      <td>Pacific</td>\n",
       "      <td>complete</td>\n",
       "      <td>2.0</td>\n",
       "      <td>N</td>\n",
       "      <td>N</td>\n",
       "      <td>2000.0</td>\n",
       "      <td>1 family dwelling</td>\n",
       "      <td>1.0</td>\n",
       "      <td>2.0</td>\n",
       "      <td>...</td>\n",
       "      <td>False</td>\n",
       "      <td>False</td>\n",
       "      <td>False</td>\n",
       "      <td>False</td>\n",
       "      <td>False</td>\n",
       "      <td>False</td>\n",
       "      <td>False</td>\n",
       "      <td>False</td>\n",
       "      <td>False</td>\n",
       "      <td>False</td>\n",
       "    </tr>\n",
       "    <tr>\n",
       "      <th>4</th>\n",
       "      <td>6</td>\n",
       "      <td>Market</td>\n",
       "      <td>issued</td>\n",
       "      <td>3.0</td>\n",
       "      <td>N</td>\n",
       "      <td>N</td>\n",
       "      <td>100000.0</td>\n",
       "      <td>retail sales</td>\n",
       "      <td>NaN</td>\n",
       "      <td>2.0</td>\n",
       "      <td>...</td>\n",
       "      <td>False</td>\n",
       "      <td>False</td>\n",
       "      <td>False</td>\n",
       "      <td>False</td>\n",
       "      <td>False</td>\n",
       "      <td>False</td>\n",
       "      <td>False</td>\n",
       "      <td>False</td>\n",
       "      <td>False</td>\n",
       "      <td>False</td>\n",
       "    </tr>\n",
       "  </tbody>\n",
       "</table>\n",
       "<p>5 rows × 51 columns</p>\n",
       "</div>"
      ],
      "text/plain": [
       "   Permit Type Street Name Current Status  Number of Existing Stories  \\\n",
       "0            4       Ellis        expired                         6.0   \n",
       "1            4       Geary         issued                         7.0   \n",
       "2            3     Pacific      withdrawn                         6.0   \n",
       "3            8     Pacific       complete                         2.0   \n",
       "4            6      Market         issued                         3.0   \n",
       "\n",
       "  Voluntary Soft-Story Retrofit Fire Only Permit  Revised Cost  \\\n",
       "0                             N                N        4000.0   \n",
       "1                             N                N         500.0   \n",
       "2                             N                N       20000.0   \n",
       "3                             N                N        2000.0   \n",
       "4                             N                N      100000.0   \n",
       "\n",
       "          Existing Use  Existing Units  Plansets  ...  Zipcode_was_missing  \\\n",
       "0  tourist hotel/motel           143.0       2.0  ...                False   \n",
       "1  tourist hotel/motel             NaN       2.0  ...                False   \n",
       "2         retail sales            39.0       2.0  ...                False   \n",
       "3    1 family dwelling             1.0       2.0  ...                False   \n",
       "4         retail sales             NaN       2.0  ...                False   \n",
       "\n",
       "  Issued Year_was_missing  Issued Day_was_missing Issued Month_was_missing  \\\n",
       "0                   False                   False                    False   \n",
       "1                   False                   False                    False   \n",
       "2                    True                    True                     True   \n",
       "3                   False                   False                    False   \n",
       "4                   False                   False                    False   \n",
       "\n",
       "   First Construction Document Year_was_missing  \\\n",
       "0                                         False   \n",
       "1                                         False   \n",
       "2                                          True   \n",
       "3                                         False   \n",
       "4                                         False   \n",
       "\n",
       "   First Construction Document Day_was_missing  \\\n",
       "0                                        False   \n",
       "1                                        False   \n",
       "2                                         True   \n",
       "3                                        False   \n",
       "4                                        False   \n",
       "\n",
       "   First Construction Document Month_was_missing  \\\n",
       "0                                          False   \n",
       "1                                          False   \n",
       "2                                           True   \n",
       "3                                          False   \n",
       "4                                          False   \n",
       "\n",
       "   Permit Expiration Year_was_missing  Permit Expiration Day_was_missing  \\\n",
       "0                               False                              False   \n",
       "1                               False                              False   \n",
       "2                                True                               True   \n",
       "3                               False                              False   \n",
       "4                               False                              False   \n",
       "\n",
       "   Permit Expiration Month_was_missing  \n",
       "0                                False  \n",
       "1                                False  \n",
       "2                                 True  \n",
       "3                                False  \n",
       "4                                False  \n",
       "\n",
       "[5 rows x 51 columns]"
      ]
     },
     "execution_count": 564,
     "metadata": {},
     "output_type": "execute_result"
    }
   ],
   "source": [
    "imputed.head(5)"
   ]
  },
  {
   "cell_type": "code",
   "execution_count": 565,
   "metadata": {},
   "outputs": [
    {
     "data": {
      "text/plain": [
       "Permit Expiration Month                            0.260835\n",
       "Permit Expiration Year                             0.260835\n",
       "Permit Expiration Day                              0.260835\n",
       "Existing Units                                     0.243957\n",
       "Existing Construction Type                         0.199211\n",
       "Number of Existing Stories                         0.197959\n",
       "Existing Use                                       0.195093\n",
       "Plansets                                           0.187577\n",
       "First Construction Document Year                   0.075143\n",
       "First Construction Document Day                    0.075143\n",
       "First Construction Document Month                  0.075143\n",
       "Issued Day                                         0.075113\n",
       "Issued Year                                        0.075113\n",
       "Issued Month                                       0.075113\n",
       "Neighborhoods - Analysis Boundaries                0.008673\n",
       "Supervisor District                                0.008632\n",
       "Zipcode                                            0.008627\n",
       "Revised Cost                                       0.003042\n",
       "Permit Creation Year                               0.000000\n",
       "Permit Creation Day                                0.000000\n",
       "Current Status Month                               0.000000\n",
       "Site Permit                                        0.000000\n",
       "Fire Only Permit                                   0.000000\n",
       "Voluntary Soft-Story Retrofit                      0.000000\n",
       "Current Status                                     0.000000\n",
       "Permit Creation Month                              0.000000\n",
       "Street Name                                        0.000000\n",
       "Current Status Year                                0.000000\n",
       "Current Status Day                                 0.000000\n",
       "Permit Expiration Month_was_missing                0.000000\n",
       "Filed Year                                         0.000000\n",
       "Neighborhoods - Analysis Boundaries_was_missing    0.000000\n",
       "Permit Expiration Year_was_missing                 0.000000\n",
       "First Construction Document Month_was_missing      0.000000\n",
       "First Construction Document Day_was_missing        0.000000\n",
       "First Construction Document Year_was_missing       0.000000\n",
       "Issued Month_was_missing                           0.000000\n",
       "Issued Day_was_missing                             0.000000\n",
       "Issued Year_was_missing                            0.000000\n",
       "Zipcode_was_missing                                0.000000\n",
       "Supervisor District_was_missing                    0.000000\n",
       "Filed Day                                          0.000000\n",
       "Existing Construction Type_was_missing             0.000000\n",
       "Plansets_was_missing                               0.000000\n",
       "Existing Units_was_missing                         0.000000\n",
       "Existing Use_was_missing                           0.000000\n",
       "Revised Cost_was_missing                           0.000000\n",
       "Number of Existing Stories_was_missing             0.000000\n",
       "Permit Expiration Day_was_missing                  0.000000\n",
       "Filed Month                                        0.000000\n",
       "Permit Type                                        0.000000\n",
       "dtype: float64"
      ]
     },
     "execution_count": 565,
     "metadata": {},
     "output_type": "execute_result"
    }
   ],
   "source": [
    "sums = imputed.isnull().sum()\n",
    "missing_percent = (sums/imputed.shape[0]).sort_values(ascending=False)\n",
    "missing_percent"
   ]
  },
  {
   "cell_type": "code",
   "execution_count": 551,
   "metadata": {},
   "outputs": [
    {
     "data": {
      "text/plain": [
       "(198900, 33)"
      ]
     },
     "execution_count": 551,
     "metadata": {},
     "output_type": "execute_result"
    }
   ],
   "source": [
    "# vergelich imputing zu original\n",
    "building_df.shape\n"
   ]
  },
  {
   "cell_type": "code",
   "execution_count": 566,
   "metadata": {},
   "outputs": [
    {
     "data": {
      "text/plain": [
       "(198900, 51)"
      ]
     },
     "execution_count": 566,
     "metadata": {},
     "output_type": "execute_result"
    }
   ],
   "source": [
    "imputed.shape"
   ]
  },
  {
   "cell_type": "markdown",
   "metadata": {},
   "source": [
    "Wenn man den Datensatz betrachtet, gibt es ein paar Spalten (z.B Revised Cost, Existing Units...) die Numerisch sind, bei denen wir, wie in der Vorlesung behandelt, den Median imputieren können.."
   ]
  },
  {
   "cell_type": "code",
   "execution_count": 553,
   "metadata": {},
   "outputs": [],
   "source": [
    "numerical_cols = [\n",
    "    'Number of Existing Stories',\n",
    "    'Revised Cost',\n",
    "    'Existing Units'\n",
    "]"
   ]
  },
  {
   "cell_type": "code",
   "execution_count": 567,
   "metadata": {},
   "outputs": [
    {
     "data": {
      "text/plain": [
       "48523"
      ]
     },
     "execution_count": 567,
     "metadata": {},
     "output_type": "execute_result"
    }
   ],
   "source": [
    "imputed['Existing Units'].isnull().sum()"
   ]
  },
  {
   "cell_type": "code",
   "execution_count": 570,
   "metadata": {},
   "outputs": [],
   "source": [
    "for column in numerical_cols:\n",
    "    imputed[column].fillna( imputed[column].mean(skipna=True) , inplace=True)"
   ]
  },
  {
   "cell_type": "code",
   "execution_count": 571,
   "metadata": {},
   "outputs": [
    {
     "data": {
      "text/plain": [
       "0"
      ]
     },
     "execution_count": 571,
     "metadata": {},
     "output_type": "execute_result"
    }
   ],
   "source": [
    "imputed['Existing Units'].isnull().sum()"
   ]
  },
  {
   "cell_type": "code",
   "execution_count": 572,
   "metadata": {},
   "outputs": [
    {
     "data": {
      "text/plain": [
       "Permit Expiration Month                            0.260835\n",
       "Permit Expiration Year                             0.260835\n",
       "Permit Expiration Day                              0.260835\n",
       "Existing Construction Type                         0.199211\n",
       "Existing Use                                       0.195093\n",
       "Plansets                                           0.187577\n",
       "First Construction Document Year                   0.075143\n",
       "First Construction Document Day                    0.075143\n",
       "First Construction Document Month                  0.075143\n",
       "Issued Day                                         0.075113\n",
       "Issued Year                                        0.075113\n",
       "Issued Month                                       0.075113\n",
       "Neighborhoods - Analysis Boundaries                0.008673\n",
       "Supervisor District                                0.008632\n",
       "Zipcode                                            0.008627\n",
       "Current Status Month                               0.000000\n",
       "Permit Creation Year                               0.000000\n",
       "Permit Creation Day                                0.000000\n",
       "Site Permit                                        0.000000\n",
       "Existing Units                                     0.000000\n",
       "Revised Cost                                       0.000000\n",
       "Fire Only Permit                                   0.000000\n",
       "Voluntary Soft-Story Retrofit                      0.000000\n",
       "Number of Existing Stories                         0.000000\n",
       "Current Status                                     0.000000\n",
       "Permit Creation Month                              0.000000\n",
       "Street Name                                        0.000000\n",
       "Current Status Year                                0.000000\n",
       "Current Status Day                                 0.000000\n",
       "Permit Expiration Month_was_missing                0.000000\n",
       "Filed Year                                         0.000000\n",
       "Neighborhoods - Analysis Boundaries_was_missing    0.000000\n",
       "Permit Expiration Year_was_missing                 0.000000\n",
       "First Construction Document Month_was_missing      0.000000\n",
       "First Construction Document Day_was_missing        0.000000\n",
       "First Construction Document Year_was_missing       0.000000\n",
       "Issued Month_was_missing                           0.000000\n",
       "Issued Day_was_missing                             0.000000\n",
       "Issued Year_was_missing                            0.000000\n",
       "Zipcode_was_missing                                0.000000\n",
       "Supervisor District_was_missing                    0.000000\n",
       "Filed Day                                          0.000000\n",
       "Existing Construction Type_was_missing             0.000000\n",
       "Plansets_was_missing                               0.000000\n",
       "Existing Units_was_missing                         0.000000\n",
       "Existing Use_was_missing                           0.000000\n",
       "Revised Cost_was_missing                           0.000000\n",
       "Number of Existing Stories_was_missing             0.000000\n",
       "Permit Expiration Day_was_missing                  0.000000\n",
       "Filed Month                                        0.000000\n",
       "Permit Type                                        0.000000\n",
       "dtype: float64"
      ]
     },
     "execution_count": 572,
     "metadata": {},
     "output_type": "execute_result"
    }
   ],
   "source": [
    "sums = imputed.isnull().sum()\n",
    "missing_percent = (sums/imputed.shape[0]).sort_values(ascending=False)\n",
    "missing_percent"
   ]
  },
  {
   "cell_type": "markdown",
   "metadata": {},
   "source": [
    "Bei einigen Spalten (insbesondere die Datumspalten) fehlen viele Werte und die nicht fehlenden Werte sind gleichmäßig verteilt. Daher werden wir die Verteilung ein wenig ändern, aber da wir eine Spalte haben, die angibt, dass diese Werte berechnet wurden, sollte es für das Modell funktionieren.\n"
   ]
  },
  {
   "cell_type": "code",
   "execution_count": 573,
   "metadata": {},
   "outputs": [
    {
     "data": {
      "text/plain": [
       "Index(['Permit Type', 'Street Name', 'Current Status',\n",
       "       'Number of Existing Stories', 'Voluntary Soft-Story Retrofit',\n",
       "       'Fire Only Permit', 'Revised Cost', 'Existing Use', 'Existing Units',\n",
       "       'Plansets', 'Existing Construction Type', 'Site Permit',\n",
       "       'Supervisor District', 'Neighborhoods - Analysis Boundaries', 'Zipcode',\n",
       "       'Permit Creation Year', 'Permit Creation Day', 'Permit Creation Month',\n",
       "       'Current Status Year', 'Current Status Day', 'Current Status Month',\n",
       "       'Filed Year', 'Filed Day', 'Filed Month', 'Issued Year', 'Issued Day',\n",
       "       'Issued Month', 'First Construction Document Year',\n",
       "       'First Construction Document Day', 'First Construction Document Month',\n",
       "       'Permit Expiration Year', 'Permit Expiration Day',\n",
       "       'Permit Expiration Month', 'Number of Existing Stories_was_missing',\n",
       "       'Revised Cost_was_missing', 'Existing Use_was_missing',\n",
       "       'Existing Units_was_missing', 'Plansets_was_missing',\n",
       "       'Existing Construction Type_was_missing',\n",
       "       'Supervisor District_was_missing',\n",
       "       'Neighborhoods - Analysis Boundaries_was_missing',\n",
       "       'Zipcode_was_missing', 'Issued Year_was_missing',\n",
       "       'Issued Day_was_missing', 'Issued Month_was_missing',\n",
       "       'First Construction Document Year_was_missing',\n",
       "       'First Construction Document Day_was_missing',\n",
       "       'First Construction Document Month_was_missing',\n",
       "       'Permit Expiration Year_was_missing',\n",
       "       'Permit Expiration Day_was_missing',\n",
       "       'Permit Expiration Month_was_missing'],\n",
       "      dtype='object')"
      ]
     },
     "execution_count": 573,
     "metadata": {},
     "output_type": "execute_result"
    }
   ],
   "source": [
    "imputed.columns"
   ]
  },
  {
   "cell_type": "code",
   "execution_count": 574,
   "metadata": {},
   "outputs": [],
   "source": [
    "for column in imputed.columns:\n",
    "    if ( imputed[column].isnull().sum() == 0 ):\n",
    "        continue\n",
    "    imputed[column].fillna(imputed[column].mode()[0], inplace=True)"
   ]
  },
  {
   "cell_type": "code",
   "execution_count": 575,
   "metadata": {},
   "outputs": [
    {
     "data": {
      "text/plain": [
       "5.0     66152\n",
       "3.0     14135\n",
       "6.0     13491\n",
       "4.0     13394\n",
       "2.0     13061\n",
       "1.0     13029\n",
       "7.0     12726\n",
       "8.0     11524\n",
       "10.0    11158\n",
       "9.0     10897\n",
       "11.0     9838\n",
       "12.0     9495\n",
       "Name: Permit Expiration Month, dtype: int64"
      ]
     },
     "execution_count": 575,
     "metadata": {},
     "output_type": "execute_result"
    }
   ],
   "source": [
    "imputed['Permit Expiration Month'].value_counts()"
   ]
  },
  {
   "cell_type": "code",
   "execution_count": 576,
   "metadata": {},
   "outputs": [
    {
     "data": {
      "text/plain": [
       "Permit Expiration Month_was_missing                0.0\n",
       "Supervisor District                                0.0\n",
       "Filed Day                                          0.0\n",
       "Filed Year                                         0.0\n",
       "Current Status Month                               0.0\n",
       "Current Status Day                                 0.0\n",
       "Current Status Year                                0.0\n",
       "Permit Creation Month                              0.0\n",
       "Permit Creation Day                                0.0\n",
       "Permit Creation Year                               0.0\n",
       "Zipcode                                            0.0\n",
       "Neighborhoods - Analysis Boundaries                0.0\n",
       "Site Permit                                        0.0\n",
       "Issued Year                                        0.0\n",
       "Existing Construction Type                         0.0\n",
       "Plansets                                           0.0\n",
       "Existing Units                                     0.0\n",
       "Existing Use                                       0.0\n",
       "Revised Cost                                       0.0\n",
       "Fire Only Permit                                   0.0\n",
       "Voluntary Soft-Story Retrofit                      0.0\n",
       "Number of Existing Stories                         0.0\n",
       "Current Status                                     0.0\n",
       "Street Name                                        0.0\n",
       "Filed Month                                        0.0\n",
       "Issued Day                                         0.0\n",
       "Permit Expiration Day_was_missing                  0.0\n",
       "Existing Construction Type_was_missing             0.0\n",
       "Permit Expiration Year_was_missing                 0.0\n",
       "First Construction Document Month_was_missing      0.0\n",
       "First Construction Document Day_was_missing        0.0\n",
       "First Construction Document Year_was_missing       0.0\n",
       "Issued Month_was_missing                           0.0\n",
       "Issued Day_was_missing                             0.0\n",
       "Issued Year_was_missing                            0.0\n",
       "Zipcode_was_missing                                0.0\n",
       "Neighborhoods - Analysis Boundaries_was_missing    0.0\n",
       "Supervisor District_was_missing                    0.0\n",
       "Plansets_was_missing                               0.0\n",
       "Issued Month                                       0.0\n",
       "Existing Units_was_missing                         0.0\n",
       "Existing Use_was_missing                           0.0\n",
       "Revised Cost_was_missing                           0.0\n",
       "Number of Existing Stories_was_missing             0.0\n",
       "Permit Expiration Month                            0.0\n",
       "Permit Expiration Day                              0.0\n",
       "Permit Expiration Year                             0.0\n",
       "First Construction Document Month                  0.0\n",
       "First Construction Document Day                    0.0\n",
       "First Construction Document Year                   0.0\n",
       "Permit Type                                        0.0\n",
       "dtype: float64"
      ]
     },
     "execution_count": 576,
     "metadata": {},
     "output_type": "execute_result"
    }
   ],
   "source": [
    "sums = imputed.isnull().sum()\n",
    "missing_percent = (sums/imputed.shape[0]).sort_values(ascending=False)\n",
    "missing_percent"
   ]
  },
  {
   "cell_type": "code",
   "execution_count": 577,
   "metadata": {},
   "outputs": [
    {
     "data": {
      "text/html": [
       "<div>\n",
       "<style scoped>\n",
       "    .dataframe tbody tr th:only-of-type {\n",
       "        vertical-align: middle;\n",
       "    }\n",
       "\n",
       "    .dataframe tbody tr th {\n",
       "        vertical-align: top;\n",
       "    }\n",
       "\n",
       "    .dataframe thead th {\n",
       "        text-align: right;\n",
       "    }\n",
       "</style>\n",
       "<table border=\"1\" class=\"dataframe\">\n",
       "  <thead>\n",
       "    <tr style=\"text-align: right;\">\n",
       "      <th></th>\n",
       "      <th>Permit Type</th>\n",
       "      <th>Street Name</th>\n",
       "      <th>Current Status</th>\n",
       "      <th>Number of Existing Stories</th>\n",
       "      <th>Voluntary Soft-Story Retrofit</th>\n",
       "      <th>Fire Only Permit</th>\n",
       "      <th>Revised Cost</th>\n",
       "      <th>Existing Use</th>\n",
       "      <th>Existing Units</th>\n",
       "      <th>Plansets</th>\n",
       "      <th>...</th>\n",
       "      <th>Zipcode_was_missing</th>\n",
       "      <th>Issued Year_was_missing</th>\n",
       "      <th>Issued Day_was_missing</th>\n",
       "      <th>Issued Month_was_missing</th>\n",
       "      <th>First Construction Document Year_was_missing</th>\n",
       "      <th>First Construction Document Day_was_missing</th>\n",
       "      <th>First Construction Document Month_was_missing</th>\n",
       "      <th>Permit Expiration Year_was_missing</th>\n",
       "      <th>Permit Expiration Day_was_missing</th>\n",
       "      <th>Permit Expiration Month_was_missing</th>\n",
       "    </tr>\n",
       "  </thead>\n",
       "  <tbody>\n",
       "    <tr>\n",
       "      <th>0</th>\n",
       "      <td>4</td>\n",
       "      <td>Ellis</td>\n",
       "      <td>expired</td>\n",
       "      <td>6.0</td>\n",
       "      <td>N</td>\n",
       "      <td>N</td>\n",
       "      <td>4000.0</td>\n",
       "      <td>tourist hotel/motel</td>\n",
       "      <td>143.000000</td>\n",
       "      <td>2.0</td>\n",
       "      <td>...</td>\n",
       "      <td>False</td>\n",
       "      <td>False</td>\n",
       "      <td>False</td>\n",
       "      <td>False</td>\n",
       "      <td>False</td>\n",
       "      <td>False</td>\n",
       "      <td>False</td>\n",
       "      <td>False</td>\n",
       "      <td>False</td>\n",
       "      <td>False</td>\n",
       "    </tr>\n",
       "    <tr>\n",
       "      <th>1</th>\n",
       "      <td>4</td>\n",
       "      <td>Geary</td>\n",
       "      <td>issued</td>\n",
       "      <td>7.0</td>\n",
       "      <td>N</td>\n",
       "      <td>N</td>\n",
       "      <td>500.0</td>\n",
       "      <td>tourist hotel/motel</td>\n",
       "      <td>16.350162</td>\n",
       "      <td>2.0</td>\n",
       "      <td>...</td>\n",
       "      <td>False</td>\n",
       "      <td>False</td>\n",
       "      <td>False</td>\n",
       "      <td>False</td>\n",
       "      <td>False</td>\n",
       "      <td>False</td>\n",
       "      <td>False</td>\n",
       "      <td>False</td>\n",
       "      <td>False</td>\n",
       "      <td>False</td>\n",
       "    </tr>\n",
       "    <tr>\n",
       "      <th>2</th>\n",
       "      <td>3</td>\n",
       "      <td>Pacific</td>\n",
       "      <td>withdrawn</td>\n",
       "      <td>6.0</td>\n",
       "      <td>N</td>\n",
       "      <td>N</td>\n",
       "      <td>20000.0</td>\n",
       "      <td>retail sales</td>\n",
       "      <td>39.000000</td>\n",
       "      <td>2.0</td>\n",
       "      <td>...</td>\n",
       "      <td>False</td>\n",
       "      <td>True</td>\n",
       "      <td>True</td>\n",
       "      <td>True</td>\n",
       "      <td>True</td>\n",
       "      <td>True</td>\n",
       "      <td>True</td>\n",
       "      <td>True</td>\n",
       "      <td>True</td>\n",
       "      <td>True</td>\n",
       "    </tr>\n",
       "    <tr>\n",
       "      <th>3</th>\n",
       "      <td>8</td>\n",
       "      <td>Pacific</td>\n",
       "      <td>complete</td>\n",
       "      <td>2.0</td>\n",
       "      <td>N</td>\n",
       "      <td>N</td>\n",
       "      <td>2000.0</td>\n",
       "      <td>1 family dwelling</td>\n",
       "      <td>1.000000</td>\n",
       "      <td>2.0</td>\n",
       "      <td>...</td>\n",
       "      <td>False</td>\n",
       "      <td>False</td>\n",
       "      <td>False</td>\n",
       "      <td>False</td>\n",
       "      <td>False</td>\n",
       "      <td>False</td>\n",
       "      <td>False</td>\n",
       "      <td>False</td>\n",
       "      <td>False</td>\n",
       "      <td>False</td>\n",
       "    </tr>\n",
       "    <tr>\n",
       "      <th>4</th>\n",
       "      <td>6</td>\n",
       "      <td>Market</td>\n",
       "      <td>issued</td>\n",
       "      <td>3.0</td>\n",
       "      <td>N</td>\n",
       "      <td>N</td>\n",
       "      <td>100000.0</td>\n",
       "      <td>retail sales</td>\n",
       "      <td>16.350162</td>\n",
       "      <td>2.0</td>\n",
       "      <td>...</td>\n",
       "      <td>False</td>\n",
       "      <td>False</td>\n",
       "      <td>False</td>\n",
       "      <td>False</td>\n",
       "      <td>False</td>\n",
       "      <td>False</td>\n",
       "      <td>False</td>\n",
       "      <td>False</td>\n",
       "      <td>False</td>\n",
       "      <td>False</td>\n",
       "    </tr>\n",
       "  </tbody>\n",
       "</table>\n",
       "<p>5 rows × 51 columns</p>\n",
       "</div>"
      ],
      "text/plain": [
       "   Permit Type Street Name Current Status  Number of Existing Stories  \\\n",
       "0            4       Ellis        expired                         6.0   \n",
       "1            4       Geary         issued                         7.0   \n",
       "2            3     Pacific      withdrawn                         6.0   \n",
       "3            8     Pacific       complete                         2.0   \n",
       "4            6      Market         issued                         3.0   \n",
       "\n",
       "  Voluntary Soft-Story Retrofit Fire Only Permit  Revised Cost  \\\n",
       "0                             N                N        4000.0   \n",
       "1                             N                N         500.0   \n",
       "2                             N                N       20000.0   \n",
       "3                             N                N        2000.0   \n",
       "4                             N                N      100000.0   \n",
       "\n",
       "          Existing Use  Existing Units  Plansets  ...  Zipcode_was_missing  \\\n",
       "0  tourist hotel/motel      143.000000       2.0  ...                False   \n",
       "1  tourist hotel/motel       16.350162       2.0  ...                False   \n",
       "2         retail sales       39.000000       2.0  ...                False   \n",
       "3    1 family dwelling        1.000000       2.0  ...                False   \n",
       "4         retail sales       16.350162       2.0  ...                False   \n",
       "\n",
       "  Issued Year_was_missing  Issued Day_was_missing Issued Month_was_missing  \\\n",
       "0                   False                   False                    False   \n",
       "1                   False                   False                    False   \n",
       "2                    True                    True                     True   \n",
       "3                   False                   False                    False   \n",
       "4                   False                   False                    False   \n",
       "\n",
       "   First Construction Document Year_was_missing  \\\n",
       "0                                         False   \n",
       "1                                         False   \n",
       "2                                          True   \n",
       "3                                         False   \n",
       "4                                         False   \n",
       "\n",
       "   First Construction Document Day_was_missing  \\\n",
       "0                                        False   \n",
       "1                                        False   \n",
       "2                                         True   \n",
       "3                                        False   \n",
       "4                                        False   \n",
       "\n",
       "   First Construction Document Month_was_missing  \\\n",
       "0                                          False   \n",
       "1                                          False   \n",
       "2                                           True   \n",
       "3                                          False   \n",
       "4                                          False   \n",
       "\n",
       "   Permit Expiration Year_was_missing  Permit Expiration Day_was_missing  \\\n",
       "0                               False                              False   \n",
       "1                               False                              False   \n",
       "2                                True                               True   \n",
       "3                               False                              False   \n",
       "4                               False                              False   \n",
       "\n",
       "   Permit Expiration Month_was_missing  \n",
       "0                                False  \n",
       "1                                False  \n",
       "2                                 True  \n",
       "3                                False  \n",
       "4                                False  \n",
       "\n",
       "[5 rows x 51 columns]"
      ]
     },
     "execution_count": 577,
     "metadata": {},
     "output_type": "execute_result"
    }
   ],
   "source": [
    "imputed.head(5)"
   ]
  },
  {
   "cell_type": "markdown",
   "metadata": {},
   "source": [
    "### Fazit\n",
    "\n",
    "\n",
    "Das Bereinigen des San Francisco Buidling Permit Datensatzes war schwieriger als gedacht. Es war zu Beginn sehr schwer den Datensatz zu verstehen und zusammenhänge daraus zu schließen. Erst nach Recherchen und Disskusion konnte man langsam durchsteigen.\n",
    "Gerade zu bestimmen, welche Spalten für die Vorherrsage wichtig ist und welche nicht, fiel uns extrem schwer! Wir haben uns grundsätzlich immer auf rationale/logische Schritte geeinigt wie z.B. die 50% Hürde bei den fehlenden Daten. \n",
    "Dadurch, dass wir nach und nach Spalten entfernt haben, hatten wir gegen Ende auch einen besseren Überblick über den Datensatz"
   ]
  },
  {
   "cell_type": "code",
   "execution_count": null,
   "metadata": {},
   "outputs": [],
   "source": []
  },
  {
   "cell_type": "code",
   "execution_count": null,
   "metadata": {},
   "outputs": [],
   "source": []
  },
  {
   "cell_type": "code",
   "execution_count": null,
   "metadata": {},
   "outputs": [],
   "source": []
  },
  {
   "cell_type": "code",
   "execution_count": null,
   "metadata": {},
   "outputs": [],
   "source": []
  },
  {
   "cell_type": "code",
   "execution_count": null,
   "metadata": {},
   "outputs": [],
   "source": []
  },
  {
   "cell_type": "code",
   "execution_count": null,
   "metadata": {},
   "outputs": [],
   "source": []
  },
  {
   "cell_type": "code",
   "execution_count": null,
   "metadata": {},
   "outputs": [],
   "source": []
  },
  {
   "cell_type": "code",
   "execution_count": null,
   "metadata": {},
   "outputs": [],
   "source": []
  },
  {
   "cell_type": "code",
   "execution_count": null,
   "metadata": {},
   "outputs": [],
   "source": []
  },
  {
   "cell_type": "code",
   "execution_count": null,
   "metadata": {},
   "outputs": [],
   "source": []
  },
  {
   "cell_type": "code",
   "execution_count": null,
   "metadata": {},
   "outputs": [],
   "source": []
  },
  {
   "cell_type": "code",
   "execution_count": null,
   "metadata": {},
   "outputs": [],
   "source": []
  },
  {
   "cell_type": "code",
   "execution_count": null,
   "metadata": {},
   "outputs": [],
   "source": []
  },
  {
   "cell_type": "code",
   "execution_count": null,
   "metadata": {},
   "outputs": [],
   "source": []
  },
  {
   "cell_type": "code",
   "execution_count": null,
   "metadata": {},
   "outputs": [],
   "source": []
  },
  {
   "cell_type": "code",
   "execution_count": null,
   "metadata": {},
   "outputs": [],
   "source": []
  },
  {
   "cell_type": "code",
   "execution_count": null,
   "metadata": {},
   "outputs": [],
   "source": []
  },
  {
   "cell_type": "code",
   "execution_count": null,
   "metadata": {},
   "outputs": [],
   "source": []
  },
  {
   "cell_type": "code",
   "execution_count": null,
   "metadata": {},
   "outputs": [],
   "source": []
  },
  {
   "cell_type": "code",
   "execution_count": null,
   "metadata": {},
   "outputs": [],
   "source": []
  },
  {
   "cell_type": "code",
   "execution_count": null,
   "metadata": {},
   "outputs": [],
   "source": []
  },
  {
   "cell_type": "code",
   "execution_count": null,
   "metadata": {},
   "outputs": [],
   "source": []
  },
  {
   "cell_type": "code",
   "execution_count": null,
   "metadata": {},
   "outputs": [],
   "source": []
  },
  {
   "cell_type": "code",
   "execution_count": null,
   "metadata": {},
   "outputs": [],
   "source": []
  },
  {
   "cell_type": "code",
   "execution_count": null,
   "metadata": {},
   "outputs": [],
   "source": []
  },
  {
   "cell_type": "code",
   "execution_count": null,
   "metadata": {},
   "outputs": [],
   "source": []
  },
  {
   "cell_type": "code",
   "execution_count": null,
   "metadata": {},
   "outputs": [],
   "source": []
  },
  {
   "cell_type": "code",
   "execution_count": null,
   "metadata": {},
   "outputs": [],
   "source": []
  },
  {
   "cell_type": "code",
   "execution_count": null,
   "metadata": {},
   "outputs": [],
   "source": []
  },
  {
   "cell_type": "code",
   "execution_count": null,
   "metadata": {},
   "outputs": [],
   "source": []
  },
  {
   "cell_type": "code",
   "execution_count": null,
   "metadata": {},
   "outputs": [],
   "source": []
  },
  {
   "cell_type": "code",
   "execution_count": null,
   "metadata": {},
   "outputs": [],
   "source": []
  },
  {
   "cell_type": "code",
   "execution_count": null,
   "metadata": {},
   "outputs": [],
   "source": []
  },
  {
   "cell_type": "code",
   "execution_count": null,
   "metadata": {},
   "outputs": [],
   "source": []
  },
  {
   "cell_type": "code",
   "execution_count": null,
   "metadata": {},
   "outputs": [],
   "source": []
  }
 ],
 "metadata": {
  "kernelspec": {
   "display_name": "Python 3",
   "language": "python",
   "name": "python3"
  },
  "language_info": {
   "codemirror_mode": {
    "name": "ipython",
    "version": 3
   },
   "file_extension": ".py",
   "mimetype": "text/x-python",
   "name": "python",
   "nbconvert_exporter": "python",
   "pygments_lexer": "ipython3",
   "version": "3.7.3"
  }
 },
 "nbformat": 4,
 "nbformat_minor": 2
}
