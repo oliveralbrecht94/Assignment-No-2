{
 "cells": [
  {
   "cell_type": "markdown",
   "metadata": {},
   "source": [
    "**1) Download the Building_Permits.csv from Kaggle**\n",
    "\n",
    "\n",
    "**2) Clean the San Francisco Building permit dataset**\n",
    "\n",
    "\n",
    "**3) Use imputation were necessary**\n",
    "\n"
   ]
  },
  {
   "cell_type": "markdown",
   "metadata": {},
   "source": [
    "### Import der Daten & Python Pakete"
   ]
  },
  {
   "cell_type": "code",
   "execution_count": 303,
   "metadata": {},
   "outputs": [],
   "source": [
    "import numpy as np \n",
    "import pandas as pd \n",
    "\n",
    "from sklearn import preprocessing\n",
    "import matplotlib.pyplot as plt \n",
    "plt.rc(\"font\", size=14)\n",
    "import seaborn as sns\n",
    "\n",
    "sns.set(style=\"white\")\n",
    "sns.set(style=\"whitegrid\", color_codes=True)\n"
   ]
  },
  {
   "cell_type": "code",
   "execution_count": 304,
   "metadata": {},
   "outputs": [
    {
     "data": {
      "text/html": [
       "<div>\n",
       "<style scoped>\n",
       "    .dataframe tbody tr th:only-of-type {\n",
       "        vertical-align: middle;\n",
       "    }\n",
       "\n",
       "    .dataframe tbody tr th {\n",
       "        vertical-align: top;\n",
       "    }\n",
       "\n",
       "    .dataframe thead th {\n",
       "        text-align: right;\n",
       "    }\n",
       "</style>\n",
       "<table border=\"1\" class=\"dataframe\">\n",
       "  <thead>\n",
       "    <tr style=\"text-align: right;\">\n",
       "      <th></th>\n",
       "      <th>Permit Number</th>\n",
       "      <th>Permit Type</th>\n",
       "      <th>Permit Type Definition</th>\n",
       "      <th>Permit Creation Date</th>\n",
       "      <th>Block</th>\n",
       "      <th>Lot</th>\n",
       "      <th>Street Number</th>\n",
       "      <th>Street Number Suffix</th>\n",
       "      <th>Street Name</th>\n",
       "      <th>Street Suffix</th>\n",
       "      <th>...</th>\n",
       "      <th>Existing Construction Type</th>\n",
       "      <th>Existing Construction Type Description</th>\n",
       "      <th>Proposed Construction Type</th>\n",
       "      <th>Proposed Construction Type Description</th>\n",
       "      <th>Site Permit</th>\n",
       "      <th>Supervisor District</th>\n",
       "      <th>Neighborhoods - Analysis Boundaries</th>\n",
       "      <th>Zipcode</th>\n",
       "      <th>Location</th>\n",
       "      <th>Record ID</th>\n",
       "    </tr>\n",
       "  </thead>\n",
       "  <tbody>\n",
       "    <tr>\n",
       "      <th>40553</th>\n",
       "      <td>201403039652</td>\n",
       "      <td>8</td>\n",
       "      <td>otc alterations permit</td>\n",
       "      <td>03/03/2014</td>\n",
       "      <td>3732</td>\n",
       "      <td>008</td>\n",
       "      <td>400</td>\n",
       "      <td>NaN</td>\n",
       "      <td>Clementina</td>\n",
       "      <td>St</td>\n",
       "      <td>...</td>\n",
       "      <td>NaN</td>\n",
       "      <td>NaN</td>\n",
       "      <td>1.0</td>\n",
       "      <td>constr type 1</td>\n",
       "      <td>NaN</td>\n",
       "      <td>6.0</td>\n",
       "      <td>South of Market</td>\n",
       "      <td>94103.0</td>\n",
       "      <td>(37.780460571778164, -122.40450626524974)</td>\n",
       "      <td>1334094491645</td>\n",
       "    </tr>\n",
       "    <tr>\n",
       "      <th>169731</th>\n",
       "      <td>201510159735</td>\n",
       "      <td>3</td>\n",
       "      <td>additions alterations or repairs</td>\n",
       "      <td>10/15/2015</td>\n",
       "      <td>2609</td>\n",
       "      <td>028</td>\n",
       "      <td>79</td>\n",
       "      <td>NaN</td>\n",
       "      <td>Buena Vista</td>\n",
       "      <td>Tr</td>\n",
       "      <td>...</td>\n",
       "      <td>5.0</td>\n",
       "      <td>wood frame (5)</td>\n",
       "      <td>5.0</td>\n",
       "      <td>wood frame (5)</td>\n",
       "      <td>NaN</td>\n",
       "      <td>8.0</td>\n",
       "      <td>Castro/Upper Market</td>\n",
       "      <td>94117.0</td>\n",
       "      <td>(37.76757916496494, -122.43793170417105)</td>\n",
       "      <td>1399356139170</td>\n",
       "    </tr>\n",
       "    <tr>\n",
       "      <th>19180</th>\n",
       "      <td>M409787</td>\n",
       "      <td>8</td>\n",
       "      <td>otc alterations permit</td>\n",
       "      <td>07/22/2013</td>\n",
       "      <td>4624</td>\n",
       "      <td>031</td>\n",
       "      <td>178</td>\n",
       "      <td>NaN</td>\n",
       "      <td>West Point</td>\n",
       "      <td>Rd</td>\n",
       "      <td>...</td>\n",
       "      <td>NaN</td>\n",
       "      <td>NaN</td>\n",
       "      <td>NaN</td>\n",
       "      <td>NaN</td>\n",
       "      <td>NaN</td>\n",
       "      <td>10.0</td>\n",
       "      <td>Bayview Hunters Point</td>\n",
       "      <td>94124.0</td>\n",
       "      <td>(37.73524725436046, -122.38063828309745)</td>\n",
       "      <td>1311685491725</td>\n",
       "    </tr>\n",
       "    <tr>\n",
       "      <th>68047</th>\n",
       "      <td>201411191888</td>\n",
       "      <td>8</td>\n",
       "      <td>otc alterations permit</td>\n",
       "      <td>11/19/2014</td>\n",
       "      <td>0039</td>\n",
       "      <td>109</td>\n",
       "      <td>294</td>\n",
       "      <td>NaN</td>\n",
       "      <td>Francisco</td>\n",
       "      <td>St</td>\n",
       "      <td>...</td>\n",
       "      <td>5.0</td>\n",
       "      <td>wood frame (5)</td>\n",
       "      <td>5.0</td>\n",
       "      <td>wood frame (5)</td>\n",
       "      <td>NaN</td>\n",
       "      <td>3.0</td>\n",
       "      <td>North Beach</td>\n",
       "      <td>94133.0</td>\n",
       "      <td>(37.805257822817126, -122.40998545760392)</td>\n",
       "      <td>1362881288870</td>\n",
       "    </tr>\n",
       "    <tr>\n",
       "      <th>64238</th>\n",
       "      <td>M527228</td>\n",
       "      <td>8</td>\n",
       "      <td>otc alterations permit</td>\n",
       "      <td>10/14/2014</td>\n",
       "      <td>1251</td>\n",
       "      <td>002</td>\n",
       "      <td>707</td>\n",
       "      <td>NaN</td>\n",
       "      <td>Cole</td>\n",
       "      <td>St</td>\n",
       "      <td>...</td>\n",
       "      <td>NaN</td>\n",
       "      <td>NaN</td>\n",
       "      <td>NaN</td>\n",
       "      <td>NaN</td>\n",
       "      <td>NaN</td>\n",
       "      <td>5.0</td>\n",
       "      <td>Haight Ashbury</td>\n",
       "      <td>94117.0</td>\n",
       "      <td>(37.76836885973765, -122.45074431487859)</td>\n",
       "      <td>135886493776</td>\n",
       "    </tr>\n",
       "  </tbody>\n",
       "</table>\n",
       "<p>5 rows × 43 columns</p>\n",
       "</div>"
      ],
      "text/plain": [
       "       Permit Number  Permit Type            Permit Type Definition  \\\n",
       "40553   201403039652            8            otc alterations permit   \n",
       "169731  201510159735            3  additions alterations or repairs   \n",
       "19180        M409787            8            otc alterations permit   \n",
       "68047   201411191888            8            otc alterations permit   \n",
       "64238        M527228            8            otc alterations permit   \n",
       "\n",
       "       Permit Creation Date Block  Lot  Street Number Street Number Suffix  \\\n",
       "40553            03/03/2014  3732  008            400                  NaN   \n",
       "169731           10/15/2015  2609  028             79                  NaN   \n",
       "19180            07/22/2013  4624  031            178                  NaN   \n",
       "68047            11/19/2014  0039  109            294                  NaN   \n",
       "64238            10/14/2014  1251  002            707                  NaN   \n",
       "\n",
       "        Street Name Street Suffix  ...  Existing Construction Type  \\\n",
       "40553    Clementina            St  ...                         NaN   \n",
       "169731  Buena Vista            Tr  ...                         5.0   \n",
       "19180    West Point            Rd  ...                         NaN   \n",
       "68047     Francisco            St  ...                         5.0   \n",
       "64238          Cole            St  ...                         NaN   \n",
       "\n",
       "       Existing Construction Type Description Proposed Construction Type  \\\n",
       "40553                                     NaN                        1.0   \n",
       "169731                         wood frame (5)                        5.0   \n",
       "19180                                     NaN                        NaN   \n",
       "68047                          wood frame (5)                        5.0   \n",
       "64238                                     NaN                        NaN   \n",
       "\n",
       "       Proposed Construction Type Description Site Permit Supervisor District  \\\n",
       "40553                           constr type 1         NaN                 6.0   \n",
       "169731                         wood frame (5)         NaN                 8.0   \n",
       "19180                                     NaN         NaN                10.0   \n",
       "68047                          wood frame (5)         NaN                 3.0   \n",
       "64238                                     NaN         NaN                 5.0   \n",
       "\n",
       "       Neighborhoods - Analysis Boundaries  Zipcode  \\\n",
       "40553                      South of Market  94103.0   \n",
       "169731                 Castro/Upper Market  94117.0   \n",
       "19180                Bayview Hunters Point  94124.0   \n",
       "68047                          North Beach  94133.0   \n",
       "64238                       Haight Ashbury  94117.0   \n",
       "\n",
       "                                         Location      Record ID  \n",
       "40553   (37.780460571778164, -122.40450626524974)  1334094491645  \n",
       "169731   (37.76757916496494, -122.43793170417105)  1399356139170  \n",
       "19180    (37.73524725436046, -122.38063828309745)  1311685491725  \n",
       "68047   (37.805257822817126, -122.40998545760392)  1362881288870  \n",
       "64238    (37.76836885973765, -122.45074431487859)   135886493776  \n",
       "\n",
       "[5 rows x 43 columns]"
      ]
     },
     "execution_count": 304,
     "metadata": {},
     "output_type": "execute_result"
    }
   ],
   "source": [
    "# get building_permit csv files as a DataFrame\n",
    "\n",
    "#developmental data (train)\n",
    "building_df = pd.read_csv(\"./Building_Permits.csv\")\n",
    "\n",
    "#cross validation data (hold-out testing)\n",
    "#test_df    = pd.read_csv(\"./titanic/test.csv\")\n",
    "np.random.seed(0) \n",
    "# preview developmental data\n",
    "building_df.sample(5)"
   ]
  },
  {
   "cell_type": "markdown",
   "metadata": {},
   "source": [
    "### Datenanalyse - Wie viele Werte fehlen in welcher Spalte?"
   ]
  },
  {
   "cell_type": "code",
   "execution_count": 305,
   "metadata": {},
   "outputs": [
    {
     "data": {
      "text/plain": [
       "TIDF Compliance                           0.999990\n",
       "Voluntary Soft-Story Retrofit             0.999824\n",
       "Unit Suffix                               0.990141\n",
       "Street Number Suffix                      0.988859\n",
       "Site Permit                               0.973057\n",
       "Structural Notification                   0.965199\n",
       "Fire Only Permit                          0.905344\n",
       "Unit                                      0.851790\n",
       "Completed Date                            0.511357\n",
       "Permit Expiration Date                    0.260835\n",
       "Existing Units                            0.259115\n",
       "Proposed Units                            0.255963\n",
       "Existing Construction Type                0.218029\n",
       "Existing Construction Type Description    0.218029\n",
       "Proposed Construction Type                0.217004\n",
       "Proposed Construction Type Description    0.217004\n",
       "Number of Proposed Stories                0.215525\n",
       "Number of Existing Stories                0.215103\n",
       "Proposed Use                              0.213369\n",
       "Existing Use                              0.206707\n",
       "Estimated Cost                            0.191383\n",
       "Plansets                                  0.187577\n",
       "First Construction Document Date          0.075143\n",
       "Issued Date                               0.075113\n",
       "Revised Cost                              0.030498\n",
       "Street Suffix                             0.013917\n",
       "Neighborhoods - Analysis Boundaries       0.008673\n",
       "Supervisor District                       0.008632\n",
       "Zipcode                                   0.008627\n",
       "Location                                  0.008547\n",
       "Description                               0.001458\n",
       "Lot                                       0.000000\n",
       "Permit Type                               0.000000\n",
       "Permit Type Definition                    0.000000\n",
       "Permit Creation Date                      0.000000\n",
       "Block                                     0.000000\n",
       "Record ID                                 0.000000\n",
       "Street Number                             0.000000\n",
       "Street Name                               0.000000\n",
       "Current Status                            0.000000\n",
       "Current Status Date                       0.000000\n",
       "Filed Date                                0.000000\n",
       "Permit Number                             0.000000\n",
       "dtype: float64"
      ]
     },
     "execution_count": 305,
     "metadata": {},
     "output_type": "execute_result"
    }
   ],
   "source": [
    "# Wir lassen uns die % Zahlen ausgeben, wie viel Werte  in einer Spalte fehlen \n",
    "missing_values = building_df.isnull().sum()\n",
    "sums = building_df.isnull().sum()\n",
    "missing_percent = (sums/building_df.shape[0]).sort_values(ascending=False)\n",
    "missing_percent"
   ]
  },
  {
   "cell_type": "code",
   "execution_count": 306,
   "metadata": {},
   "outputs": [
    {
     "data": {
      "text/plain": [
       "26.26002315058403"
      ]
     },
     "execution_count": 306,
     "metadata": {},
     "output_type": "execute_result"
    }
   ],
   "source": [
    "#Wie viel % der Daten fehlen insgesamt??\n",
    "\n",
    "\n",
    "# total number of cells \n",
    "total_cells = np.product(building_df.shape)\n",
    "# total missing values \n",
    "missing_values = building_df.isnull().sum()\n",
    "total_missing_values = missing_values.sum()\n",
    "\n",
    "# percentage of nan or None cells \n",
    "nan_or_null_cell_percentage = (total_missing_values/total_cells)*100\n",
    "nan_or_null_cell_percentage"
   ]
  },
  {
   "cell_type": "markdown",
   "metadata": {},
   "source": [
    "### Bemerkung\n",
    "\n",
    "Insgesamt fehlen über 26% der Einträge in den Spalten. \n",
    "\n",
    "bei folgenden Spalten (in %) fehlen extrem viele Werte und sind damit ungeinget, falls wir später mit Hilfe dieser Daten etwas vorhersagen möchten: \n",
    "\n",
    "\n",
    "* TIDF Compliance                           100.00\n",
    "* Voluntary Soft-Story Retrofit              99.98\n",
    "* Unit Suffix                                99.01\n",
    "* Street Number Suffix                       98.89\n",
    "* Site Permit                                97.31\n",
    "* Structural Notification                    96.52\n",
    "* Fire Only Permit                           90.53\n",
    "* Unit                                       85.18\n",
    "* Completed Date                             51.14"
   ]
  },
  {
   "cell_type": "markdown",
   "metadata": {},
   "source": [
    "### Entschluss - Einfügen Y/N Spalten\n",
    "\n",
    "Wir haben uns darauf geeinigt, dass wir den Großteil der Spalten ignorieren und bei Voluntary Soft-Story Retrofit, Site Permit und Fire Only Permit bei allen fehlenden Werten ein N (No) eintragen, da dies nur Y/N Spalten sind. Somit füllen wir die \"fehlenden\" Werte auf und können diese für die Prediction verwenden.\n",
    "\n",
    "Theoretisch könnte man hier schon für Y eine 1 und für N eine 0 eintragen, wir haben uns dazu entschieden, dass erst bei C zu machen."
   ]
  },
  {
   "cell_type": "code",
   "execution_count": 307,
   "metadata": {},
   "outputs": [
    {
     "data": {
      "text/plain": [
       "Y    35\n",
       "Name: Voluntary Soft-Story Retrofit, dtype: int64"
      ]
     },
     "execution_count": 307,
     "metadata": {},
     "output_type": "execute_result"
    }
   ],
   "source": [
    "#Welche Werte kommen in der Spalte vor?\n",
    "building_df['Voluntary Soft-Story Retrofit'].value_counts()\n"
   ]
  },
  {
   "cell_type": "code",
   "execution_count": 308,
   "metadata": {},
   "outputs": [
    {
     "data": {
      "text/plain": [
       "Y    5359\n",
       "Name: Site Permit, dtype: int64"
      ]
     },
     "execution_count": 308,
     "metadata": {},
     "output_type": "execute_result"
    }
   ],
   "source": [
    "building_df['Site Permit'].value_counts()\n"
   ]
  },
  {
   "cell_type": "code",
   "execution_count": 309,
   "metadata": {},
   "outputs": [
    {
     "data": {
      "text/plain": [
       "Y    18827\n",
       "Name: Fire Only Permit, dtype: int64"
      ]
     },
     "execution_count": 309,
     "metadata": {},
     "output_type": "execute_result"
    }
   ],
   "source": [
    "building_df['Fire Only Permit'].value_counts()"
   ]
  },
  {
   "cell_type": "code",
   "execution_count": 310,
   "metadata": {},
   "outputs": [],
   "source": [
    "# Die Spalte besteht nur aus Y oder kein Y, daher fügen wir bei keinem Y einfach ein N hinzu.  \n",
    "building_df['Voluntary Soft-Story Retrofit'] = np.where(building_df['Voluntary Soft-Story Retrofit']=='Y', 'Y', 'N')\n",
    "building_df['Site Permit'] = np.where(building_df['Site Permit']=='Y', 'Y', 'N')\n",
    "building_df['Fire Only Permit'] = np.where(building_df['Fire Only Permit']=='Y', 'Y', 'N')"
   ]
  },
  {
   "cell_type": "code",
   "execution_count": 311,
   "metadata": {},
   "outputs": [
    {
     "data": {
      "text/plain": [
       "N    180073\n",
       "Y     18827\n",
       "Name: Fire Only Permit, dtype: int64"
      ]
     },
     "execution_count": 311,
     "metadata": {},
     "output_type": "execute_result"
    }
   ],
   "source": [
    "# hat geklappt\n",
    "building_df['Fire Only Permit'].value_counts()"
   ]
  },
  {
   "cell_type": "markdown",
   "metadata": {},
   "source": [
    "### Ergebnis\n",
    "\n",
    "Wie man sieht, fehlen jetzt keine Werte mehr in den oben behandelten Spalten: "
   ]
  },
  {
   "cell_type": "code",
   "execution_count": 312,
   "metadata": {},
   "outputs": [
    {
     "data": {
      "text/plain": [
       "TIDF Compliance                           0.999990\n",
       "Unit Suffix                               0.990141\n",
       "Street Number Suffix                      0.988859\n",
       "Structural Notification                   0.965199\n",
       "Unit                                      0.851790\n",
       "Completed Date                            0.511357\n",
       "Permit Expiration Date                    0.260835\n",
       "Existing Units                            0.259115\n",
       "Proposed Units                            0.255963\n",
       "Existing Construction Type Description    0.218029\n",
       "Existing Construction Type                0.218029\n",
       "Proposed Construction Type                0.217004\n",
       "Proposed Construction Type Description    0.217004\n",
       "Number of Proposed Stories                0.215525\n",
       "Number of Existing Stories                0.215103\n",
       "Proposed Use                              0.213369\n",
       "Existing Use                              0.206707\n",
       "Estimated Cost                            0.191383\n",
       "Plansets                                  0.187577\n",
       "First Construction Document Date          0.075143\n",
       "Issued Date                               0.075113\n",
       "Revised Cost                              0.030498\n",
       "Street Suffix                             0.013917\n",
       "Neighborhoods - Analysis Boundaries       0.008673\n",
       "Supervisor District                       0.008632\n",
       "Zipcode                                   0.008627\n",
       "Location                                  0.008547\n",
       "Description                               0.001458\n",
       "Permit Type Definition                    0.000000\n",
       "Permit Creation Date                      0.000000\n",
       "Permit Type                               0.000000\n",
       "Block                                     0.000000\n",
       "Lot                                       0.000000\n",
       "Street Number                             0.000000\n",
       "Record ID                                 0.000000\n",
       "Street Name                               0.000000\n",
       "Current Status                            0.000000\n",
       "Current Status Date                       0.000000\n",
       "Filed Date                                0.000000\n",
       "Voluntary Soft-Story Retrofit             0.000000\n",
       "Fire Only Permit                          0.000000\n",
       "Site Permit                               0.000000\n",
       "Permit Number                             0.000000\n",
       "dtype: float64"
      ]
     },
     "execution_count": 312,
     "metadata": {},
     "output_type": "execute_result"
    }
   ],
   "source": [
    "sums = building_df.isnull().sum()\n",
    "missing_percent = (sums/building_df.shape[0]).sort_values(ascending=False)\n",
    "missing_percent"
   ]
  },
  {
   "cell_type": "markdown",
   "metadata": {},
   "source": [
    "Als nächsten werden folgende restlichen Spalten behandelt:\n",
    "\n",
    "* TIDF Compliance                           100.00\n",
    "* Unit Suffix                                99.01\n",
    "* Street Number Suffix                       98.89\n",
    "* Structural Notification                    96.52\n",
    "* Unit                                       85.18\n",
    "* Completed Date                             51.14\n",
    "\n",
    "### Ignorieren der Spalten mit vielen fehlenden Werten\n",
    "\n",
    "Da eine rekonstruktion bzw. Imputation zu aufwändig ist bzw. dafür auch zu viele Daten fehlen ( >50%) werden wir die oben aufgezählten Spalten ignorieren. Nach unsrerem Verständnis ergbit es auch keine Sinn, dass wir anhand von bspw. der Street Number Suffix etwas vorhersagen und außerdem wäre es hier zu aufwändig im Verhältnis zum Nutzen"
   ]
  },
  {
   "cell_type": "code",
   "execution_count": 313,
   "metadata": {},
   "outputs": [],
   "source": [
    "def drop_column(column_name):\n",
    "    building_df.drop(column_name, axis=1, inplace=True)\n",
    "for i in range(len(missing_percent)):\n",
    "    if ( missing_percent[i] > 0.5):\n",
    "        drop_column(missing_percent.index[i])\n",
    "    else:\n",
    "        break"
   ]
  },
  {
   "cell_type": "markdown",
   "metadata": {},
   "source": [
    "Wie wir sehen können, wurden die entsprechenden Spalten gelöscht."
   ]
  },
  {
   "cell_type": "code",
   "execution_count": 314,
   "metadata": {},
   "outputs": [
    {
     "data": {
      "text/plain": [
       "Permit Expiration Date                    0.260835\n",
       "Existing Units                            0.259115\n",
       "Proposed Units                            0.255963\n",
       "Existing Construction Type Description    0.218029\n",
       "Existing Construction Type                0.218029\n",
       "Proposed Construction Type Description    0.217004\n",
       "Proposed Construction Type                0.217004\n",
       "Number of Proposed Stories                0.215525\n",
       "Number of Existing Stories                0.215103\n",
       "Proposed Use                              0.213369\n",
       "Existing Use                              0.206707\n",
       "Estimated Cost                            0.191383\n",
       "Plansets                                  0.187577\n",
       "First Construction Document Date          0.075143\n",
       "Issued Date                               0.075113\n",
       "Revised Cost                              0.030498\n",
       "Street Suffix                             0.013917\n",
       "Neighborhoods - Analysis Boundaries       0.008673\n",
       "Supervisor District                       0.008632\n",
       "Zipcode                                   0.008627\n",
       "Location                                  0.008547\n",
       "Description                               0.001458\n",
       "Street Number                             0.000000\n",
       "Permit Type Definition                    0.000000\n",
       "Permit Type                               0.000000\n",
       "Permit Creation Date                      0.000000\n",
       "Block                                     0.000000\n",
       "Lot                                       0.000000\n",
       "Record ID                                 0.000000\n",
       "Fire Only Permit                          0.000000\n",
       "Street Name                               0.000000\n",
       "Current Status                            0.000000\n",
       "Current Status Date                       0.000000\n",
       "Filed Date                                0.000000\n",
       "Voluntary Soft-Story Retrofit             0.000000\n",
       "Site Permit                               0.000000\n",
       "Permit Number                             0.000000\n",
       "dtype: float64"
      ]
     },
     "execution_count": 314,
     "metadata": {},
     "output_type": "execute_result"
    }
   ],
   "source": [
    "sums = building_df.isnull().sum()\n",
    "missing_percent = (sums/building_df.shape[0]).sort_values(ascending=False)\n",
    "missing_percent"
   ]
  },
  {
   "cell_type": "markdown",
   "metadata": {},
   "source": [
    "Nach der Behandlung der Daten fehlen nur noch knapp 8,4 % der Daten"
   ]
  },
  {
   "cell_type": "code",
   "execution_count": 315,
   "metadata": {},
   "outputs": [
    {
     "data": {
      "text/plain": [
       "8.39526857173916"
      ]
     },
     "execution_count": 315,
     "metadata": {},
     "output_type": "execute_result"
    }
   ],
   "source": [
    "# total number of cells \n",
    "total_cells = np.product(building_df.shape)\n",
    "# total missing values \n",
    "missing_values = building_df.isnull().sum()\n",
    "total_missing_values = missing_values.sum()\n",
    "\n",
    "# percentage of nan or None cells \n",
    "nan_or_null_cell_percentage = (total_missing_values/total_cells)*100\n",
    "nan_or_null_cell_percentage"
   ]
  },
  {
   "cell_type": "markdown",
   "metadata": {},
   "source": [
    "### Beschreibenden Spalten ignorieren\n",
    "\n",
    "Nachdem wir die Spalten mit den meistfehlenden Einträgen behandelt haben, schauen wir uns den restlichen Datensatz an. Wir können hier erkennen, dass es einige Spalten gibt, die andere wiederum  beschreiben.\n",
    "\n",
    "Permit Type - Permit Type Definition\n",
    "\n",
    "Wir haben uns entschieden, die Spalte rauszuschmeißen, welche eine numerische Spalte beschreibt -- Also Permit Type Definition z.B"
   ]
  },
  {
   "cell_type": "code",
   "execution_count": 316,
   "metadata": {},
   "outputs": [],
   "source": [
    "unuseful_columns = ['Record ID', 'Description', 'Permit Type Definition', 'Existing Construction Type Description', 'Proposed Construction Type Description']\n",
    "building_df.drop(unuseful_columns, axis=1, inplace=True)\n"
   ]
  },
  {
   "cell_type": "code",
   "execution_count": 317,
   "metadata": {},
   "outputs": [
    {
     "data": {
      "text/plain": [
       "Permit Expiration Date                 0.260835\n",
       "Existing Units                         0.259115\n",
       "Proposed Units                         0.255963\n",
       "Existing Construction Type             0.218029\n",
       "Proposed Construction Type             0.217004\n",
       "Number of Proposed Stories             0.215525\n",
       "Number of Existing Stories             0.215103\n",
       "Proposed Use                           0.213369\n",
       "Existing Use                           0.206707\n",
       "Estimated Cost                         0.191383\n",
       "Plansets                               0.187577\n",
       "First Construction Document Date       0.075143\n",
       "Issued Date                            0.075113\n",
       "Revised Cost                           0.030498\n",
       "Street Suffix                          0.013917\n",
       "Neighborhoods - Analysis Boundaries    0.008673\n",
       "Supervisor District                    0.008632\n",
       "Zipcode                                0.008627\n",
       "Location                               0.008547\n",
       "Permit Creation Date                   0.000000\n",
       "Street Name                            0.000000\n",
       "Permit Type                            0.000000\n",
       "Block                                  0.000000\n",
       "Lot                                    0.000000\n",
       "Street Number                          0.000000\n",
       "Voluntary Soft-Story Retrofit          0.000000\n",
       "Current Status                         0.000000\n",
       "Current Status Date                    0.000000\n",
       "Filed Date                             0.000000\n",
       "Fire Only Permit                       0.000000\n",
       "Site Permit                            0.000000\n",
       "Permit Number                          0.000000\n",
       "dtype: float64"
      ]
     },
     "execution_count": 317,
     "metadata": {},
     "output_type": "execute_result"
    }
   ],
   "source": [
    "sums = building_df.isnull().sum()\n",
    "missing_percent = (sums/building_df.shape[0]).sort_values(ascending=False)\n",
    "missing_percent"
   ]
  },
  {
   "cell_type": "markdown",
   "metadata": {},
   "source": [
    "### Logischer Zusammenhang zw. Proposed Spalten und Existing Spalten\n",
    "\n",
    "Wir haben uns den Datensatz mal genauer angeschaut und fest gestellt, dass bei vielen Tupeln, die Einträge bei Proposed Spalten und Existing Spalten identisch sind (immer über ca. 75%). Die Zahlen sollten nicht zu unterschiedlich sein es könnte möglich sein, dass die'Existing'-Spalten für Baugenehmigungen wichtiger sind. \n",
    "\n"
   ]
  },
  {
   "cell_type": "code",
   "execution_count": 318,
   "metadata": {},
   "outputs": [
    {
     "data": {
      "text/plain": [
       "0.7422976370035194"
      ]
     },
     "execution_count": 318,
     "metadata": {},
     "output_type": "execute_result"
    }
   ],
   "source": [
    "(building_df['Existing Use'] == building_df['Proposed Use']).sum() / len(building_df['Proposed Use'])"
   ]
  },
  {
   "cell_type": "code",
   "execution_count": 319,
   "metadata": {},
   "outputs": [
    {
     "data": {
      "text/plain": [
       "0.7635796882855707"
      ]
     },
     "execution_count": 319,
     "metadata": {},
     "output_type": "execute_result"
    }
   ],
   "source": [
    "(building_df['Existing Construction Type'] == building_df['Proposed Construction Type']).sum() / len(building_df['Proposed Construction Type'])"
   ]
  },
  {
   "cell_type": "code",
   "execution_count": 320,
   "metadata": {},
   "outputs": [
    {
     "data": {
      "text/plain": [
       "0.969502262443439"
      ]
     },
     "execution_count": 320,
     "metadata": {},
     "output_type": "execute_result"
    }
   ],
   "source": [
    "(building_df['Revised Cost'] == building_df['Revised Cost']).sum() / len(building_df['Estimated Cost'])"
   ]
  },
  {
   "cell_type": "code",
   "execution_count": 321,
   "metadata": {},
   "outputs": [
    {
     "data": {
      "text/plain": [
       "0.7525641025641026"
      ]
     },
     "execution_count": 321,
     "metadata": {},
     "output_type": "execute_result"
    }
   ],
   "source": [
    "(building_df['Number of Existing Stories'] == building_df['Number of Proposed Stories']).sum() / len(building_df['Number of Proposed Stories'])"
   ]
  },
  {
   "cell_type": "code",
   "execution_count": 322,
   "metadata": {},
   "outputs": [
    {
     "data": {
      "text/plain": [
       "0.7635796882855707"
      ]
     },
     "execution_count": 322,
     "metadata": {},
     "output_type": "execute_result"
    }
   ],
   "source": [
    "(building_df['Existing Construction Type'] == building_df['Proposed Construction Type']).sum() / len(building_df['Proposed Construction Type'])"
   ]
  },
  {
   "cell_type": "markdown",
   "metadata": {},
   "source": [
    "Alternativ könnte man entweder  die Einträge mit den fehlenden Werten löschen und hätte somit aber nur noch knapp 80% der Daten oder den Median eintragen.\n",
    "\n",
    "Wir haben uns dazu entschieden, die Werte aus den Proposed (und Revised) Spalten in die Estimated Spalten zu übernehmen\n"
   ]
  },
  {
   "cell_type": "code",
   "execution_count": 323,
   "metadata": {},
   "outputs": [],
   "source": [
    "building_df['Existing Use'].fillna(building_df['Proposed Use'], inplace=True)\n",
    "building_df['Revised Cost'].fillna(building_df['Estimated Cost'], inplace=True)\n",
    "building_df['Existing Units'].fillna(building_df['Proposed Units'], inplace=True)\n",
    "building_df['Number of Existing Stories'].fillna(building_df['Number of Proposed Stories'], inplace=True)\n",
    "building_df['Existing Construction Type'].fillna(building_df['Proposed Construction Type'], inplace=True)"
   ]
  },
  {
   "cell_type": "code",
   "execution_count": 324,
   "metadata": {},
   "outputs": [
    {
     "data": {
      "text/plain": [
       "Permit Expiration Date                 0.260835\n",
       "Proposed Units                         0.255963\n",
       "Existing Units                         0.243957\n",
       "Proposed Construction Type             0.217004\n",
       "Number of Proposed Stories             0.215525\n",
       "Proposed Use                           0.213369\n",
       "Existing Construction Type             0.199211\n",
       "Number of Existing Stories             0.197959\n",
       "Existing Use                           0.195093\n",
       "Estimated Cost                         0.191383\n",
       "Plansets                               0.187577\n",
       "First Construction Document Date       0.075143\n",
       "Issued Date                            0.075113\n",
       "Street Suffix                          0.013917\n",
       "Neighborhoods - Analysis Boundaries    0.008673\n",
       "Supervisor District                    0.008632\n",
       "Zipcode                                0.008627\n",
       "Location                               0.008547\n",
       "Revised Cost                           0.003042\n",
       "Permit Creation Date                   0.000000\n",
       "Street Name                            0.000000\n",
       "Permit Type                            0.000000\n",
       "Block                                  0.000000\n",
       "Lot                                    0.000000\n",
       "Street Number                          0.000000\n",
       "Voluntary Soft-Story Retrofit          0.000000\n",
       "Current Status                         0.000000\n",
       "Current Status Date                    0.000000\n",
       "Filed Date                             0.000000\n",
       "Fire Only Permit                       0.000000\n",
       "Site Permit                            0.000000\n",
       "Permit Number                          0.000000\n",
       "dtype: float64"
      ]
     },
     "execution_count": 324,
     "metadata": {},
     "output_type": "execute_result"
    }
   ],
   "source": [
    "sums = building_df.isnull().sum()\n",
    "missing_percent = (sums/building_df.shape[0]).sort_values(ascending=False)\n",
    "missing_percent"
   ]
  },
  {
   "cell_type": "markdown",
   "metadata": {},
   "source": [
    "### Datum anpassen, neue Spaltenaufteilung und alte Datumspalten entfernen\n",
    "\n",
    "da die Daten in der jeweiligen spalte auch in verschiedenen Formaten existieren, haben wir uns dazu entschieden, die Spalten aufzubrechen in einzelne Tag, Monat und Jahre Spalte und die ursprüngliche Spalte zu entfernen "
   ]
  },
  {
   "cell_type": "code",
   "execution_count": 325,
   "metadata": {},
   "outputs": [],
   "source": [
    "date_columns = [\n",
    "    'Permit Creation Date',\n",
    "    'Current Status Date',\n",
    "    'Filed Date',\n",
    "    'Issued Date',\n",
    "    'First Construction Document Date',\n",
    "    'Permit Expiration Date'\n",
    "]"
   ]
  },
  {
   "cell_type": "code",
   "execution_count": 326,
   "metadata": {},
   "outputs": [],
   "source": [
    "def split_dates(column_name):\n",
    "    name = column_name[0:-4]\n",
    "    building_df[name+'Year'] = building_df[column_name].astype(str).str[-4:]\n",
    "    building_df[name+'Year'] = pd.to_numeric(building_df[name+'Year'], errors='coerce')\n",
    "    building_df[name+'Day'] = building_df[column_name].astype(str).str[3:5]\n",
    "    building_df[name+'Day'] = pd.to_numeric(building_df[name+'Day'], errors='coerce')\n",
    "    building_df[name+'Month'] = building_df[column_name].astype(str).str[0:2]\n",
    "    building_df[name+'Month'] = pd.to_numeric(building_df[name+'Month'], errors='coerce')\n",
    "for i in date_columns:\n",
    "    split_dates(i)"
   ]
  },
  {
   "cell_type": "code",
   "execution_count": 327,
   "metadata": {},
   "outputs": [
    {
     "data": {
      "text/plain": [
       "Index(['Permit Number', 'Permit Type', 'Permit Creation Date', 'Block', 'Lot',\n",
       "       'Street Number', 'Street Name', 'Street Suffix', 'Current Status',\n",
       "       'Current Status Date', 'Filed Date', 'Issued Date',\n",
       "       'First Construction Document Date', 'Number of Existing Stories',\n",
       "       'Number of Proposed Stories', 'Voluntary Soft-Story Retrofit',\n",
       "       'Fire Only Permit', 'Permit Expiration Date', 'Estimated Cost',\n",
       "       'Revised Cost', 'Existing Use', 'Existing Units', 'Proposed Use',\n",
       "       'Proposed Units', 'Plansets', 'Existing Construction Type',\n",
       "       'Proposed Construction Type', 'Site Permit', 'Supervisor District',\n",
       "       'Neighborhoods - Analysis Boundaries', 'Zipcode', 'Location',\n",
       "       'Permit Creation Year', 'Permit Creation Day', 'Permit Creation Month',\n",
       "       'Current Status Year', 'Current Status Day', 'Current Status Month',\n",
       "       'Filed Year', 'Filed Day', 'Filed Month', 'Issued Year', 'Issued Day',\n",
       "       'Issued Month', 'First Construction Document Year',\n",
       "       'First Construction Document Day', 'First Construction Document Month',\n",
       "       'Permit Expiration Year', 'Permit Expiration Day',\n",
       "       'Permit Expiration Month'],\n",
       "      dtype='object')"
      ]
     },
     "execution_count": 327,
     "metadata": {},
     "output_type": "execute_result"
    }
   ],
   "source": [
    "building_df.columns"
   ]
  },
  {
   "cell_type": "code",
   "execution_count": 328,
   "metadata": {},
   "outputs": [],
   "source": [
    "for i in date_columns:\n",
    "    drop_column(i)"
   ]
  },
  {
   "cell_type": "code",
   "execution_count": 329,
   "metadata": {},
   "outputs": [
    {
     "data": {
      "text/plain": [
       "Index(['Permit Number', 'Permit Type', 'Block', 'Lot', 'Street Number',\n",
       "       'Street Name', 'Street Suffix', 'Current Status',\n",
       "       'Number of Existing Stories', 'Number of Proposed Stories',\n",
       "       'Voluntary Soft-Story Retrofit', 'Fire Only Permit', 'Estimated Cost',\n",
       "       'Revised Cost', 'Existing Use', 'Existing Units', 'Proposed Use',\n",
       "       'Proposed Units', 'Plansets', 'Existing Construction Type',\n",
       "       'Proposed Construction Type', 'Site Permit', 'Supervisor District',\n",
       "       'Neighborhoods - Analysis Boundaries', 'Zipcode', 'Location',\n",
       "       'Permit Creation Year', 'Permit Creation Day', 'Permit Creation Month',\n",
       "       'Current Status Year', 'Current Status Day', 'Current Status Month',\n",
       "       'Filed Year', 'Filed Day', 'Filed Month', 'Issued Year', 'Issued Day',\n",
       "       'Issued Month', 'First Construction Document Year',\n",
       "       'First Construction Document Day', 'First Construction Document Month',\n",
       "       'Permit Expiration Year', 'Permit Expiration Day',\n",
       "       'Permit Expiration Month'],\n",
       "      dtype='object')"
      ]
     },
     "execution_count": 329,
     "metadata": {},
     "output_type": "execute_result"
    }
   ],
   "source": [
    "building_df.columns"
   ]
  },
  {
   "cell_type": "code",
   "execution_count": 330,
   "metadata": {},
   "outputs": [
    {
     "data": {
      "text/plain": [
       "Permit Expiration Month                0.260835\n",
       "Permit Expiration Year                 0.260835\n",
       "Permit Expiration Day                  0.260835\n",
       "Proposed Units                         0.255963\n",
       "Existing Units                         0.243957\n",
       "Proposed Construction Type             0.217004\n",
       "Number of Proposed Stories             0.215525\n",
       "Proposed Use                           0.213369\n",
       "Existing Construction Type             0.199211\n",
       "Number of Existing Stories             0.197959\n",
       "Existing Use                           0.195093\n",
       "Estimated Cost                         0.191383\n",
       "Plansets                               0.187577\n",
       "First Construction Document Month      0.075143\n",
       "First Construction Document Day        0.075143\n",
       "First Construction Document Year       0.075143\n",
       "Issued Year                            0.075113\n",
       "Issued Month                           0.075113\n",
       "Issued Day                             0.075113\n",
       "Street Suffix                          0.013917\n",
       "Neighborhoods - Analysis Boundaries    0.008673\n",
       "Supervisor District                    0.008632\n",
       "Zipcode                                0.008627\n",
       "Location                               0.008547\n",
       "Revised Cost                           0.003042\n",
       "Lot                                    0.000000\n",
       "Permit Type                            0.000000\n",
       "Voluntary Soft-Story Retrofit          0.000000\n",
       "Current Status                         0.000000\n",
       "Street Name                            0.000000\n",
       "Street Number                          0.000000\n",
       "Block                                  0.000000\n",
       "Site Permit                            0.000000\n",
       "Fire Only Permit                       0.000000\n",
       "Permit Creation Year                   0.000000\n",
       "Permit Creation Day                    0.000000\n",
       "Permit Creation Month                  0.000000\n",
       "Current Status Year                    0.000000\n",
       "Current Status Day                     0.000000\n",
       "Current Status Month                   0.000000\n",
       "Filed Year                             0.000000\n",
       "Filed Day                              0.000000\n",
       "Filed Month                            0.000000\n",
       "Permit Number                          0.000000\n",
       "dtype: float64"
      ]
     },
     "execution_count": 330,
     "metadata": {},
     "output_type": "execute_result"
    }
   ],
   "source": [
    "sums = building_df.isnull().sum()\n",
    "missing_percent = (sums/building_df.shape[0]).sort_values(ascending=False)\n",
    "missing_percent"
   ]
  },
  {
   "cell_type": "markdown",
   "metadata": {},
   "source": [
    "### Welche Spalten sind für die Vorhersage (logisch) sinnvoll und welche nicht?\n",
    "\n",
    "Nachdem wir schon einige Spalten behandelt haben, haben wir uns überlegt, welche Spalten wir in diesem schon gesäuberten Datensatz behalten, und welche wir vor nicht sinnvoll halten. \n",
    "\n",
    "Hier eine Übersicht:\n",
    "\n",
    "* Location - Die Location ist nur ein Geokoordinate, das keinen Nutzen  ohne die Zonen hat (zu komplex für diesen Zweck und die Postleitzahl ist besser dafür).\n",
    "* Proposed Use - nutzen hier Existing Use\n",
    "* Estimated Cost  - nutzen hier revised Cost\n",
    "* Proposed Units - nutzen hier Estimated Unit\n",
    "* Number of Proposed Stories - nutzen hier Number of Estimated Stories\n",
    "* Proposed Construction Type - nutzen hier Estimated Construction Type\n",
    "* Street Number - wir ignorieren die Hausnummer , weil sie kategorisch ist, aber zu viele Kategorien hat und keinen Einfluss auf die Baugenehmigung hat (sollte nicht). \n",
    "* Block - tdie Adresse liefert keine guten Daten für Baugenehmigungen und kann nicht verwendet werden. \n",
    "* Lot\n",
    "* **Street Name** - wir haben uns entschieden, den Straßennamen zu behalten, weil es nicht zu viele Werte gibt und alle Zeilen ihn haben.\n",
    "* Street Suffix -  keinen Einfluss auf die Baugenehmigung hat (sollte nicht). \n",
    "* Permit Number - nur eine Zahl, zu viele Kategorien "
   ]
  },
  {
   "cell_type": "code",
   "execution_count": 331,
   "metadata": {},
   "outputs": [
    {
     "data": {
      "text/plain": [
       "1704"
      ]
     },
     "execution_count": 331,
     "metadata": {},
     "output_type": "execute_result"
    }
   ],
   "source": [
    "len(building_df['Street Name'].unique())"
   ]
  },
  {
   "cell_type": "code",
   "execution_count": 332,
   "metadata": {},
   "outputs": [],
   "source": [
    "columns_to_drop = ['Location', \n",
    "                   'Proposed Use',\n",
    "                   'Estimated Cost',\n",
    "                   'Proposed Units',\n",
    "                   'Number of Proposed Stories',\n",
    "                   'Proposed Construction Type',\n",
    "                   'Street Number', \n",
    "                   'Block', \n",
    "                   'Lot',\n",
    "                   'Street Suffix',\n",
    "                   'Permit Number', \n",
    "\n",
    "                  \n",
    "                  ]"
   ]
  },
  {
   "cell_type": "code",
   "execution_count": 333,
   "metadata": {},
   "outputs": [],
   "source": [
    "for i in columns_to_drop:\n",
    "    drop_column(i)"
   ]
  },
  {
   "cell_type": "code",
   "execution_count": 334,
   "metadata": {},
   "outputs": [
    {
     "data": {
      "text/plain": [
       "(198900, 33)"
      ]
     },
     "execution_count": 334,
     "metadata": {},
     "output_type": "execute_result"
    }
   ],
   "source": [
    "building_df.shape"
   ]
  },
  {
   "cell_type": "code",
   "execution_count": 335,
   "metadata": {},
   "outputs": [
    {
     "data": {
      "text/plain": [
       "Permit Expiration Month                0.260835\n",
       "Permit Expiration Year                 0.260835\n",
       "Permit Expiration Day                  0.260835\n",
       "Existing Units                         0.243957\n",
       "Existing Construction Type             0.199211\n",
       "Number of Existing Stories             0.197959\n",
       "Existing Use                           0.195093\n",
       "Plansets                               0.187577\n",
       "First Construction Document Year       0.075143\n",
       "First Construction Document Day        0.075143\n",
       "First Construction Document Month      0.075143\n",
       "Issued Month                           0.075113\n",
       "Issued Day                             0.075113\n",
       "Issued Year                            0.075113\n",
       "Neighborhoods - Analysis Boundaries    0.008673\n",
       "Supervisor District                    0.008632\n",
       "Zipcode                                0.008627\n",
       "Revised Cost                           0.003042\n",
       "Street Name                            0.000000\n",
       "Current Status                         0.000000\n",
       "Voluntary Soft-Story Retrofit          0.000000\n",
       "Fire Only Permit                       0.000000\n",
       "Permit Creation Day                    0.000000\n",
       "Site Permit                            0.000000\n",
       "Permit Creation Year                   0.000000\n",
       "Permit Creation Month                  0.000000\n",
       "Current Status Year                    0.000000\n",
       "Current Status Day                     0.000000\n",
       "Current Status Month                   0.000000\n",
       "Filed Year                             0.000000\n",
       "Filed Day                              0.000000\n",
       "Filed Month                            0.000000\n",
       "Permit Type                            0.000000\n",
       "dtype: float64"
      ]
     },
     "execution_count": 335,
     "metadata": {},
     "output_type": "execute_result"
    }
   ],
   "source": [
    "sums = building_df.isnull().sum()\n",
    "missing_percent = (sums/building_df.shape[0]).sort_values(ascending=False)\n",
    "missing_percent"
   ]
  },
  {
   "cell_type": "markdown",
   "metadata": {},
   "source": [
    "# Imputations\n",
    "\n",
    "\n",
    "Damit man später weiß, welche Werte imputiert/nachberechnet wurden. fügen wir für jede Spalte eine zusätzliche Spalte hinzu, deren fehlende Werte anzeigen, ob dieser Wert berechnet wurde oder nicht. "
   ]
  },
  {
   "cell_type": "code",
   "execution_count": 336,
   "metadata": {},
   "outputs": [],
   "source": [
    "imputed = building_df.copy()\n",
    "cols_with_missing = (col for col in building_df.columns \n",
    "                                 if building_df[col].isnull().any())\n",
    "for col in cols_with_missing:\n",
    "    imputed[col + '_was_missing'] = imputed[col].isnull()\n",
    "    "
   ]
  },
  {
   "cell_type": "code",
   "execution_count": 337,
   "metadata": {},
   "outputs": [
    {
     "data": {
      "text/html": [
       "<div>\n",
       "<style scoped>\n",
       "    .dataframe tbody tr th:only-of-type {\n",
       "        vertical-align: middle;\n",
       "    }\n",
       "\n",
       "    .dataframe tbody tr th {\n",
       "        vertical-align: top;\n",
       "    }\n",
       "\n",
       "    .dataframe thead th {\n",
       "        text-align: right;\n",
       "    }\n",
       "</style>\n",
       "<table border=\"1\" class=\"dataframe\">\n",
       "  <thead>\n",
       "    <tr style=\"text-align: right;\">\n",
       "      <th></th>\n",
       "      <th>Permit Type</th>\n",
       "      <th>Street Name</th>\n",
       "      <th>Current Status</th>\n",
       "      <th>Number of Existing Stories</th>\n",
       "      <th>Voluntary Soft-Story Retrofit</th>\n",
       "      <th>Fire Only Permit</th>\n",
       "      <th>Revised Cost</th>\n",
       "      <th>Existing Use</th>\n",
       "      <th>Existing Units</th>\n",
       "      <th>Plansets</th>\n",
       "      <th>...</th>\n",
       "      <th>Zipcode_was_missing</th>\n",
       "      <th>Issued Year_was_missing</th>\n",
       "      <th>Issued Day_was_missing</th>\n",
       "      <th>Issued Month_was_missing</th>\n",
       "      <th>First Construction Document Year_was_missing</th>\n",
       "      <th>First Construction Document Day_was_missing</th>\n",
       "      <th>First Construction Document Month_was_missing</th>\n",
       "      <th>Permit Expiration Year_was_missing</th>\n",
       "      <th>Permit Expiration Day_was_missing</th>\n",
       "      <th>Permit Expiration Month_was_missing</th>\n",
       "    </tr>\n",
       "  </thead>\n",
       "  <tbody>\n",
       "    <tr>\n",
       "      <th>0</th>\n",
       "      <td>4</td>\n",
       "      <td>Ellis</td>\n",
       "      <td>expired</td>\n",
       "      <td>6.0</td>\n",
       "      <td>N</td>\n",
       "      <td>N</td>\n",
       "      <td>4000.0</td>\n",
       "      <td>tourist hotel/motel</td>\n",
       "      <td>143.0</td>\n",
       "      <td>2.0</td>\n",
       "      <td>...</td>\n",
       "      <td>False</td>\n",
       "      <td>False</td>\n",
       "      <td>False</td>\n",
       "      <td>False</td>\n",
       "      <td>False</td>\n",
       "      <td>False</td>\n",
       "      <td>False</td>\n",
       "      <td>False</td>\n",
       "      <td>False</td>\n",
       "      <td>False</td>\n",
       "    </tr>\n",
       "    <tr>\n",
       "      <th>1</th>\n",
       "      <td>4</td>\n",
       "      <td>Geary</td>\n",
       "      <td>issued</td>\n",
       "      <td>7.0</td>\n",
       "      <td>N</td>\n",
       "      <td>N</td>\n",
       "      <td>500.0</td>\n",
       "      <td>tourist hotel/motel</td>\n",
       "      <td>NaN</td>\n",
       "      <td>2.0</td>\n",
       "      <td>...</td>\n",
       "      <td>False</td>\n",
       "      <td>False</td>\n",
       "      <td>False</td>\n",
       "      <td>False</td>\n",
       "      <td>False</td>\n",
       "      <td>False</td>\n",
       "      <td>False</td>\n",
       "      <td>False</td>\n",
       "      <td>False</td>\n",
       "      <td>False</td>\n",
       "    </tr>\n",
       "    <tr>\n",
       "      <th>2</th>\n",
       "      <td>3</td>\n",
       "      <td>Pacific</td>\n",
       "      <td>withdrawn</td>\n",
       "      <td>6.0</td>\n",
       "      <td>N</td>\n",
       "      <td>N</td>\n",
       "      <td>20000.0</td>\n",
       "      <td>retail sales</td>\n",
       "      <td>39.0</td>\n",
       "      <td>2.0</td>\n",
       "      <td>...</td>\n",
       "      <td>False</td>\n",
       "      <td>True</td>\n",
       "      <td>True</td>\n",
       "      <td>True</td>\n",
       "      <td>True</td>\n",
       "      <td>True</td>\n",
       "      <td>True</td>\n",
       "      <td>True</td>\n",
       "      <td>True</td>\n",
       "      <td>True</td>\n",
       "    </tr>\n",
       "    <tr>\n",
       "      <th>3</th>\n",
       "      <td>8</td>\n",
       "      <td>Pacific</td>\n",
       "      <td>complete</td>\n",
       "      <td>2.0</td>\n",
       "      <td>N</td>\n",
       "      <td>N</td>\n",
       "      <td>2000.0</td>\n",
       "      <td>1 family dwelling</td>\n",
       "      <td>1.0</td>\n",
       "      <td>2.0</td>\n",
       "      <td>...</td>\n",
       "      <td>False</td>\n",
       "      <td>False</td>\n",
       "      <td>False</td>\n",
       "      <td>False</td>\n",
       "      <td>False</td>\n",
       "      <td>False</td>\n",
       "      <td>False</td>\n",
       "      <td>False</td>\n",
       "      <td>False</td>\n",
       "      <td>False</td>\n",
       "    </tr>\n",
       "    <tr>\n",
       "      <th>4</th>\n",
       "      <td>6</td>\n",
       "      <td>Market</td>\n",
       "      <td>issued</td>\n",
       "      <td>3.0</td>\n",
       "      <td>N</td>\n",
       "      <td>N</td>\n",
       "      <td>100000.0</td>\n",
       "      <td>retail sales</td>\n",
       "      <td>NaN</td>\n",
       "      <td>2.0</td>\n",
       "      <td>...</td>\n",
       "      <td>False</td>\n",
       "      <td>False</td>\n",
       "      <td>False</td>\n",
       "      <td>False</td>\n",
       "      <td>False</td>\n",
       "      <td>False</td>\n",
       "      <td>False</td>\n",
       "      <td>False</td>\n",
       "      <td>False</td>\n",
       "      <td>False</td>\n",
       "    </tr>\n",
       "  </tbody>\n",
       "</table>\n",
       "<p>5 rows × 51 columns</p>\n",
       "</div>"
      ],
      "text/plain": [
       "   Permit Type Street Name Current Status  Number of Existing Stories  \\\n",
       "0            4       Ellis        expired                         6.0   \n",
       "1            4       Geary         issued                         7.0   \n",
       "2            3     Pacific      withdrawn                         6.0   \n",
       "3            8     Pacific       complete                         2.0   \n",
       "4            6      Market         issued                         3.0   \n",
       "\n",
       "  Voluntary Soft-Story Retrofit Fire Only Permit  Revised Cost  \\\n",
       "0                             N                N        4000.0   \n",
       "1                             N                N         500.0   \n",
       "2                             N                N       20000.0   \n",
       "3                             N                N        2000.0   \n",
       "4                             N                N      100000.0   \n",
       "\n",
       "          Existing Use  Existing Units  Plansets  ...  Zipcode_was_missing  \\\n",
       "0  tourist hotel/motel           143.0       2.0  ...                False   \n",
       "1  tourist hotel/motel             NaN       2.0  ...                False   \n",
       "2         retail sales            39.0       2.0  ...                False   \n",
       "3    1 family dwelling             1.0       2.0  ...                False   \n",
       "4         retail sales             NaN       2.0  ...                False   \n",
       "\n",
       "  Issued Year_was_missing  Issued Day_was_missing Issued Month_was_missing  \\\n",
       "0                   False                   False                    False   \n",
       "1                   False                   False                    False   \n",
       "2                    True                    True                     True   \n",
       "3                   False                   False                    False   \n",
       "4                   False                   False                    False   \n",
       "\n",
       "   First Construction Document Year_was_missing  \\\n",
       "0                                         False   \n",
       "1                                         False   \n",
       "2                                          True   \n",
       "3                                         False   \n",
       "4                                         False   \n",
       "\n",
       "   First Construction Document Day_was_missing  \\\n",
       "0                                        False   \n",
       "1                                        False   \n",
       "2                                         True   \n",
       "3                                        False   \n",
       "4                                        False   \n",
       "\n",
       "   First Construction Document Month_was_missing  \\\n",
       "0                                          False   \n",
       "1                                          False   \n",
       "2                                           True   \n",
       "3                                          False   \n",
       "4                                          False   \n",
       "\n",
       "   Permit Expiration Year_was_missing  Permit Expiration Day_was_missing  \\\n",
       "0                               False                              False   \n",
       "1                               False                              False   \n",
       "2                                True                               True   \n",
       "3                               False                              False   \n",
       "4                               False                              False   \n",
       "\n",
       "   Permit Expiration Month_was_missing  \n",
       "0                                False  \n",
       "1                                False  \n",
       "2                                 True  \n",
       "3                                False  \n",
       "4                                False  \n",
       "\n",
       "[5 rows x 51 columns]"
      ]
     },
     "execution_count": 337,
     "metadata": {},
     "output_type": "execute_result"
    }
   ],
   "source": [
    "imputed.head(5)"
   ]
  },
  {
   "cell_type": "code",
   "execution_count": 338,
   "metadata": {},
   "outputs": [
    {
     "data": {
      "text/plain": [
       "Permit Expiration Month                            0.260835\n",
       "Permit Expiration Year                             0.260835\n",
       "Permit Expiration Day                              0.260835\n",
       "Existing Units                                     0.243957\n",
       "Existing Construction Type                         0.199211\n",
       "Number of Existing Stories                         0.197959\n",
       "Existing Use                                       0.195093\n",
       "Plansets                                           0.187577\n",
       "First Construction Document Year                   0.075143\n",
       "First Construction Document Day                    0.075143\n",
       "First Construction Document Month                  0.075143\n",
       "Issued Day                                         0.075113\n",
       "Issued Year                                        0.075113\n",
       "Issued Month                                       0.075113\n",
       "Neighborhoods - Analysis Boundaries                0.008673\n",
       "Supervisor District                                0.008632\n",
       "Zipcode                                            0.008627\n",
       "Revised Cost                                       0.003042\n",
       "Permit Creation Year                               0.000000\n",
       "Permit Creation Day                                0.000000\n",
       "Current Status Month                               0.000000\n",
       "Site Permit                                        0.000000\n",
       "Fire Only Permit                                   0.000000\n",
       "Voluntary Soft-Story Retrofit                      0.000000\n",
       "Current Status                                     0.000000\n",
       "Permit Creation Month                              0.000000\n",
       "Street Name                                        0.000000\n",
       "Current Status Year                                0.000000\n",
       "Current Status Day                                 0.000000\n",
       "Permit Expiration Month_was_missing                0.000000\n",
       "Filed Year                                         0.000000\n",
       "Neighborhoods - Analysis Boundaries_was_missing    0.000000\n",
       "Permit Expiration Year_was_missing                 0.000000\n",
       "First Construction Document Month_was_missing      0.000000\n",
       "First Construction Document Day_was_missing        0.000000\n",
       "First Construction Document Year_was_missing       0.000000\n",
       "Issued Month_was_missing                           0.000000\n",
       "Issued Day_was_missing                             0.000000\n",
       "Issued Year_was_missing                            0.000000\n",
       "Zipcode_was_missing                                0.000000\n",
       "Supervisor District_was_missing                    0.000000\n",
       "Filed Day                                          0.000000\n",
       "Existing Construction Type_was_missing             0.000000\n",
       "Plansets_was_missing                               0.000000\n",
       "Existing Units_was_missing                         0.000000\n",
       "Existing Use_was_missing                           0.000000\n",
       "Revised Cost_was_missing                           0.000000\n",
       "Number of Existing Stories_was_missing             0.000000\n",
       "Permit Expiration Day_was_missing                  0.000000\n",
       "Filed Month                                        0.000000\n",
       "Permit Type                                        0.000000\n",
       "dtype: float64"
      ]
     },
     "execution_count": 338,
     "metadata": {},
     "output_type": "execute_result"
    }
   ],
   "source": [
    "sums = imputed.isnull().sum()\n",
    "missing_percent = (sums/imputed.shape[0]).sort_values(ascending=False)\n",
    "missing_percent"
   ]
  },
  {
   "cell_type": "code",
   "execution_count": 339,
   "metadata": {},
   "outputs": [
    {
     "data": {
      "text/plain": [
       "(198900, 33)"
      ]
     },
     "execution_count": 339,
     "metadata": {},
     "output_type": "execute_result"
    }
   ],
   "source": [
    "# vergelich imputing zu original\n",
    "building_df.shape\n"
   ]
  },
  {
   "cell_type": "code",
   "execution_count": 340,
   "metadata": {},
   "outputs": [
    {
     "data": {
      "text/plain": [
       "(198900, 51)"
      ]
     },
     "execution_count": 340,
     "metadata": {},
     "output_type": "execute_result"
    }
   ],
   "source": [
    "imputed.shape"
   ]
  },
  {
   "cell_type": "markdown",
   "metadata": {},
   "source": [
    "Wenn man den Datensatz betrachtet, gibt es ein paar Spalten (z.B Revised Cost,) die Numerisch sind, bei denen wir, wie in der Vorlesung behandelt, den Median imputieren können.."
   ]
  },
  {
   "cell_type": "code",
   "execution_count": 341,
   "metadata": {},
   "outputs": [],
   "source": [
    "numerical_cols = [\n",
    "    'Revised Cost',\n",
    "]"
   ]
  },
  {
   "cell_type": "code",
   "execution_count": 345,
   "metadata": {},
   "outputs": [
    {
     "data": {
      "text/plain": [
       "0"
      ]
     },
     "execution_count": 345,
     "metadata": {},
     "output_type": "execute_result"
    }
   ],
   "source": [
    "imputed['Revised Cost'].isnull().sum()"
   ]
  },
  {
   "cell_type": "code",
   "execution_count": 346,
   "metadata": {},
   "outputs": [],
   "source": [
    "for column in numerical_cols:\n",
    "    imputed[column].fillna( imputed[column].mean(skipna=True) , inplace=True)"
   ]
  },
  {
   "cell_type": "code",
   "execution_count": 347,
   "metadata": {},
   "outputs": [
    {
     "data": {
      "text/plain": [
       "0"
      ]
     },
     "execution_count": 347,
     "metadata": {},
     "output_type": "execute_result"
    }
   ],
   "source": [
    "imputed['Revised Cost'].isnull().sum()"
   ]
  },
  {
   "cell_type": "code",
   "execution_count": 348,
   "metadata": {
    "scrolled": true
   },
   "outputs": [
    {
     "data": {
      "text/plain": [
       "Permit Expiration Month                            0.260835\n",
       "Permit Expiration Year                             0.260835\n",
       "Permit Expiration Day                              0.260835\n",
       "Existing Units                                     0.243957\n",
       "Existing Construction Type                         0.199211\n",
       "Number of Existing Stories                         0.197959\n",
       "Existing Use                                       0.195093\n",
       "Plansets                                           0.187577\n",
       "First Construction Document Year                   0.075143\n",
       "First Construction Document Day                    0.075143\n",
       "First Construction Document Month                  0.075143\n",
       "Issued Day                                         0.075113\n",
       "Issued Year                                        0.075113\n",
       "Issued Month                                       0.075113\n",
       "Neighborhoods - Analysis Boundaries                0.008673\n",
       "Supervisor District                                0.008632\n",
       "Zipcode                                            0.008627\n",
       "Permit Creation Year                               0.000000\n",
       "Permit Creation Day                                0.000000\n",
       "Current Status Month                               0.000000\n",
       "Site Permit                                        0.000000\n",
       "Revised Cost                                       0.000000\n",
       "Fire Only Permit                                   0.000000\n",
       "Voluntary Soft-Story Retrofit                      0.000000\n",
       "Current Status                                     0.000000\n",
       "Permit Creation Month                              0.000000\n",
       "Street Name                                        0.000000\n",
       "Current Status Year                                0.000000\n",
       "Current Status Day                                 0.000000\n",
       "Permit Expiration Month_was_missing                0.000000\n",
       "Filed Year                                         0.000000\n",
       "Neighborhoods - Analysis Boundaries_was_missing    0.000000\n",
       "Permit Expiration Year_was_missing                 0.000000\n",
       "First Construction Document Month_was_missing      0.000000\n",
       "First Construction Document Day_was_missing        0.000000\n",
       "First Construction Document Year_was_missing       0.000000\n",
       "Issued Month_was_missing                           0.000000\n",
       "Issued Day_was_missing                             0.000000\n",
       "Issued Year_was_missing                            0.000000\n",
       "Zipcode_was_missing                                0.000000\n",
       "Supervisor District_was_missing                    0.000000\n",
       "Filed Day                                          0.000000\n",
       "Existing Construction Type_was_missing             0.000000\n",
       "Plansets_was_missing                               0.000000\n",
       "Existing Units_was_missing                         0.000000\n",
       "Existing Use_was_missing                           0.000000\n",
       "Revised Cost_was_missing                           0.000000\n",
       "Number of Existing Stories_was_missing             0.000000\n",
       "Permit Expiration Day_was_missing                  0.000000\n",
       "Filed Month                                        0.000000\n",
       "Permit Type                                        0.000000\n",
       "dtype: float64"
      ]
     },
     "execution_count": 348,
     "metadata": {},
     "output_type": "execute_result"
    }
   ],
   "source": [
    "sums = imputed.isnull().sum()\n",
    "missing_percent = (sums/imputed.shape[0]).sort_values(ascending=False)\n",
    "missing_percent"
   ]
  },
  {
   "cell_type": "code",
   "execution_count": 349,
   "metadata": {},
   "outputs": [
    {
     "data": {
      "text/plain": [
       "Index(['Permit Type', 'Street Name', 'Current Status',\n",
       "       'Number of Existing Stories', 'Voluntary Soft-Story Retrofit',\n",
       "       'Fire Only Permit', 'Revised Cost', 'Existing Use', 'Existing Units',\n",
       "       'Plansets', 'Existing Construction Type', 'Site Permit',\n",
       "       'Supervisor District', 'Neighborhoods - Analysis Boundaries', 'Zipcode',\n",
       "       'Permit Creation Year', 'Permit Creation Day', 'Permit Creation Month',\n",
       "       'Current Status Year', 'Current Status Day', 'Current Status Month',\n",
       "       'Filed Year', 'Filed Day', 'Filed Month', 'Issued Year', 'Issued Day',\n",
       "       'Issued Month', 'First Construction Document Year',\n",
       "       'First Construction Document Day', 'First Construction Document Month',\n",
       "       'Permit Expiration Year', 'Permit Expiration Day',\n",
       "       'Permit Expiration Month', 'Number of Existing Stories_was_missing',\n",
       "       'Revised Cost_was_missing', 'Existing Use_was_missing',\n",
       "       'Existing Units_was_missing', 'Plansets_was_missing',\n",
       "       'Existing Construction Type_was_missing',\n",
       "       'Supervisor District_was_missing',\n",
       "       'Neighborhoods - Analysis Boundaries_was_missing',\n",
       "       'Zipcode_was_missing', 'Issued Year_was_missing',\n",
       "       'Issued Day_was_missing', 'Issued Month_was_missing',\n",
       "       'First Construction Document Year_was_missing',\n",
       "       'First Construction Document Day_was_missing',\n",
       "       'First Construction Document Month_was_missing',\n",
       "       'Permit Expiration Year_was_missing',\n",
       "       'Permit Expiration Day_was_missing',\n",
       "       'Permit Expiration Month_was_missing'],\n",
       "      dtype='object')"
      ]
     },
     "execution_count": 349,
     "metadata": {},
     "output_type": "execute_result"
    }
   ],
   "source": [
    "imputed.columns"
   ]
  },
  {
   "cell_type": "markdown",
   "metadata": {},
   "source": [
    "Schaut man sich den restlichen Datensatz an, kann man erkennen, dass es sinnvoll ist,  in den noch übrig geblieben Spalten den Modus/häufigsten Wert einzutragen:"
   ]
  },
  {
   "cell_type": "code",
   "execution_count": 350,
   "metadata": {},
   "outputs": [
    {
     "data": {
      "text/plain": [
       "Permit Expiration Month                            0.260835\n",
       "Permit Expiration Year                             0.260835\n",
       "Permit Expiration Day                              0.260835\n",
       "Existing Units                                     0.243957\n",
       "Existing Construction Type                         0.199211\n",
       "Number of Existing Stories                         0.197959\n",
       "Existing Use                                       0.195093\n",
       "Plansets                                           0.187577\n",
       "First Construction Document Year                   0.075143\n",
       "First Construction Document Day                    0.075143\n",
       "First Construction Document Month                  0.075143\n",
       "Issued Day                                         0.075113\n",
       "Issued Year                                        0.075113\n",
       "Issued Month                                       0.075113\n",
       "Neighborhoods - Analysis Boundaries                0.008673\n",
       "Supervisor District                                0.008632\n",
       "Zipcode                                            0.008627\n",
       "Permit Creation Year                               0.000000\n",
       "Permit Creation Day                                0.000000\n",
       "Current Status Month                               0.000000\n",
       "Site Permit                                        0.000000\n",
       "Revised Cost                                       0.000000\n",
       "Fire Only Permit                                   0.000000\n",
       "Voluntary Soft-Story Retrofit                      0.000000\n",
       "Current Status                                     0.000000\n",
       "Permit Creation Month                              0.000000\n",
       "Street Name                                        0.000000\n",
       "Current Status Year                                0.000000\n",
       "Current Status Day                                 0.000000\n",
       "Permit Expiration Month_was_missing                0.000000\n",
       "Filed Year                                         0.000000\n",
       "Neighborhoods - Analysis Boundaries_was_missing    0.000000\n",
       "Permit Expiration Year_was_missing                 0.000000\n",
       "First Construction Document Month_was_missing      0.000000\n",
       "First Construction Document Day_was_missing        0.000000\n",
       "First Construction Document Year_was_missing       0.000000\n",
       "Issued Month_was_missing                           0.000000\n",
       "Issued Day_was_missing                             0.000000\n",
       "Issued Year_was_missing                            0.000000\n",
       "Zipcode_was_missing                                0.000000\n",
       "Supervisor District_was_missing                    0.000000\n",
       "Filed Day                                          0.000000\n",
       "Existing Construction Type_was_missing             0.000000\n",
       "Plansets_was_missing                               0.000000\n",
       "Existing Units_was_missing                         0.000000\n",
       "Existing Use_was_missing                           0.000000\n",
       "Revised Cost_was_missing                           0.000000\n",
       "Number of Existing Stories_was_missing             0.000000\n",
       "Permit Expiration Day_was_missing                  0.000000\n",
       "Filed Month                                        0.000000\n",
       "Permit Type                                        0.000000\n",
       "dtype: float64"
      ]
     },
     "execution_count": 350,
     "metadata": {},
     "output_type": "execute_result"
    }
   ],
   "source": [
    "sums = imputed.isnull().sum()\n",
    "missing_percent = (sums/imputed.shape[0]).sort_values(ascending=False)\n",
    "missing_percent"
   ]
  },
  {
   "cell_type": "markdown",
   "metadata": {},
   "source": [
    "### Zwei Möglichkeiten\n",
    "\n",
    "An dieser Stelle gibt es zwei Möglichkeiten.\n",
    "\n",
    "1) Wir tragen für die fehlenden Werte in Spalten der häufigsten Wert ein\n",
    "\n",
    "2) Wir löschen die Zeilen mit den fehlenden Werten\n",
    "\n",
    "Dazu schauen wir uns an, wie viel % der Daten überhaupt noch fehlen:"
   ]
  },
  {
   "cell_type": "code",
   "execution_count": 351,
   "metadata": {},
   "outputs": [
    {
     "data": {
      "text/plain": [
       "4.476473545677698"
      ]
     },
     "execution_count": 351,
     "metadata": {},
     "output_type": "execute_result"
    }
   ],
   "source": [
    "#Wie viel % der Daten fehlen insgesamt??\n",
    "\n",
    "\n",
    "# total number of cells \n",
    "total_cells = np.product(imputed.shape)\n",
    "# total missing values \n",
    "missing_values = imputed.isnull().sum()\n",
    "total_missing_values = missing_values.sum()\n",
    "\n",
    "# percentage of nan or None cells \n",
    "nan_or_null_cell_percentage = (total_missing_values/total_cells)*100\n",
    "nan_or_null_cell_percentage"
   ]
  },
  {
   "cell_type": "markdown",
   "metadata": {},
   "source": [
    "Nach Einblick in den Datensatz, haben wir uns dazu entschieden teilweise die Lösung 1 und teilweise die Lösung zwei zu verweden, da man gerade bei Spalten mit Character einfach den häufigsten Wert eintragen kann. Bei allen Datumspalten haben wir uns entschieden, die Einträge zu löschen. Wie wir gleich sehen, fehlen uns dann nur ein kleiner Prozentteil der Daten"
   ]
  },
  {
   "cell_type": "code",
   "execution_count": 352,
   "metadata": {},
   "outputs": [],
   "source": [
    "mode = [\n",
    "    'Existing Construction Type',\n",
    "    'Existing Units',\n",
    "    'Existing Use',\n",
    "    'Plansets',\n",
    "    'Number of Existing Stories',\n",
    "]"
   ]
  },
  {
   "cell_type": "code",
   "execution_count": 353,
   "metadata": {},
   "outputs": [],
   "source": [
    "for column in mode:\n",
    "    imputed[column].fillna(imputed[column].mode()[0], inplace = True)"
   ]
  },
  {
   "cell_type": "code",
   "execution_count": 354,
   "metadata": {},
   "outputs": [
    {
     "data": {
      "text/plain": [
       "2.4690306489614446"
      ]
     },
     "execution_count": 354,
     "metadata": {},
     "output_type": "execute_result"
    }
   ],
   "source": [
    "#Wie viel % der Daten fehlen insgesamt??\n",
    "\n",
    "\n",
    "# total number of cells \n",
    "total_cells = np.product(imputed.shape)\n",
    "# total missing values \n",
    "missing_values = imputed.isnull().sum()\n",
    "total_missing_values = missing_values.sum()\n",
    "\n",
    "# percentage of nan or None cells \n",
    "nan_or_null_cell_percentage = (total_missing_values/total_cells)*100\n",
    "nan_or_null_cell_percentage"
   ]
  },
  {
   "cell_type": "code",
   "execution_count": 362,
   "metadata": {},
   "outputs": [
    {
     "data": {
      "text/plain": [
       "Permit Expiration Month                            0.260835\n",
       "Permit Expiration Year                             0.260835\n",
       "Permit Expiration Day                              0.260835\n",
       "First Construction Document Year                   0.075143\n",
       "First Construction Document Day                    0.075143\n",
       "First Construction Document Month                  0.075143\n",
       "Issued Day                                         0.075113\n",
       "Issued Year                                        0.075113\n",
       "Issued Month                                       0.075113\n",
       "Neighborhoods - Analysis Boundaries                0.008673\n",
       "Supervisor District                                0.008632\n",
       "Zipcode                                            0.008627\n",
       "Plansets                                           0.000000\n",
       "Fire Only Permit                                   0.000000\n",
       "Current Status Year                                0.000000\n",
       "Street Name                                        0.000000\n",
       "Permit Creation Month                              0.000000\n",
       "Current Status                                     0.000000\n",
       "Number of Existing Stories                         0.000000\n",
       "Voluntary Soft-Story Retrofit                      0.000000\n",
       "Existing Use                                       0.000000\n",
       "Revised Cost                                       0.000000\n",
       "Existing Construction Type                         0.000000\n",
       "Existing Units                                     0.000000\n",
       "Permit Creation Day                                0.000000\n",
       "Permit Creation Year                               0.000000\n",
       "Current Status Month                               0.000000\n",
       "Site Permit                                        0.000000\n",
       "Current Status Day                                 0.000000\n",
       "Permit Expiration Month_was_missing                0.000000\n",
       "Filed Year                                         0.000000\n",
       "Neighborhoods - Analysis Boundaries_was_missing    0.000000\n",
       "Permit Expiration Year_was_missing                 0.000000\n",
       "First Construction Document Month_was_missing      0.000000\n",
       "First Construction Document Day_was_missing        0.000000\n",
       "First Construction Document Year_was_missing       0.000000\n",
       "Issued Month_was_missing                           0.000000\n",
       "Issued Day_was_missing                             0.000000\n",
       "Issued Year_was_missing                            0.000000\n",
       "Zipcode_was_missing                                0.000000\n",
       "Supervisor District_was_missing                    0.000000\n",
       "Filed Day                                          0.000000\n",
       "Existing Construction Type_was_missing             0.000000\n",
       "Plansets_was_missing                               0.000000\n",
       "Existing Units_was_missing                         0.000000\n",
       "Existing Use_was_missing                           0.000000\n",
       "Revised Cost_was_missing                           0.000000\n",
       "Number of Existing Stories_was_missing             0.000000\n",
       "Permit Expiration Day_was_missing                  0.000000\n",
       "Filed Month                                        0.000000\n",
       "Permit Type                                        0.000000\n",
       "dtype: float64"
      ]
     },
     "execution_count": 362,
     "metadata": {},
     "output_type": "execute_result"
    }
   ],
   "source": [
    "sums = imputed.isnull().sum()\n",
    "missing_percent = (sums/imputed.shape[0]).sort_values(ascending=False)\n",
    "missing_percent"
   ]
  },
  {
   "cell_type": "code",
   "execution_count": 355,
   "metadata": {},
   "outputs": [],
   "source": [
    "#imputed['Permit Expiration Month'].value_counts()"
   ]
  },
  {
   "cell_type": "markdown",
   "metadata": {},
   "source": [
    "Am ende löschen wir noch alle Zeilen raus, die keine Werte enthalten. Wir haben uns dazu entschieden, \n",
    "da wir nur 2,46% der Daten verlieren. Es wäre ebenfalls möglich gewesen, für alle Spalten mit fehlenden Werten (s.u.) den Häufigsten Wert zu ermitteln und zu imputieren. Da der Aufwand aber aus unsere Sicht nicht den Nutzen hat und der Datenverlust sowieso gering ist, haben wir uns dazu entschieden, die Daten zu löschen.\n",
    "\n",
    "* Permit Expiration Month                            0.260835\n",
    "* Permit Expiration Year                             0.260835\n",
    "* Permit Expiration Day                              0.260835\n",
    "* First Construction Document Year                   0.075143\n",
    "* First Construction Document Day                    0.075143\n",
    "* First Construction Document Month                  0.075143\n",
    "* Issued Day                                         0.075113\n",
    "* Issued Year                                        0.075113\n",
    "* Issued Month                                       0.075113\n",
    "* Neighborhoods - Analysis Boundaries                0.008673\n",
    "* Supervisor District                                0.008632\n",
    "* Zipcode                                            0.008627"
   ]
  },
  {
   "cell_type": "code",
   "execution_count": 378,
   "metadata": {},
   "outputs": [
    {
     "name": "stdout",
     "output_type": "stream",
     "text": [
      "Rows left: 145904\n"
     ]
    }
   ],
   "source": [
    "imputed = imputed.dropna()\n",
    "\n",
    "print(\"Rows left: %d\" % len(imputed))"
   ]
  },
  {
   "cell_type": "code",
   "execution_count": 379,
   "metadata": {},
   "outputs": [
    {
     "data": {
      "text/plain": [
       "Permit Expiration Month_was_missing                0.0\n",
       "Supervisor District                                0.0\n",
       "Filed Day                                          0.0\n",
       "Filed Year                                         0.0\n",
       "Current Status Month                               0.0\n",
       "Current Status Day                                 0.0\n",
       "Current Status Year                                0.0\n",
       "Permit Creation Month                              0.0\n",
       "Permit Creation Day                                0.0\n",
       "Permit Creation Year                               0.0\n",
       "Zipcode                                            0.0\n",
       "Neighborhoods - Analysis Boundaries                0.0\n",
       "Site Permit                                        0.0\n",
       "Issued Year                                        0.0\n",
       "Existing Construction Type                         0.0\n",
       "Plansets                                           0.0\n",
       "Existing Units                                     0.0\n",
       "Existing Use                                       0.0\n",
       "Revised Cost                                       0.0\n",
       "Fire Only Permit                                   0.0\n",
       "Voluntary Soft-Story Retrofit                      0.0\n",
       "Number of Existing Stories                         0.0\n",
       "Current Status                                     0.0\n",
       "Street Name                                        0.0\n",
       "Filed Month                                        0.0\n",
       "Issued Day                                         0.0\n",
       "Permit Expiration Day_was_missing                  0.0\n",
       "Existing Construction Type_was_missing             0.0\n",
       "Permit Expiration Year_was_missing                 0.0\n",
       "First Construction Document Month_was_missing      0.0\n",
       "First Construction Document Day_was_missing        0.0\n",
       "First Construction Document Year_was_missing       0.0\n",
       "Issued Month_was_missing                           0.0\n",
       "Issued Day_was_missing                             0.0\n",
       "Issued Year_was_missing                            0.0\n",
       "Zipcode_was_missing                                0.0\n",
       "Neighborhoods - Analysis Boundaries_was_missing    0.0\n",
       "Supervisor District_was_missing                    0.0\n",
       "Plansets_was_missing                               0.0\n",
       "Issued Month                                       0.0\n",
       "Existing Units_was_missing                         0.0\n",
       "Existing Use_was_missing                           0.0\n",
       "Revised Cost_was_missing                           0.0\n",
       "Number of Existing Stories_was_missing             0.0\n",
       "Permit Expiration Month                            0.0\n",
       "Permit Expiration Day                              0.0\n",
       "Permit Expiration Year                             0.0\n",
       "First Construction Document Month                  0.0\n",
       "First Construction Document Day                    0.0\n",
       "First Construction Document Year                   0.0\n",
       "Permit Type                                        0.0\n",
       "dtype: float64"
      ]
     },
     "execution_count": 379,
     "metadata": {},
     "output_type": "execute_result"
    }
   ],
   "source": [
    "sums = imputed.isnull().sum()\n",
    "missing_percent = (sums/imputed.shape[0]).sort_values(ascending=False)\n",
    "missing_percent"
   ]
  },
  {
   "cell_type": "code",
   "execution_count": 380,
   "metadata": {},
   "outputs": [
    {
     "data": {
      "text/html": [
       "<div>\n",
       "<style scoped>\n",
       "    .dataframe tbody tr th:only-of-type {\n",
       "        vertical-align: middle;\n",
       "    }\n",
       "\n",
       "    .dataframe tbody tr th {\n",
       "        vertical-align: top;\n",
       "    }\n",
       "\n",
       "    .dataframe thead th {\n",
       "        text-align: right;\n",
       "    }\n",
       "</style>\n",
       "<table border=\"1\" class=\"dataframe\">\n",
       "  <thead>\n",
       "    <tr style=\"text-align: right;\">\n",
       "      <th></th>\n",
       "      <th>Permit Type</th>\n",
       "      <th>Street Name</th>\n",
       "      <th>Current Status</th>\n",
       "      <th>Number of Existing Stories</th>\n",
       "      <th>Voluntary Soft-Story Retrofit</th>\n",
       "      <th>Fire Only Permit</th>\n",
       "      <th>Revised Cost</th>\n",
       "      <th>Existing Use</th>\n",
       "      <th>Existing Units</th>\n",
       "      <th>Plansets</th>\n",
       "      <th>...</th>\n",
       "      <th>Zipcode_was_missing</th>\n",
       "      <th>Issued Year_was_missing</th>\n",
       "      <th>Issued Day_was_missing</th>\n",
       "      <th>Issued Month_was_missing</th>\n",
       "      <th>First Construction Document Year_was_missing</th>\n",
       "      <th>First Construction Document Day_was_missing</th>\n",
       "      <th>First Construction Document Month_was_missing</th>\n",
       "      <th>Permit Expiration Year_was_missing</th>\n",
       "      <th>Permit Expiration Day_was_missing</th>\n",
       "      <th>Permit Expiration Month_was_missing</th>\n",
       "    </tr>\n",
       "  </thead>\n",
       "  <tbody>\n",
       "    <tr>\n",
       "      <th>0</th>\n",
       "      <td>4</td>\n",
       "      <td>Ellis</td>\n",
       "      <td>expired</td>\n",
       "      <td>6.0</td>\n",
       "      <td>N</td>\n",
       "      <td>N</td>\n",
       "      <td>4000.0</td>\n",
       "      <td>tourist hotel/motel</td>\n",
       "      <td>143.0</td>\n",
       "      <td>2.0</td>\n",
       "      <td>...</td>\n",
       "      <td>False</td>\n",
       "      <td>False</td>\n",
       "      <td>False</td>\n",
       "      <td>False</td>\n",
       "      <td>False</td>\n",
       "      <td>False</td>\n",
       "      <td>False</td>\n",
       "      <td>False</td>\n",
       "      <td>False</td>\n",
       "      <td>False</td>\n",
       "    </tr>\n",
       "    <tr>\n",
       "      <th>1</th>\n",
       "      <td>4</td>\n",
       "      <td>Geary</td>\n",
       "      <td>issued</td>\n",
       "      <td>7.0</td>\n",
       "      <td>N</td>\n",
       "      <td>N</td>\n",
       "      <td>500.0</td>\n",
       "      <td>tourist hotel/motel</td>\n",
       "      <td>1.0</td>\n",
       "      <td>2.0</td>\n",
       "      <td>...</td>\n",
       "      <td>False</td>\n",
       "      <td>False</td>\n",
       "      <td>False</td>\n",
       "      <td>False</td>\n",
       "      <td>False</td>\n",
       "      <td>False</td>\n",
       "      <td>False</td>\n",
       "      <td>False</td>\n",
       "      <td>False</td>\n",
       "      <td>False</td>\n",
       "    </tr>\n",
       "    <tr>\n",
       "      <th>3</th>\n",
       "      <td>8</td>\n",
       "      <td>Pacific</td>\n",
       "      <td>complete</td>\n",
       "      <td>2.0</td>\n",
       "      <td>N</td>\n",
       "      <td>N</td>\n",
       "      <td>2000.0</td>\n",
       "      <td>1 family dwelling</td>\n",
       "      <td>1.0</td>\n",
       "      <td>2.0</td>\n",
       "      <td>...</td>\n",
       "      <td>False</td>\n",
       "      <td>False</td>\n",
       "      <td>False</td>\n",
       "      <td>False</td>\n",
       "      <td>False</td>\n",
       "      <td>False</td>\n",
       "      <td>False</td>\n",
       "      <td>False</td>\n",
       "      <td>False</td>\n",
       "      <td>False</td>\n",
       "    </tr>\n",
       "    <tr>\n",
       "      <th>4</th>\n",
       "      <td>6</td>\n",
       "      <td>Market</td>\n",
       "      <td>issued</td>\n",
       "      <td>3.0</td>\n",
       "      <td>N</td>\n",
       "      <td>N</td>\n",
       "      <td>100000.0</td>\n",
       "      <td>retail sales</td>\n",
       "      <td>1.0</td>\n",
       "      <td>2.0</td>\n",
       "      <td>...</td>\n",
       "      <td>False</td>\n",
       "      <td>False</td>\n",
       "      <td>False</td>\n",
       "      <td>False</td>\n",
       "      <td>False</td>\n",
       "      <td>False</td>\n",
       "      <td>False</td>\n",
       "      <td>False</td>\n",
       "      <td>False</td>\n",
       "      <td>False</td>\n",
       "    </tr>\n",
       "    <tr>\n",
       "      <th>5</th>\n",
       "      <td>8</td>\n",
       "      <td>Indiana</td>\n",
       "      <td>issued</td>\n",
       "      <td>5.0</td>\n",
       "      <td>N</td>\n",
       "      <td>Y</td>\n",
       "      <td>4000.0</td>\n",
       "      <td>apartments</td>\n",
       "      <td>326.0</td>\n",
       "      <td>2.0</td>\n",
       "      <td>...</td>\n",
       "      <td>False</td>\n",
       "      <td>False</td>\n",
       "      <td>False</td>\n",
       "      <td>False</td>\n",
       "      <td>False</td>\n",
       "      <td>False</td>\n",
       "      <td>False</td>\n",
       "      <td>False</td>\n",
       "      <td>False</td>\n",
       "      <td>False</td>\n",
       "    </tr>\n",
       "  </tbody>\n",
       "</table>\n",
       "<p>5 rows × 51 columns</p>\n",
       "</div>"
      ],
      "text/plain": [
       "   Permit Type Street Name Current Status  Number of Existing Stories  \\\n",
       "0            4       Ellis        expired                         6.0   \n",
       "1            4       Geary         issued                         7.0   \n",
       "3            8     Pacific       complete                         2.0   \n",
       "4            6      Market         issued                         3.0   \n",
       "5            8     Indiana         issued                         5.0   \n",
       "\n",
       "  Voluntary Soft-Story Retrofit Fire Only Permit  Revised Cost  \\\n",
       "0                             N                N        4000.0   \n",
       "1                             N                N         500.0   \n",
       "3                             N                N        2000.0   \n",
       "4                             N                N      100000.0   \n",
       "5                             N                Y        4000.0   \n",
       "\n",
       "          Existing Use  Existing Units  Plansets  ...  Zipcode_was_missing  \\\n",
       "0  tourist hotel/motel           143.0       2.0  ...                False   \n",
       "1  tourist hotel/motel             1.0       2.0  ...                False   \n",
       "3    1 family dwelling             1.0       2.0  ...                False   \n",
       "4         retail sales             1.0       2.0  ...                False   \n",
       "5           apartments           326.0       2.0  ...                False   \n",
       "\n",
       "  Issued Year_was_missing  Issued Day_was_missing Issued Month_was_missing  \\\n",
       "0                   False                   False                    False   \n",
       "1                   False                   False                    False   \n",
       "3                   False                   False                    False   \n",
       "4                   False                   False                    False   \n",
       "5                   False                   False                    False   \n",
       "\n",
       "   First Construction Document Year_was_missing  \\\n",
       "0                                         False   \n",
       "1                                         False   \n",
       "3                                         False   \n",
       "4                                         False   \n",
       "5                                         False   \n",
       "\n",
       "   First Construction Document Day_was_missing  \\\n",
       "0                                        False   \n",
       "1                                        False   \n",
       "3                                        False   \n",
       "4                                        False   \n",
       "5                                        False   \n",
       "\n",
       "   First Construction Document Month_was_missing  \\\n",
       "0                                          False   \n",
       "1                                          False   \n",
       "3                                          False   \n",
       "4                                          False   \n",
       "5                                          False   \n",
       "\n",
       "   Permit Expiration Year_was_missing  Permit Expiration Day_was_missing  \\\n",
       "0                               False                              False   \n",
       "1                               False                              False   \n",
       "3                               False                              False   \n",
       "4                               False                              False   \n",
       "5                               False                              False   \n",
       "\n",
       "   Permit Expiration Month_was_missing  \n",
       "0                                False  \n",
       "1                                False  \n",
       "3                                False  \n",
       "4                                False  \n",
       "5                                False  \n",
       "\n",
       "[5 rows x 51 columns]"
      ]
     },
     "execution_count": 380,
     "metadata": {},
     "output_type": "execute_result"
    }
   ],
   "source": [
    "imputed.head(5)"
   ]
  },
  {
   "cell_type": "markdown",
   "metadata": {},
   "source": [
    "### Fazit\n",
    "\n",
    "\n",
    "Das Bereinigen des San Francisco Buidling Permit Datensatzes war schwieriger als gedacht. Es war zu Beginn sehr schwer den Datensatz zu verstehen und zusammenhänge daraus zu schließen. Erst nach Recherchen und Disskusion konnte man langsam durchsteigen.\n",
    "Gerade zu bestimmen, welche Spalten für die Vorherrsage wichtig ist und welche nicht, fiel uns extrem schwer! Wir haben uns grundsätzlich immer auf rationale/logische Schritte geeinigt wie z.B. die 50% Hürde bei den fehlenden Daten. \n",
    "Dadurch, dass wir nach und nach Spalten entfernt haben, hatten wir gegen Ende auch einen besseren Überblick über den Datensatz"
   ]
  },
  {
   "cell_type": "markdown",
   "metadata": {},
   "source": [
    "# B SF Permits Exploration"
   ]
  },
  {
   "cell_type": "markdown",
   "metadata": {},
   "source": [
    "* Explore the data. Which columns correlate strongly with the \"Current Status\" column? How do other\n",
    "columns correlate to each other?\n",
    "* Describe problems with \"Current Status\" as a target column to predict. Can you construct a better\n",
    "target column?"
   ]
  },
  {
   "cell_type": "markdown",
   "metadata": {},
   "source": [
    "* Beschreiben Sie Probleme mit \"Aktueller Status\" als Zielspalte zur Vorhersage. Kannst du eine bessere Spalte bauen?"
   ]
  },
  {
   "cell_type": "markdown",
   "metadata": {},
   "source": [
    "Wenn man sich die Spalte Current Status genauer anschaut, sieht man, dass es sehr viel verschiedene String-werte gibt. Das vorherrsagen der Stringwerte kann sehr schwer sein. Daher haben wir uns darauf geeinigt,die Spalte auf 0 (not permitted,in_progress) und 1 (permitted) zu kategorisieren"
   ]
  },
  {
   "cell_type": "code",
   "execution_count": 382,
   "metadata": {},
   "outputs": [
    {
     "data": {
      "text/plain": [
       "complete      96275\n",
       "issued        46393\n",
       "expired        1364\n",
       "cancelled      1188\n",
       "reinstated      451\n",
       "suspend         175\n",
       "revoked          49\n",
       "approved          7\n",
       "incomplete        1\n",
       "withdrawn         1\n",
       "Name: Current Status, dtype: int64"
      ]
     },
     "execution_count": 382,
     "metadata": {},
     "output_type": "execute_result"
    }
   ],
   "source": [
    "imputed['Current Status'].value_counts()"
   ]
  },
  {
   "cell_type": "code",
   "execution_count": 383,
   "metadata": {},
   "outputs": [],
   "source": [
    "permitted = [\n",
    "   'approved', \n",
    "    'issued', \n",
    "    'complete'\n",
    "]\n",
    "\n",
    "in_progress = [\n",
    "    'appeal', \n",
    "    'plancheck', \n",
    "    'suspend', \n",
    "    'reinstated', \n",
    "    'filed'\n",
    "]\n",
    "\n",
    "not_permitted = [\n",
    "    'disapproved',\n",
    "    'incomplete',\n",
    "    'revoked',\n",
    "    'expired',\n",
    "    'cancelled',\n",
    "    'withdrawn'\n",
    "]"
   ]
  },
  {
   "cell_type": "code",
   "execution_count": 384,
   "metadata": {},
   "outputs": [],
   "source": [
    "for i in permitted:\n",
    "    imputed['Current Status'].replace(to_replace=i, value='1', inplace=True)\n",
    "\n",
    "for i in in_progress:\n",
    "    imputed['Current Status'].replace(to_replace=i, value='0', inplace=True)    \n",
    "\n",
    "for i in not_permitted:\n",
    "    imputed['Current Status'].replace(to_replace=i, value='0', inplace=True) "
   ]
  },
  {
   "cell_type": "code",
   "execution_count": 385,
   "metadata": {},
   "outputs": [
    {
     "data": {
      "text/plain": [
       "1    142675\n",
       "0      3229\n",
       "Name: Current Status, dtype: int64"
      ]
     },
     "execution_count": 385,
     "metadata": {},
     "output_type": "execute_result"
    }
   ],
   "source": [
    "imputed['Current Status'].value_counts()"
   ]
  },
  {
   "cell_type": "code",
   "execution_count": 386,
   "metadata": {},
   "outputs": [],
   "source": [
    "imputed['Current Status'] = pd.to_numeric(imputed['Current Status'])"
   ]
  },
  {
   "cell_type": "code",
   "execution_count": 387,
   "metadata": {},
   "outputs": [
    {
     "data": {
      "text/plain": [
       "<Figure size 1440x288 with 0 Axes>"
      ]
     },
     "execution_count": 387,
     "metadata": {},
     "output_type": "execute_result"
    },
    {
     "data": {
      "text/plain": [
       "<Figure size 1440x288 with 0 Axes>"
      ]
     },
     "metadata": {},
     "output_type": "display_data"
    }
   ],
   "source": [
    "plt.figure(figsize=(20,4))"
   ]
  },
  {
   "cell_type": "code",
   "execution_count": 388,
   "metadata": {
    "scrolled": true
   },
   "outputs": [
    {
     "data": {
      "text/html": [
       "<div>\n",
       "<style scoped>\n",
       "    .dataframe tbody tr th:only-of-type {\n",
       "        vertical-align: middle;\n",
       "    }\n",
       "\n",
       "    .dataframe tbody tr th {\n",
       "        vertical-align: top;\n",
       "    }\n",
       "\n",
       "    .dataframe thead th {\n",
       "        text-align: right;\n",
       "    }\n",
       "</style>\n",
       "<table border=\"1\" class=\"dataframe\">\n",
       "  <thead>\n",
       "    <tr style=\"text-align: right;\">\n",
       "      <th></th>\n",
       "      <th>Permit Type</th>\n",
       "      <th>Current Status</th>\n",
       "      <th>Number of Existing Stories</th>\n",
       "      <th>Revised Cost</th>\n",
       "      <th>Existing Units</th>\n",
       "      <th>Plansets</th>\n",
       "      <th>Existing Construction Type</th>\n",
       "      <th>Supervisor District</th>\n",
       "      <th>Zipcode</th>\n",
       "      <th>Permit Creation Year</th>\n",
       "      <th>...</th>\n",
       "      <th>Filed Month</th>\n",
       "      <th>Issued Year</th>\n",
       "      <th>Issued Day</th>\n",
       "      <th>Issued Month</th>\n",
       "      <th>First Construction Document Year</th>\n",
       "      <th>First Construction Document Day</th>\n",
       "      <th>First Construction Document Month</th>\n",
       "      <th>Permit Expiration Year</th>\n",
       "      <th>Permit Expiration Day</th>\n",
       "      <th>Permit Expiration Month</th>\n",
       "    </tr>\n",
       "  </thead>\n",
       "  <tbody>\n",
       "    <tr>\n",
       "      <th>count</th>\n",
       "      <td>145904.000000</td>\n",
       "      <td>145904.000000</td>\n",
       "      <td>145904.000000</td>\n",
       "      <td>1.459040e+05</td>\n",
       "      <td>145904.000000</td>\n",
       "      <td>145904.000000</td>\n",
       "      <td>145904.000000</td>\n",
       "      <td>145904.000000</td>\n",
       "      <td>145904.000000</td>\n",
       "      <td>145904.000000</td>\n",
       "      <td>...</td>\n",
       "      <td>145904.000000</td>\n",
       "      <td>145904.000000</td>\n",
       "      <td>145904.000000</td>\n",
       "      <td>145904.000000</td>\n",
       "      <td>145904.000000</td>\n",
       "      <td>145904.000000</td>\n",
       "      <td>145904.000000</td>\n",
       "      <td>145904.000000</td>\n",
       "      <td>145904.000000</td>\n",
       "      <td>145904.000000</td>\n",
       "    </tr>\n",
       "    <tr>\n",
       "      <th>mean</th>\n",
       "      <td>7.570718</td>\n",
       "      <td>0.977869</td>\n",
       "      <td>5.786644</td>\n",
       "      <td>1.587807e+05</td>\n",
       "      <td>15.294223</td>\n",
       "      <td>1.213846</td>\n",
       "      <td>4.066091</td>\n",
       "      <td>5.610189</td>\n",
       "      <td>94115.474058</td>\n",
       "      <td>2015.063864</td>\n",
       "      <td>...</td>\n",
       "      <td>6.415438</td>\n",
       "      <td>2015.152635</td>\n",
       "      <td>15.741371</td>\n",
       "      <td>6.418933</td>\n",
       "      <td>2015.158426</td>\n",
       "      <td>15.720474</td>\n",
       "      <td>6.429803</td>\n",
       "      <td>2016.332650</td>\n",
       "      <td>15.592225</td>\n",
       "      <td>6.124781</td>\n",
       "    </tr>\n",
       "    <tr>\n",
       "      <th>std</th>\n",
       "      <td>1.382269</td>\n",
       "      <td>0.147110</td>\n",
       "      <td>8.740825</td>\n",
       "      <td>3.927059e+06</td>\n",
       "      <td>72.945582</td>\n",
       "      <td>23.579649</td>\n",
       "      <td>1.592499</td>\n",
       "      <td>2.867341</td>\n",
       "      <td>9.403604</td>\n",
       "      <td>1.447383</td>\n",
       "      <td>...</td>\n",
       "      <td>3.402507</td>\n",
       "      <td>1.463512</td>\n",
       "      <td>8.690774</td>\n",
       "      <td>3.411150</td>\n",
       "      <td>1.465267</td>\n",
       "      <td>8.700937</td>\n",
       "      <td>3.416976</td>\n",
       "      <td>1.563849</td>\n",
       "      <td>8.804768</td>\n",
       "      <td>3.351608</td>\n",
       "    </tr>\n",
       "    <tr>\n",
       "      <th>min</th>\n",
       "      <td>1.000000</td>\n",
       "      <td>0.000000</td>\n",
       "      <td>0.000000</td>\n",
       "      <td>0.000000e+00</td>\n",
       "      <td>0.000000</td>\n",
       "      <td>0.000000</td>\n",
       "      <td>1.000000</td>\n",
       "      <td>1.000000</td>\n",
       "      <td>94102.000000</td>\n",
       "      <td>2012.000000</td>\n",
       "      <td>...</td>\n",
       "      <td>1.000000</td>\n",
       "      <td>2013.000000</td>\n",
       "      <td>1.000000</td>\n",
       "      <td>1.000000</td>\n",
       "      <td>2013.000000</td>\n",
       "      <td>1.000000</td>\n",
       "      <td>1.000000</td>\n",
       "      <td>2013.000000</td>\n",
       "      <td>1.000000</td>\n",
       "      <td>1.000000</td>\n",
       "    </tr>\n",
       "    <tr>\n",
       "      <th>25%</th>\n",
       "      <td>8.000000</td>\n",
       "      <td>1.000000</td>\n",
       "      <td>2.000000</td>\n",
       "      <td>4.000000e+03</td>\n",
       "      <td>1.000000</td>\n",
       "      <td>0.000000</td>\n",
       "      <td>3.000000</td>\n",
       "      <td>3.000000</td>\n",
       "      <td>94109.000000</td>\n",
       "      <td>2014.000000</td>\n",
       "      <td>...</td>\n",
       "      <td>3.000000</td>\n",
       "      <td>2014.000000</td>\n",
       "      <td>8.000000</td>\n",
       "      <td>3.000000</td>\n",
       "      <td>2014.000000</td>\n",
       "      <td>8.000000</td>\n",
       "      <td>3.000000</td>\n",
       "      <td>2015.000000</td>\n",
       "      <td>8.000000</td>\n",
       "      <td>3.000000</td>\n",
       "    </tr>\n",
       "    <tr>\n",
       "      <th>50%</th>\n",
       "      <td>8.000000</td>\n",
       "      <td>1.000000</td>\n",
       "      <td>3.000000</td>\n",
       "      <td>1.200000e+04</td>\n",
       "      <td>1.000000</td>\n",
       "      <td>2.000000</td>\n",
       "      <td>5.000000</td>\n",
       "      <td>6.000000</td>\n",
       "      <td>94114.000000</td>\n",
       "      <td>2015.000000</td>\n",
       "      <td>...</td>\n",
       "      <td>6.000000</td>\n",
       "      <td>2015.000000</td>\n",
       "      <td>16.000000</td>\n",
       "      <td>6.000000</td>\n",
       "      <td>2015.000000</td>\n",
       "      <td>16.000000</td>\n",
       "      <td>6.000000</td>\n",
       "      <td>2016.000000</td>\n",
       "      <td>15.000000</td>\n",
       "      <td>6.000000</td>\n",
       "    </tr>\n",
       "    <tr>\n",
       "      <th>75%</th>\n",
       "      <td>8.000000</td>\n",
       "      <td>1.000000</td>\n",
       "      <td>4.000000</td>\n",
       "      <td>4.000000e+04</td>\n",
       "      <td>4.000000</td>\n",
       "      <td>2.000000</td>\n",
       "      <td>5.000000</td>\n",
       "      <td>8.000000</td>\n",
       "      <td>94122.000000</td>\n",
       "      <td>2016.000000</td>\n",
       "      <td>...</td>\n",
       "      <td>9.000000</td>\n",
       "      <td>2016.000000</td>\n",
       "      <td>23.000000</td>\n",
       "      <td>9.000000</td>\n",
       "      <td>2016.000000</td>\n",
       "      <td>23.000000</td>\n",
       "      <td>9.000000</td>\n",
       "      <td>2018.000000</td>\n",
       "      <td>23.000000</td>\n",
       "      <td>9.000000</td>\n",
       "    </tr>\n",
       "    <tr>\n",
       "      <th>max</th>\n",
       "      <td>8.000000</td>\n",
       "      <td>1.000000</td>\n",
       "      <td>63.000000</td>\n",
       "      <td>7.805000e+08</td>\n",
       "      <td>1907.000000</td>\n",
       "      <td>9000.000000</td>\n",
       "      <td>5.000000</td>\n",
       "      <td>11.000000</td>\n",
       "      <td>94158.000000</td>\n",
       "      <td>2018.000000</td>\n",
       "      <td>...</td>\n",
       "      <td>12.000000</td>\n",
       "      <td>2018.000000</td>\n",
       "      <td>31.000000</td>\n",
       "      <td>12.000000</td>\n",
       "      <td>2018.000000</td>\n",
       "      <td>31.000000</td>\n",
       "      <td>12.000000</td>\n",
       "      <td>2024.000000</td>\n",
       "      <td>31.000000</td>\n",
       "      <td>12.000000</td>\n",
       "    </tr>\n",
       "  </tbody>\n",
       "</table>\n",
       "<p>8 rows × 27 columns</p>\n",
       "</div>"
      ],
      "text/plain": [
       "         Permit Type  Current Status  Number of Existing Stories  \\\n",
       "count  145904.000000   145904.000000               145904.000000   \n",
       "mean        7.570718        0.977869                    5.786644   \n",
       "std         1.382269        0.147110                    8.740825   \n",
       "min         1.000000        0.000000                    0.000000   \n",
       "25%         8.000000        1.000000                    2.000000   \n",
       "50%         8.000000        1.000000                    3.000000   \n",
       "75%         8.000000        1.000000                    4.000000   \n",
       "max         8.000000        1.000000                   63.000000   \n",
       "\n",
       "       Revised Cost  Existing Units       Plansets  \\\n",
       "count  1.459040e+05   145904.000000  145904.000000   \n",
       "mean   1.587807e+05       15.294223       1.213846   \n",
       "std    3.927059e+06       72.945582      23.579649   \n",
       "min    0.000000e+00        0.000000       0.000000   \n",
       "25%    4.000000e+03        1.000000       0.000000   \n",
       "50%    1.200000e+04        1.000000       2.000000   \n",
       "75%    4.000000e+04        4.000000       2.000000   \n",
       "max    7.805000e+08     1907.000000    9000.000000   \n",
       "\n",
       "       Existing Construction Type  Supervisor District        Zipcode  \\\n",
       "count               145904.000000        145904.000000  145904.000000   \n",
       "mean                     4.066091             5.610189   94115.474058   \n",
       "std                      1.592499             2.867341       9.403604   \n",
       "min                      1.000000             1.000000   94102.000000   \n",
       "25%                      3.000000             3.000000   94109.000000   \n",
       "50%                      5.000000             6.000000   94114.000000   \n",
       "75%                      5.000000             8.000000   94122.000000   \n",
       "max                      5.000000            11.000000   94158.000000   \n",
       "\n",
       "       Permit Creation Year  ...    Filed Month    Issued Year     Issued Day  \\\n",
       "count         145904.000000  ...  145904.000000  145904.000000  145904.000000   \n",
       "mean            2015.063864  ...       6.415438    2015.152635      15.741371   \n",
       "std                1.447383  ...       3.402507       1.463512       8.690774   \n",
       "min             2012.000000  ...       1.000000    2013.000000       1.000000   \n",
       "25%             2014.000000  ...       3.000000    2014.000000       8.000000   \n",
       "50%             2015.000000  ...       6.000000    2015.000000      16.000000   \n",
       "75%             2016.000000  ...       9.000000    2016.000000      23.000000   \n",
       "max             2018.000000  ...      12.000000    2018.000000      31.000000   \n",
       "\n",
       "        Issued Month  First Construction Document Year  \\\n",
       "count  145904.000000                     145904.000000   \n",
       "mean        6.418933                       2015.158426   \n",
       "std         3.411150                          1.465267   \n",
       "min         1.000000                       2013.000000   \n",
       "25%         3.000000                       2014.000000   \n",
       "50%         6.000000                       2015.000000   \n",
       "75%         9.000000                       2016.000000   \n",
       "max        12.000000                       2018.000000   \n",
       "\n",
       "       First Construction Document Day  First Construction Document Month  \\\n",
       "count                    145904.000000                      145904.000000   \n",
       "mean                         15.720474                           6.429803   \n",
       "std                           8.700937                           3.416976   \n",
       "min                           1.000000                           1.000000   \n",
       "25%                           8.000000                           3.000000   \n",
       "50%                          16.000000                           6.000000   \n",
       "75%                          23.000000                           9.000000   \n",
       "max                          31.000000                          12.000000   \n",
       "\n",
       "       Permit Expiration Year  Permit Expiration Day  Permit Expiration Month  \n",
       "count           145904.000000          145904.000000            145904.000000  \n",
       "mean              2016.332650              15.592225                 6.124781  \n",
       "std                  1.563849               8.804768                 3.351608  \n",
       "min               2013.000000               1.000000                 1.000000  \n",
       "25%               2015.000000               8.000000                 3.000000  \n",
       "50%               2016.000000              15.000000                 6.000000  \n",
       "75%               2018.000000              23.000000                 9.000000  \n",
       "max               2024.000000              31.000000                12.000000  \n",
       "\n",
       "[8 rows x 27 columns]"
      ]
     },
     "execution_count": 388,
     "metadata": {},
     "output_type": "execute_result"
    }
   ],
   "source": [
    "imputed.describe()"
   ]
  },
  {
   "cell_type": "code",
   "execution_count": 389,
   "metadata": {},
   "outputs": [
    {
     "data": {
      "text/plain": [
       "Index(['Permit Type', 'Street Name', 'Current Status',\n",
       "       'Number of Existing Stories', 'Voluntary Soft-Story Retrofit',\n",
       "       'Fire Only Permit', 'Revised Cost', 'Existing Use', 'Existing Units',\n",
       "       'Plansets', 'Existing Construction Type', 'Site Permit',\n",
       "       'Supervisor District', 'Neighborhoods - Analysis Boundaries', 'Zipcode',\n",
       "       'Permit Creation Year', 'Permit Creation Day', 'Permit Creation Month',\n",
       "       'Current Status Year', 'Current Status Day', 'Current Status Month',\n",
       "       'Filed Year', 'Filed Day', 'Filed Month', 'Issued Year', 'Issued Day',\n",
       "       'Issued Month', 'First Construction Document Year',\n",
       "       'First Construction Document Day', 'First Construction Document Month',\n",
       "       'Permit Expiration Year', 'Permit Expiration Day',\n",
       "       'Permit Expiration Month', 'Number of Existing Stories_was_missing',\n",
       "       'Revised Cost_was_missing', 'Existing Use_was_missing',\n",
       "       'Existing Units_was_missing', 'Plansets_was_missing',\n",
       "       'Existing Construction Type_was_missing',\n",
       "       'Supervisor District_was_missing',\n",
       "       'Neighborhoods - Analysis Boundaries_was_missing',\n",
       "       'Zipcode_was_missing', 'Issued Year_was_missing',\n",
       "       'Issued Day_was_missing', 'Issued Month_was_missing',\n",
       "       'First Construction Document Year_was_missing',\n",
       "       'First Construction Document Day_was_missing',\n",
       "       'First Construction Document Month_was_missing',\n",
       "       'Permit Expiration Year_was_missing',\n",
       "       'Permit Expiration Day_was_missing',\n",
       "       'Permit Expiration Month_was_missing'],\n",
       "      dtype='object')"
      ]
     },
     "execution_count": 389,
     "metadata": {},
     "output_type": "execute_result"
    }
   ],
   "source": [
    "imputed.columns"
   ]
  },
  {
   "cell_type": "markdown",
   "metadata": {},
   "source": [
    "### Welche Spalten korrelieren stark mit der Spalte \"Current Status\"?"
   ]
  },
  {
   "cell_type": "markdown",
   "metadata": {},
   "source": [
    "**Im folgenden untersuchen wir die Korrelation von einigen Spalten und dem Current Status.**\n",
    "\n"
   ]
  },
  {
   "cell_type": "code",
   "execution_count": 428,
   "metadata": {},
   "outputs": [
    {
     "data": {
      "text/plain": [
       "<matplotlib.axes._subplots.AxesSubplot at 0x29c5604eef0>"
      ]
     },
     "execution_count": 428,
     "metadata": {},
     "output_type": "execute_result"
    },
    {
     "data": {
      "image/png": "[encoded data removed]",
      "text/plain": [
       "<Figure size 648x576 with 2 Axes>"
      ]
     },
     "metadata": {},
     "output_type": "display_data"
    }
   ],
   "source": [
    "#drop was_missing spalten\n",
    "df1 = imputed\n",
    "df1 = df.drop(df.columns[33:],axis=1)\n",
    "#df1.columns\n",
    "#corrmat = imputed_scale.corr()\n",
    "\n",
    "corrmat = df1.corr()\n",
    "  \n",
    "f, ax = plt.subplots(figsize =(9, 8)) \n",
    "sns.heatmap(corrmat, ax = ax, cmap =\"YlGnBu\", linewidth = 0.1)"
   ]
  },
  {
   "cell_type": "markdown",
   "metadata": {},
   "source": [
    "Wenn es keine Korrelation zwischen 2 Variablen gibt (wenn die Korrelation 0 oder nahe 0 ist), ist die Farbe des Rechtecks in der Heatmap türkis. Das dunkelste Blau bedeutet, dass es eine perfekte positive Korrelation gibt, während das Weiß/Hellgrün bedeutet, dass es eine perfekte negative Korrelation gibt (siehe Legende rechts).\n",
    "Bei der Auswertung der Korrelation zwischen allen Merkmalen beinhaltet die \"corr()\"-Methode die Korrelation jedes Merkmals mit sich selbst, die immer 1 ist, weshalb diese Art von Diagramm immer die blaue Diagonale von oben links nach unten rechts aufweist. Abgesehen von der Diagonale zeigen die restlichen Quadrate Korrelationen zwischen verschiedenen Merkmalen, was es sehr einfach macht, festzustellen, dass nur gringe Korrelation zwischen Current Status und den restlichen Spalten gibt. Dazu schaut man einfach in die Current Status Zeile der Heatmap und sieht, dass es nur Permit Type, Issued Day, First Construction Document Day und Permit Expiration Day \"Korrelation\" gibt. Korrelation steht hier in Anführungszeichen, da diese, wie wir im folgenden sehen, sehr gering ist:"
   ]
  },
  {
   "cell_type": "code",
   "execution_count": 404,
   "metadata": {},
   "outputs": [
    {
     "data": {
      "image/png": "[encoded data removed]",
      "text/plain": [
       "<Figure size 432x288 with 1 Axes>"
      ]
     },
     "metadata": {},
     "output_type": "display_data"
    },
    {
     "name": "stdout",
     "output_type": "stream",
     "text": [
      "Die Korrelation von Permit Type und Current Status liegt bei: 0.006500023733367129\n"
     ]
    }
   ],
   "source": [
    "# Korrelation zwischen Permit Type und Current Status\n",
    "avg_by_permittype = imputed[['Permit Type','Current Status']].groupby('Permit Type',as_index=False).mean()\n",
    "sns.barplot(x='Permit Type', y='Current Status', data=avg_by_permittype, color=\"LightSeaGreen\")\n",
    "plt.show()\n",
    "corr = imputed['Permit Type'].corr(final_df['Current Status'],method ='pearson')\n",
    "print(\"Die Korrelation von Permit Type und Current Status liegt bei: \"+ str(corr))"
   ]
  },
  {
   "cell_type": "code",
   "execution_count": 429,
   "metadata": {},
   "outputs": [
    {
     "data": {
      "image/png": "[encoded data removed]",
      "text/plain": [
       "<Figure size 432x288 with 1 Axes>"
      ]
     },
     "metadata": {},
     "output_type": "display_data"
    },
    {
     "name": "stdout",
     "output_type": "stream",
     "text": [
      "Die Korrelation von Issued Day und Current Status liegt bei: 0.0008624943541626824\n"
     ]
    }
   ],
   "source": [
    "# Korrelation zwischen Plansets und Current Status\n",
    "avg_by_plansets = imputed[['Issued Day','Current Status']].groupby('Issued Day',as_index=False).mean()\n",
    "sns.barplot(x='Issued Day', y='Current Status', data=avg_by_plansets, color=\"LightSeaGreen\")\n",
    "plt.show()\n",
    "corr = imputed['Issued Day'].corr(imputed['Current Status'],method ='pearson')\n",
    "print(\"Die Korrelation von Issued Day und Current Status liegt bei: \"+ str(corr))"
   ]
  },
  {
   "cell_type": "code",
   "execution_count": 406,
   "metadata": {},
   "outputs": [
    {
     "data": {
      "image/png": "[encoded data removed]",
      "text/plain": [
       "<Figure size 432x288 with 1 Axes>"
      ]
     },
     "metadata": {},
     "output_type": "display_data"
    },
    {
     "name": "stdout",
     "output_type": "stream",
     "text": [
      "Die Korrelation von Supervisor District und Current Status liegt bei: -0.0053083973583351015\n"
     ]
    }
   ],
   "source": [
    "# Korrelation zwischen Supervisor District und Current Status\n",
    "avg_by_supervisor_dis = imputed[['Supervisor District','Current Status']].groupby('Supervisor District',as_index=False).mean()\n",
    "sns.barplot(x='Supervisor District', y='Current Status', data=avg_by_supervisor_dis, color=\"LightSeaGreen\")\n",
    "plt.show()\n",
    "corr = imputed['Supervisor District'].corr(imputed['Current Status'],method ='pearson')\n",
    "print(\"Die Korrelation von Supervisor District und Current Status liegt bei: \"+ str(corr))"
   ]
  },
  {
   "cell_type": "code",
   "execution_count": 430,
   "metadata": {},
   "outputs": [
    {
     "data": {
      "image/png": "[encoded data removed]",
      "text/plain": [
       "<Figure size 432x288 with 1 Axes>"
      ]
     },
     "metadata": {},
     "output_type": "display_data"
    },
    {
     "name": "stdout",
     "output_type": "stream",
     "text": [
      "Die Korrelation von First Construction Document Day und Current Status liegt bei: 0.0014318734350005555\n"
     ]
    }
   ],
   "source": [
    "# Korrelation zwischen Permit Creation Year und Current Status\n",
    "avg_by_permit_cre_year = imputed[['First Construction Document Day','Current Status']].groupby('First Construction Document Day',as_index=False).mean()\n",
    "sns.barplot(x='First Construction Document Day', y='Current Status', data=avg_by_permit_cre_year, color=\"LightSeaGreen\")\n",
    "plt.show()\n",
    "corr = imputed['First Construction Document Day'].corr(imputed['Current Status'],method ='pearson')\n",
    "print(\"Die Korrelation von First Construction Document Day und Current Status liegt bei: \"+ str(corr))\n"
   ]
  },
  {
   "cell_type": "code",
   "execution_count": 408,
   "metadata": {},
   "outputs": [
    {
     "data": {
      "image/png": "[encoded data removed]",
      "text/plain": [
       "<Figure size 4320x720 with 1 Axes>"
      ]
     },
     "metadata": {},
     "output_type": "display_data"
    },
    {
     "name": "stdout",
     "output_type": "stream",
     "text": [
      "Die Korrelation von Zipcode und Current Status liegt bei: -0.023867107183529728\n"
     ]
    }
   ],
   "source": [
    "# Korrelation zwischen Zipcode und Current Status\n",
    "plt.figure(figsize=(60,10))\n",
    "avg_by_zipcode = imputed[['Zipcode','Current Status']].groupby('Zipcode',as_index=False).mean()\n",
    "sns.barplot(x='Zipcode', y='Current Status', data=avg_by_zipcode, color=\"LightSeaGreen\")\n",
    "plt.show()\n",
    "corr = imputed['Zipcode'].corr(imputed['Current Status'],method ='pearson')\n",
    "print(\"Die Korrelation von Zipcode und Current Status liegt bei: \"+ str(corr))\n"
   ]
  },
  {
   "cell_type": "code",
   "execution_count": 409,
   "metadata": {},
   "outputs": [
    {
     "data": {
      "image/png": "[encoded data removed]",
      "text/plain": [
       "<Figure size 432x288 with 1 Axes>"
      ]
     },
     "metadata": {},
     "output_type": "display_data"
    },
    {
     "name": "stdout",
     "output_type": "stream",
     "text": [
      "Die Korrelation von Existing Construction Type und Current Status liegt bei: -0.04732417835217785\n"
     ]
    }
   ],
   "source": [
    "# Korrelation zwischen Existing Construction Type und Current Status\n",
    "avg_by_ex_con_tpye = imputed[['Existing Construction Type','Current Status']].groupby('Existing Construction Type',as_index=False).mean()\n",
    "sns.barplot(x='Existing Construction Type', y='Current Status', data=avg_by_ex_con_tpye, color=\"LightSeaGreen\")\n",
    "plt.show()\n",
    "corr = imputed['Existing Construction Type'].corr(imputed['Current Status'],method ='pearson')\n",
    "print(\"Die Korrelation von Existing Construction Type und Current Status liegt bei: \"+ str(corr))\n"
   ]
  },
  {
   "cell_type": "code",
   "execution_count": 411,
   "metadata": {},
   "outputs": [
    {
     "data": {
      "image/png": "[encoded data removed]",
      "text/plain": [
       "<Figure size 10800x360 with 1 Axes>"
      ]
     },
     "metadata": {},
     "output_type": "display_data"
    }
   ],
   "source": [
    "# Korrelation zwischen Existing Use und Current Status\n",
    "plt.figure(figsize=(150,5))\n",
    "avg_by_exi_use = imputed[['Existing Use','Current Status']].groupby('Existing Use',as_index=False).mean()\n",
    "sns.barplot(x='Existing Use', y='Current Status', data=avg_by_exi_use, color=\"LightSeaGreen\")\n",
    "plt.show()\n",
    "#corr = imputed['Existing Use'].corr(imputed['Current Status'],method ='pearson')\n",
    "#rint(\"Die Korrelation von Existing Use und Current Status liegt bei: \"+ str(corr))\n"
   ]
  },
  {
   "cell_type": "code",
   "execution_count": 412,
   "metadata": {},
   "outputs": [
    {
     "data": {
      "image/png": "[encoded data removed]",
      "text/plain": [
       "<Figure size 10800x360 with 1 Axes>"
      ]
     },
     "metadata": {},
     "output_type": "display_data"
    },
    {
     "name": "stdout",
     "output_type": "stream",
     "text": [
      "Die Korrelation von Number of Existing Stories und Current Status liegt bei: 0.03711969995499445\n"
     ]
    }
   ],
   "source": [
    "# Korrelation zwischen Number of Existing Stories und Current Status\n",
    "plt.figure(figsize=(150,5))\n",
    "avg_by_user_stor = imputed[['Number of Existing Stories','Current Status']].groupby('Number of Existing Stories',as_index=False).mean()\n",
    "sns.barplot(x='Number of Existing Stories', y='Current Status', data=avg_by_user_stor, color=\"LightSeaGreen\")\n",
    "plt.show()\n",
    "corr = imputed['Number of Existing Stories'].corr(imputed['Current Status'],method ='pearson')\n",
    "print(\"Die Korrelation von Number of Existing Stories und Current Status liegt bei: \"+ str(corr))"
   ]
  },
  {
   "cell_type": "code",
   "execution_count": 413,
   "metadata": {},
   "outputs": [
    {
     "data": {
      "image/png": "[encoded data removed]",
      "text/plain": [
       "<Figure size 432x288 with 1 Axes>"
      ]
     },
     "metadata": {},
     "output_type": "display_data"
    },
    {
     "name": "stdout",
     "output_type": "stream",
     "text": [
      "Die Korrelation von Permit Creation Month und Current Status liegt bei: -0.0053602715266814075\n"
     ]
    }
   ],
   "source": [
    "# Korrelation zwischen Permit Creation Month und Current Status\n",
    "avg_by_creat_month = imputed[['Permit Creation Month','Current Status']].groupby('Permit Creation Month',as_index=False).mean()\n",
    "sns.barplot(x='Permit Creation Month', y='Current Status', data=avg_by_creat_month, color=\"LightSeaGreen\")\n",
    "plt.show()\n",
    "corr = imputed['Permit Creation Month'].corr(imputed['Current Status'],method ='pearson')\n",
    "print(\"Die Korrelation von Permit Creation Month und Current Status liegt bei: \"+ str(corr))"
   ]
  },
  {
   "cell_type": "code",
   "execution_count": 414,
   "metadata": {},
   "outputs": [
    {
     "data": {
      "image/png": "[encoded data removed]",
      "text/plain": [
       "<Figure size 432x288 with 1 Axes>"
      ]
     },
     "metadata": {},
     "output_type": "display_data"
    },
    {
     "name": "stdout",
     "output_type": "stream",
     "text": [
      "Die Korrelation von Issued Year und Current Status liegt bei: 0.05112156980642698\n"
     ]
    }
   ],
   "source": [
    "# Korrelation zwischen issued Year und Current Status\n",
    "avg_by_i_year = imputed[['Issued Year','Current Status']].groupby('Issued Year',as_index=False).mean()\n",
    "sns.barplot(x='Issued Year', y='Current Status', data=avg_by_i_year, color=\"LightSeaGreen\")\n",
    "plt.show()\n",
    "corr = imputed['Issued Year'].corr(imputed['Current Status'],method ='pearson')\n",
    "print(\"Die Korrelation von Issued Year und Current Status liegt bei: \"+ str(corr))"
   ]
  },
  {
   "cell_type": "code",
   "execution_count": 415,
   "metadata": {},
   "outputs": [
    {
     "data": {
      "image/png": "[encoded data removed]",
      "text/plain": [
       "<Figure size 432x288 with 1 Axes>"
      ]
     },
     "metadata": {},
     "output_type": "display_data"
    },
    {
     "name": "stdout",
     "output_type": "stream",
     "text": [
      "Die Korrelation von First Construction Document Year und Current Status liegt bei: 0.05003332375196711\n"
     ]
    }
   ],
   "source": [
    "# Korrelation zwischen First Construction Document Year und Current Status\n",
    "avg_by_first_cons_year = imputed[['First Construction Document Year','Current Status']].groupby('First Construction Document Year',as_index=False).mean()\n",
    "sns.barplot(x='First Construction Document Year', y='Current Status', data=avg_by_first_cons_year, color=\"LightSeaGreen\")\n",
    "plt.show()\n",
    "corr = imputed['First Construction Document Year'].corr(imputed['Current Status'],method ='pearson')\n",
    "print(\"Die Korrelation von First Construction Document Year und Current Status liegt bei: \"+ str(corr))"
   ]
  },
  {
   "cell_type": "code",
   "execution_count": 416,
   "metadata": {},
   "outputs": [
    {
     "data": {
      "image/png": "[encoded data removed]",
      "text/plain": [
       "<Figure size 432x288 with 1 Axes>"
      ]
     },
     "metadata": {},
     "output_type": "display_data"
    },
    {
     "name": "stdout",
     "output_type": "stream",
     "text": [
      "Die Korrelation von Filed Year und Current Status liegt bei: 0.05564657622326574\n"
     ]
    }
   ],
   "source": [
    "# Korrelation zwischen Filed Year und Current Status\n",
    "avg_by_filled_year = imputed[['Filed Year','Current Status']].groupby('Filed Year',as_index=False).mean()\n",
    "sns.barplot(x='Filed Year', y='Current Status', data=avg_by_filled_year, color=\"LightSeaGreen\")\n",
    "plt.show()\n",
    "corr = imputed['Filed Year'].corr(imputed['Current Status'],method ='pearson')\n",
    "print(\"Die Korrelation von Filed Year und Current Status liegt bei: \"+ str(corr))"
   ]
  },
  {
   "cell_type": "markdown",
   "metadata": {},
   "source": [
    "#### Antwort:\n",
    "\n",
    "Zusammenfassend kann man sagen, dass keine Spalte mit Current Status korreliert, zumindest nicht auffallend korreliert! Wenn man etwas hervorheben möchte, dann könnte man behaupten, dass ein paar Spalten gibt, die eine Korrelation im positive Bereich habe. Daraus kann man aber nicht schließen, dass es eine Korrelation gibt. Alles in allem gibt es aber keinen eindeutigen Zusammenhang zwischen der Genehmigung einer Baugenehmigung und den anderen Säulen."
   ]
  },
  {
   "cell_type": "markdown",
   "metadata": {},
   "source": [
    "### Wie verhalten sich andere Spalten zueinander?"
   ]
  },
  {
   "cell_type": "markdown",
   "metadata": {},
   "source": [
    "Zuerst testen wir der Übung wegen ein paar Spalten gegeneinander und berechnen die Korrelation:"
   ]
  },
  {
   "cell_type": "code",
   "execution_count": 418,
   "metadata": {},
   "outputs": [
    {
     "data": {
      "image/png": "[encoded data removed]",
      "text/plain": [
       "<Figure size 1440x288 with 1 Axes>"
      ]
     },
     "metadata": {},
     "output_type": "display_data"
    },
    {
     "name": "stdout",
     "output_type": "stream",
     "text": [
      "Die Korrelation von Permit Type und Filed Year liegt bei: 0.07168401189799614\n"
     ]
    }
   ],
   "source": [
    "plt.figure(figsize=(20,4))\n",
    "avg_status_by_permittype =imputed[['Permit Type','Filed Year']].groupby('Permit Type',as_index=False).mean()\n",
    "sns.barplot(x= 'Permit Type', y='Filed Year', data=avg_status_by_permittype, color=\"LightSeaGreen\")\n",
    "plt.show()\n",
    "corr = imputed['Permit Type'].corr(imputed['Filed Year'],method ='pearson')\n",
    "print(\"Die Korrelation von Permit Type und Filed Year liegt bei: \"+ str(corr))"
   ]
  },
  {
   "cell_type": "code",
   "execution_count": 420,
   "metadata": {},
   "outputs": [
    {
     "data": {
      "image/png": "[encoded data removed]",
      "text/plain": [
       "<Figure size 1440x288 with 1 Axes>"
      ]
     },
     "metadata": {},
     "output_type": "display_data"
    },
    {
     "name": "stdout",
     "output_type": "stream",
     "text": [
      "Die Korrelation von Zipcode und Permit Type liegt bei: -0.010074295555796682\n"
     ]
    }
   ],
   "source": [
    "plt.figure(figsize=(20,4))\n",
    "avg_status_by_permittype =imputed[['Zipcode','Permit Type']].groupby('Zipcode',as_index=False).mean()\n",
    "sns.barplot(x= 'Zipcode', y='Permit Type', data=avg_status_by_permittype, color=\"LightSeaGreen\")\n",
    "plt.show()\n",
    "corr = imputed['Zipcode'].corr(imputed['Permit Type'],method ='pearson')\n",
    "print(\"Die Korrelation von Zipcode und Permit Type liegt bei: \"+ str(corr))"
   ]
  },
  {
   "cell_type": "code",
   "execution_count": 421,
   "metadata": {},
   "outputs": [
    {
     "data": {
      "image/png": "[encoded data removed]",
      "text/plain": [
       "<Figure size 1440x288 with 1 Axes>"
      ]
     },
     "metadata": {},
     "output_type": "display_data"
    },
    {
     "name": "stdout",
     "output_type": "stream",
     "text": [
      "Die Korrelation von Zipcode und Supervisor District liegt bei: -0.04070859876119919\n"
     ]
    }
   ],
   "source": [
    "plt.figure(figsize=(20,4))\n",
    "avg_status_by_permittype =imputed[['Zipcode','Supervisor District']].groupby('Zipcode',as_index=False).mean()\n",
    "sns.barplot(x= 'Zipcode', y='Supervisor District', data=avg_status_by_permittype, color=\"LightSeaGreen\")\n",
    "plt.show()\n",
    "corr = imputed['Zipcode'].corr(imputed['Supervisor District'],method ='pearson')\n",
    "print(\"Die Korrelation von Zipcode und Supervisor District liegt bei: \"+ str(corr))"
   ]
  },
  {
   "cell_type": "code",
   "execution_count": 422,
   "metadata": {},
   "outputs": [
    {
     "data": {
      "image/png": "[encoded data removed]",
      "text/plain": [
       "<Figure size 1440x288 with 1 Axes>"
      ]
     },
     "metadata": {},
     "output_type": "display_data"
    },
    {
     "name": "stdout",
     "output_type": "stream",
     "text": [
      "Die Korrelation von Existing Construction Typeund Zipcode liegt bei: 0.3873507706405941\n"
     ]
    }
   ],
   "source": [
    "plt.figure(figsize=(20,4))\n",
    "avg_status_by_permittype =imputed[['Existing Construction Type','Zipcode']].groupby('Existing Construction Type',as_index=False).mean()\n",
    "sns.barplot(x= 'Existing Construction Type', y='Zipcode', data=avg_status_by_permittype, color=\"LightSeaGreen\")\n",
    "plt.show()\n",
    "corr = imputed['Existing Construction Type'].corr(imputed['Zipcode'],method ='pearson')\n",
    "print(\"Die Korrelation von Existing Construction Typeund Zipcode liegt bei: \"+ str(corr))"
   ]
  },
  {
   "cell_type": "markdown",
   "metadata": {},
   "source": [
    "**Wie verhalten sich die Spalten im Bezug auf die Korrelation?**\n",
    "\n",
    "Hier eine Heatmap:"
   ]
  },
  {
   "cell_type": "code",
   "execution_count": 427,
   "metadata": {},
   "outputs": [
    {
     "data": {
      "text/plain": [
       "<matplotlib.axes._subplots.AxesSubplot at 0x29c2e7d75f8>"
      ]
     },
     "execution_count": 427,
     "metadata": {},
     "output_type": "execute_result"
    },
    {
     "data": {
      "image/png": "[encoded data removed]",
      "text/plain": [
       "<Figure size 648x576 with 2 Axes>"
      ]
     },
     "metadata": {},
     "output_type": "display_data"
    }
   ],
   "source": [
    "corrmat = df1.corr()\n",
    "  \n",
    "f, ax = plt.subplots(figsize =(9, 8)) \n",
    "sns.heatmap(corrmat, ax = ax, cmap =\"YlGnBu\", linewidth = 0.1)"
   ]
  },
  {
   "cell_type": "markdown",
   "metadata": {},
   "source": [
    "Wenn wir alle Spalten miteinader vergleichen, muss man quasi jedes Rechteckt (außer die Diagonale). Hier fällt uns schnell auf, dass auf der Rechten unteren Seite viele blau gefärbte Rechtecke gibt. Das liegt logischwerweiße daran, dass es sich hier um die Datumfelder handelt, die einen Zusammenhang haben. Wir können logischerweiße daraufschließen, dass es in der Behörde Fristen gibt, die sich in der Datumkorrelation wiederspiegelt.\n",
    "\n",
    "Es ist aber auch interessant, dass es auch 2 weiße Felder gibt, was eine fast perfekte (nahe -1) negative Korrelation zeigt"
   ]
  },
  {
   "cell_type": "code",
   "execution_count": 432,
   "metadata": {},
   "outputs": [
    {
     "data": {
      "image/png": "[encoded data removed]",
      "text/plain": [
       "<Figure size 1440x288 with 1 Axes>"
      ]
     },
     "metadata": {},
     "output_type": "display_data"
    },
    {
     "name": "stdout",
     "output_type": "stream",
     "text": [
      "Die Korrelation von Existing Construction Type und Number of Existing Stories liegt bei: -0.6826560042551433\n"
     ]
    }
   ],
   "source": [
    "plt.figure(figsize=(20,4))\n",
    "avg_status_by_permittype =imputed[['Existing Construction Type','Number of Existing Stories']].groupby('Existing Construction Type',as_index=False).mean()\n",
    "sns.barplot(x= 'Existing Construction Type', y='Number of Existing Stories', data=avg_status_by_permittype, color=\"LightSeaGreen\")\n",
    "plt.show()\n",
    "corr = imputed['Existing Construction Type'].corr(imputed['Number of Existing Stories'],method ='pearson')\n",
    "print(\"Die Korrelation von Existing Construction Type und Number of Existing Stories liegt bei: \"+ str(corr))"
   ]
  },
  {
   "cell_type": "code",
   "execution_count": 433,
   "metadata": {},
   "outputs": [
    {
     "data": {
      "image/png": "[encoded data removed]",
      "text/plain": [
       "<Figure size 1440x288 with 1 Axes>"
      ]
     },
     "metadata": {},
     "output_type": "display_data"
    },
    {
     "name": "stdout",
     "output_type": "stream",
     "text": [
      "Die Korrelation von Issued Month und Permit Expiration Month liegt bei: 0.8069462050237929\n"
     ]
    }
   ],
   "source": [
    "plt.figure(figsize=(20,4))\n",
    "avg_status_by_permittype =imputed[['Issued Month','Permit Expiration Month']].groupby('Issued Month',as_index=False).mean()\n",
    "sns.barplot(x= 'Issued Month', y='Permit Expiration Month', data=avg_status_by_permittype, color=\"LightSeaGreen\")\n",
    "plt.show()\n",
    "corr = imputed['Issued Month'].corr(imputed['Permit Expiration Month'],method ='pearson')\n",
    "print(\"Die Korrelation von Issued Month und Permit Expiration Month liegt bei: \"+ str(corr))"
   ]
  },
  {
   "cell_type": "code",
   "execution_count": null,
   "metadata": {},
   "outputs": [],
   "source": []
  },
  {
   "cell_type": "code",
   "execution_count": null,
   "metadata": {},
   "outputs": [],
   "source": []
  },
  {
   "cell_type": "code",
   "execution_count": null,
   "metadata": {},
   "outputs": [],
   "source": []
  },
  {
   "cell_type": "code",
   "execution_count": null,
   "metadata": {},
   "outputs": [],
   "source": []
  },
  {
   "cell_type": "code",
   "execution_count": null,
   "metadata": {},
   "outputs": [],
   "source": []
  },
  {
   "cell_type": "code",
   "execution_count": null,
   "metadata": {},
   "outputs": [],
   "source": []
  },
  {
   "cell_type": "code",
   "execution_count": null,
   "metadata": {},
   "outputs": [],
   "source": []
  },
  {
   "cell_type": "code",
   "execution_count": null,
   "metadata": {},
   "outputs": [],
   "source": []
  },
  {
   "cell_type": "code",
   "execution_count": null,
   "metadata": {},
   "outputs": [],
   "source": []
  }
 ],
 "metadata": {
  "kernelspec": {
   "display_name": "Python 3",
   "language": "python",
   "name": "python3"
  },
  "language_info": {
   "codemirror_mode": {
    "name": "ipython",
    "version": 3
   },
   "file_extension": ".py",
   "mimetype": "text/x-python",
   "name": "python",
   "nbconvert_exporter": "python",
   "pygments_lexer": "ipython3",
   "version": "3.7.3"
  }
 },
 "nbformat": 4,
 "nbformat_minor": 2
}
