{
 "cells": [
  {
   "cell_type": "markdown",
   "metadata": {},
   "source": [
    "# A SF Permits Cleaning\n",
    "\n",
    "**1) Download the Building_Permits.csv from Kaggle**\n",
    "\n",
    "\n",
    "**2) Clean the San Francisco Building permit dataset**\n",
    "\n",
    "\n",
    "**3) Use imputation were necessary**\n",
    "\n"
   ]
  },
  {
   "cell_type": "markdown",
   "metadata": {},
   "source": [
    "### Import der Daten & Python Pakete"
   ]
  },
  {
   "cell_type": "code",
   "execution_count": 679,
   "metadata": {},
   "outputs": [],
   "source": [
    "import numpy as np \n",
    "import pandas as pd \n",
    "\n",
    "from sklearn import preprocessing\n",
    "import matplotlib.pyplot as plt \n",
    "plt.rc(\"font\", size=14)\n",
    "import seaborn as sns\n",
    "\n",
    "sns.set(style=\"white\")\n",
    "sns.set(style=\"whitegrid\", color_codes=True)\n"
   ]
  },
  {
   "cell_type": "code",
   "execution_count": 680,
   "metadata": {},
   "outputs": [
    {
     "name": "stderr",
     "output_type": "stream",
     "text": [
      "C:\\Users\\D073616\\AppData\\Local\\Continuum\\anaconda3\\lib\\site-packages\\IPython\\core\\interactiveshell.py:3057: DtypeWarning: Columns (22,32) have mixed types. Specify dtype option on import or set low_memory=False.\n",
      "  interactivity=interactivity, compiler=compiler, result=result)\n"
     ]
    },
    {
     "data": {
      "text/html": [
       "<div>\n",
       "<style scoped>\n",
       "    .dataframe tbody tr th:only-of-type {\n",
       "        vertical-align: middle;\n",
       "    }\n",
       "\n",
       "    .dataframe tbody tr th {\n",
       "        vertical-align: top;\n",
       "    }\n",
       "\n",
       "    .dataframe thead th {\n",
       "        text-align: right;\n",
       "    }\n",
       "</style>\n",
       "<table border=\"1\" class=\"dataframe\">\n",
       "  <thead>\n",
       "    <tr style=\"text-align: right;\">\n",
       "      <th></th>\n",
       "      <th>Permit Number</th>\n",
       "      <th>Permit Type</th>\n",
       "      <th>Permit Type Definition</th>\n",
       "      <th>Permit Creation Date</th>\n",
       "      <th>Block</th>\n",
       "      <th>Lot</th>\n",
       "      <th>Street Number</th>\n",
       "      <th>Street Number Suffix</th>\n",
       "      <th>Street Name</th>\n",
       "      <th>Street Suffix</th>\n",
       "      <th>...</th>\n",
       "      <th>Existing Construction Type</th>\n",
       "      <th>Existing Construction Type Description</th>\n",
       "      <th>Proposed Construction Type</th>\n",
       "      <th>Proposed Construction Type Description</th>\n",
       "      <th>Site Permit</th>\n",
       "      <th>Supervisor District</th>\n",
       "      <th>Neighborhoods - Analysis Boundaries</th>\n",
       "      <th>Zipcode</th>\n",
       "      <th>Location</th>\n",
       "      <th>Record ID</th>\n",
       "    </tr>\n",
       "  </thead>\n",
       "  <tbody>\n",
       "    <tr>\n",
       "      <th>40553</th>\n",
       "      <td>201403039652</td>\n",
       "      <td>8</td>\n",
       "      <td>otc alterations permit</td>\n",
       "      <td>03/03/2014</td>\n",
       "      <td>3732</td>\n",
       "      <td>008</td>\n",
       "      <td>400</td>\n",
       "      <td>NaN</td>\n",
       "      <td>Clementina</td>\n",
       "      <td>St</td>\n",
       "      <td>...</td>\n",
       "      <td>NaN</td>\n",
       "      <td>NaN</td>\n",
       "      <td>1.0</td>\n",
       "      <td>constr type 1</td>\n",
       "      <td>NaN</td>\n",
       "      <td>6.0</td>\n",
       "      <td>South of Market</td>\n",
       "      <td>94103.0</td>\n",
       "      <td>(37.780460571778164, -122.40450626524974)</td>\n",
       "      <td>1334094491645</td>\n",
       "    </tr>\n",
       "    <tr>\n",
       "      <th>169731</th>\n",
       "      <td>201510159735</td>\n",
       "      <td>3</td>\n",
       "      <td>additions alterations or repairs</td>\n",
       "      <td>10/15/2015</td>\n",
       "      <td>2609</td>\n",
       "      <td>028</td>\n",
       "      <td>79</td>\n",
       "      <td>NaN</td>\n",
       "      <td>Buena Vista</td>\n",
       "      <td>Tr</td>\n",
       "      <td>...</td>\n",
       "      <td>5.0</td>\n",
       "      <td>wood frame (5)</td>\n",
       "      <td>5.0</td>\n",
       "      <td>wood frame (5)</td>\n",
       "      <td>NaN</td>\n",
       "      <td>8.0</td>\n",
       "      <td>Castro/Upper Market</td>\n",
       "      <td>94117.0</td>\n",
       "      <td>(37.76757916496494, -122.43793170417105)</td>\n",
       "      <td>1399356139170</td>\n",
       "    </tr>\n",
       "    <tr>\n",
       "      <th>19180</th>\n",
       "      <td>M409787</td>\n",
       "      <td>8</td>\n",
       "      <td>otc alterations permit</td>\n",
       "      <td>07/22/2013</td>\n",
       "      <td>4624</td>\n",
       "      <td>031</td>\n",
       "      <td>178</td>\n",
       "      <td>NaN</td>\n",
       "      <td>West Point</td>\n",
       "      <td>Rd</td>\n",
       "      <td>...</td>\n",
       "      <td>NaN</td>\n",
       "      <td>NaN</td>\n",
       "      <td>NaN</td>\n",
       "      <td>NaN</td>\n",
       "      <td>NaN</td>\n",
       "      <td>10.0</td>\n",
       "      <td>Bayview Hunters Point</td>\n",
       "      <td>94124.0</td>\n",
       "      <td>(37.73524725436046, -122.38063828309745)</td>\n",
       "      <td>1311685491725</td>\n",
       "    </tr>\n",
       "    <tr>\n",
       "      <th>68047</th>\n",
       "      <td>201411191888</td>\n",
       "      <td>8</td>\n",
       "      <td>otc alterations permit</td>\n",
       "      <td>11/19/2014</td>\n",
       "      <td>0039</td>\n",
       "      <td>109</td>\n",
       "      <td>294</td>\n",
       "      <td>NaN</td>\n",
       "      <td>Francisco</td>\n",
       "      <td>St</td>\n",
       "      <td>...</td>\n",
       "      <td>5.0</td>\n",
       "      <td>wood frame (5)</td>\n",
       "      <td>5.0</td>\n",
       "      <td>wood frame (5)</td>\n",
       "      <td>NaN</td>\n",
       "      <td>3.0</td>\n",
       "      <td>North Beach</td>\n",
       "      <td>94133.0</td>\n",
       "      <td>(37.805257822817126, -122.40998545760392)</td>\n",
       "      <td>1362881288870</td>\n",
       "    </tr>\n",
       "    <tr>\n",
       "      <th>64238</th>\n",
       "      <td>M527228</td>\n",
       "      <td>8</td>\n",
       "      <td>otc alterations permit</td>\n",
       "      <td>10/14/2014</td>\n",
       "      <td>1251</td>\n",
       "      <td>002</td>\n",
       "      <td>707</td>\n",
       "      <td>NaN</td>\n",
       "      <td>Cole</td>\n",
       "      <td>St</td>\n",
       "      <td>...</td>\n",
       "      <td>NaN</td>\n",
       "      <td>NaN</td>\n",
       "      <td>NaN</td>\n",
       "      <td>NaN</td>\n",
       "      <td>NaN</td>\n",
       "      <td>5.0</td>\n",
       "      <td>Haight Ashbury</td>\n",
       "      <td>94117.0</td>\n",
       "      <td>(37.76836885973765, -122.45074431487859)</td>\n",
       "      <td>135886493776</td>\n",
       "    </tr>\n",
       "  </tbody>\n",
       "</table>\n",
       "<p>5 rows × 43 columns</p>\n",
       "</div>"
      ],
      "text/plain": [
       "       Permit Number  Permit Type            Permit Type Definition  \\\n",
       "40553   201403039652            8            otc alterations permit   \n",
       "169731  201510159735            3  additions alterations or repairs   \n",
       "19180        M409787            8            otc alterations permit   \n",
       "68047   201411191888            8            otc alterations permit   \n",
       "64238        M527228            8            otc alterations permit   \n",
       "\n",
       "       Permit Creation Date Block  Lot  Street Number Street Number Suffix  \\\n",
       "40553            03/03/2014  3732  008            400                  NaN   \n",
       "169731           10/15/2015  2609  028             79                  NaN   \n",
       "19180            07/22/2013  4624  031            178                  NaN   \n",
       "68047            11/19/2014  0039  109            294                  NaN   \n",
       "64238            10/14/2014  1251  002            707                  NaN   \n",
       "\n",
       "        Street Name Street Suffix  ...  Existing Construction Type  \\\n",
       "40553    Clementina            St  ...                         NaN   \n",
       "169731  Buena Vista            Tr  ...                         5.0   \n",
       "19180    West Point            Rd  ...                         NaN   \n",
       "68047     Francisco            St  ...                         5.0   \n",
       "64238          Cole            St  ...                         NaN   \n",
       "\n",
       "       Existing Construction Type Description Proposed Construction Type  \\\n",
       "40553                                     NaN                        1.0   \n",
       "169731                         wood frame (5)                        5.0   \n",
       "19180                                     NaN                        NaN   \n",
       "68047                          wood frame (5)                        5.0   \n",
       "64238                                     NaN                        NaN   \n",
       "\n",
       "       Proposed Construction Type Description Site Permit Supervisor District  \\\n",
       "40553                           constr type 1         NaN                 6.0   \n",
       "169731                         wood frame (5)         NaN                 8.0   \n",
       "19180                                     NaN         NaN                10.0   \n",
       "68047                          wood frame (5)         NaN                 3.0   \n",
       "64238                                     NaN         NaN                 5.0   \n",
       "\n",
       "       Neighborhoods - Analysis Boundaries  Zipcode  \\\n",
       "40553                      South of Market  94103.0   \n",
       "169731                 Castro/Upper Market  94117.0   \n",
       "19180                Bayview Hunters Point  94124.0   \n",
       "68047                          North Beach  94133.0   \n",
       "64238                       Haight Ashbury  94117.0   \n",
       "\n",
       "                                         Location      Record ID  \n",
       "40553   (37.780460571778164, -122.40450626524974)  1334094491645  \n",
       "169731   (37.76757916496494, -122.43793170417105)  1399356139170  \n",
       "19180    (37.73524725436046, -122.38063828309745)  1311685491725  \n",
       "68047   (37.805257822817126, -122.40998545760392)  1362881288870  \n",
       "64238    (37.76836885973765, -122.45074431487859)   135886493776  \n",
       "\n",
       "[5 rows x 43 columns]"
      ]
     },
     "execution_count": 680,
     "metadata": {},
     "output_type": "execute_result"
    }
   ],
   "source": [
    "# get building_permit csv files as a DataFrame\n",
    "\n",
    "#developmental data (train)\n",
    "building_df = pd.read_csv(\"./Building_Permits.csv\")\n",
    "\n",
    "#cross validation data (hold-out testing)\n",
    "#test_df    = pd.read_csv(\"./titanic/test.csv\")\n",
    "np.random.seed(0) \n",
    "# preview developmental data\n",
    "building_df.sample(5)"
   ]
  },
  {
   "cell_type": "markdown",
   "metadata": {},
   "source": [
    "### Datenanalyse - Wie viele Werte fehlen in welcher Spalte?"
   ]
  },
  {
   "cell_type": "code",
   "execution_count": 681,
   "metadata": {},
   "outputs": [
    {
     "data": {
      "text/plain": [
       "TIDF Compliance                           0.999990\n",
       "Voluntary Soft-Story Retrofit             0.999824\n",
       "Unit Suffix                               0.990141\n",
       "Street Number Suffix                      0.988859\n",
       "Site Permit                               0.973057\n",
       "Structural Notification                   0.965199\n",
       "Fire Only Permit                          0.905344\n",
       "Unit                                      0.851790\n",
       "Completed Date                            0.511357\n",
       "Permit Expiration Date                    0.260835\n",
       "Existing Units                            0.259115\n",
       "Proposed Units                            0.255963\n",
       "Existing Construction Type                0.218029\n",
       "Existing Construction Type Description    0.218029\n",
       "Proposed Construction Type                0.217004\n",
       "Proposed Construction Type Description    0.217004\n",
       "Number of Proposed Stories                0.215525\n",
       "Number of Existing Stories                0.215103\n",
       "Proposed Use                              0.213369\n",
       "Existing Use                              0.206707\n",
       "Estimated Cost                            0.191383\n",
       "Plansets                                  0.187577\n",
       "First Construction Document Date          0.075143\n",
       "Issued Date                               0.075113\n",
       "Revised Cost                              0.030498\n",
       "Street Suffix                             0.013917\n",
       "Neighborhoods - Analysis Boundaries       0.008673\n",
       "Supervisor District                       0.008632\n",
       "Zipcode                                   0.008627\n",
       "Location                                  0.008547\n",
       "Description                               0.001458\n",
       "Lot                                       0.000000\n",
       "Permit Type                               0.000000\n",
       "Permit Type Definition                    0.000000\n",
       "Permit Creation Date                      0.000000\n",
       "Block                                     0.000000\n",
       "Record ID                                 0.000000\n",
       "Street Number                             0.000000\n",
       "Street Name                               0.000000\n",
       "Current Status                            0.000000\n",
       "Current Status Date                       0.000000\n",
       "Filed Date                                0.000000\n",
       "Permit Number                             0.000000\n",
       "dtype: float64"
      ]
     },
     "execution_count": 681,
     "metadata": {},
     "output_type": "execute_result"
    }
   ],
   "source": [
    "# Wir lassen uns die % Zahlen ausgeben, wie viel Werte  in einer Spalte fehlen \n",
    "missing_values = building_df.isnull().sum()\n",
    "sums = building_df.isnull().sum()\n",
    "missing_percent = (sums/building_df.shape[0]).sort_values(ascending=False)\n",
    "missing_percent"
   ]
  },
  {
   "cell_type": "code",
   "execution_count": 682,
   "metadata": {},
   "outputs": [
    {
     "data": {
      "text/plain": [
       "26.26002315058403"
      ]
     },
     "execution_count": 682,
     "metadata": {},
     "output_type": "execute_result"
    }
   ],
   "source": [
    "#Wie viel % der Daten fehlen insgesamt??\n",
    "\n",
    "\n",
    "# total number of cells \n",
    "total_cells = np.product(building_df.shape)\n",
    "# total missing values \n",
    "missing_values = building_df.isnull().sum()\n",
    "total_missing_values = missing_values.sum()\n",
    "\n",
    "# percentage of nan or None cells \n",
    "nan_or_null_cell_percentage = (total_missing_values/total_cells)*100\n",
    "nan_or_null_cell_percentage"
   ]
  },
  {
   "cell_type": "markdown",
   "metadata": {},
   "source": [
    "### Bemerkung\n",
    "\n",
    "Insgesamt fehlen über 26% der Einträge in den Spalten. \n",
    "\n",
    "bei folgenden Spalten (in %) fehlen **extrem** viele Werte und sind damit ungeinget, falls wir später mit Hilfe dieser Daten etwas vorhersagen möchten: \n",
    "\n",
    "\n",
    "* TIDF Compliance                           0.999990\n",
    "* Voluntary Soft-Story Retrofit             0.999824\n",
    "* Unit Suffix                               0.990141\n",
    "* Street Number Suffix                      0.988859\n",
    "* Site Permit                               0.973057\n",
    "* Structural Notification                   0.965199\n",
    "* Fire Only Permit                          0.905344\n",
    "* Unit                                      0.851790\n",
    "* Completed Date                            0.511357\n",
    "\n",
    "Wir betrachten diese erstmal genauer:"
   ]
  },
  {
   "cell_type": "markdown",
   "metadata": {},
   "source": [
    "### Entschluss - Einfügen Y/N Spalten\n",
    "\n",
    "Wir haben uns darauf geeinigt, dass wir den Großteil der Spalten aufgrundd der fehlenden Werte ignorieren und bei Voluntary Soft-Story Retrofit, Site Permit und Fire Only Permit bei allen fehlenden Werten ein N (No) eintragen, da dies nur Y/N Spalten sind. Somit füllen wir die \"fehlenden\" Werte auf und können diese für die Prediction verwenden."
   ]
  },
  {
   "cell_type": "code",
   "execution_count": 683,
   "metadata": {},
   "outputs": [
    {
     "data": {
      "text/plain": [
       "Y    35\n",
       "Name: Voluntary Soft-Story Retrofit, dtype: int64"
      ]
     },
     "execution_count": 683,
     "metadata": {},
     "output_type": "execute_result"
    }
   ],
   "source": [
    "#Welche Werte kommen in der Spalte vor?\n",
    "building_df['Voluntary Soft-Story Retrofit'].value_counts()\n"
   ]
  },
  {
   "cell_type": "code",
   "execution_count": 684,
   "metadata": {},
   "outputs": [
    {
     "data": {
      "text/plain": [
       "Y    5359\n",
       "Name: Site Permit, dtype: int64"
      ]
     },
     "execution_count": 684,
     "metadata": {},
     "output_type": "execute_result"
    }
   ],
   "source": [
    "building_df['Site Permit'].value_counts()\n"
   ]
  },
  {
   "cell_type": "code",
   "execution_count": 685,
   "metadata": {},
   "outputs": [
    {
     "data": {
      "text/plain": [
       "Y    18827\n",
       "Name: Fire Only Permit, dtype: int64"
      ]
     },
     "execution_count": 685,
     "metadata": {},
     "output_type": "execute_result"
    }
   ],
   "source": [
    "building_df['Fire Only Permit'].value_counts()"
   ]
  },
  {
   "cell_type": "code",
   "execution_count": 686,
   "metadata": {},
   "outputs": [],
   "source": [
    "# Die Spalte besteht nur aus Y oder kein Y, daher fügen wir bei keinem Y einfach ein N hinzu.  \n",
    "building_df['Voluntary Soft-Story Retrofit'] = np.where(building_df['Voluntary Soft-Story Retrofit']=='Y', 'Y', 'N')\n",
    "building_df['Site Permit'] = np.where(building_df['Site Permit']=='Y', 'Y', 'N')\n",
    "building_df['Fire Only Permit'] = np.where(building_df['Fire Only Permit']=='Y', 'Y', 'N')"
   ]
  },
  {
   "cell_type": "code",
   "execution_count": 687,
   "metadata": {},
   "outputs": [
    {
     "data": {
      "text/plain": [
       "N    180073\n",
       "Y     18827\n",
       "Name: Fire Only Permit, dtype: int64"
      ]
     },
     "execution_count": 687,
     "metadata": {},
     "output_type": "execute_result"
    }
   ],
   "source": [
    "# hat geklappt\n",
    "building_df['Fire Only Permit'].value_counts()"
   ]
  },
  {
   "cell_type": "markdown",
   "metadata": {},
   "source": [
    "### Ergebnis\n",
    "\n",
    "Wie man sieht, fehlen jetzt keine Werte mehr in den oben behandelten Spalten: "
   ]
  },
  {
   "cell_type": "code",
   "execution_count": 688,
   "metadata": {},
   "outputs": [
    {
     "data": {
      "text/plain": [
       "TIDF Compliance                           0.999990\n",
       "Unit Suffix                               0.990141\n",
       "Street Number Suffix                      0.988859\n",
       "Structural Notification                   0.965199\n",
       "Unit                                      0.851790\n",
       "Completed Date                            0.511357\n",
       "Permit Expiration Date                    0.260835\n",
       "Existing Units                            0.259115\n",
       "Proposed Units                            0.255963\n",
       "Existing Construction Type Description    0.218029\n",
       "Existing Construction Type                0.218029\n",
       "Proposed Construction Type                0.217004\n",
       "Proposed Construction Type Description    0.217004\n",
       "Number of Proposed Stories                0.215525\n",
       "Number of Existing Stories                0.215103\n",
       "Proposed Use                              0.213369\n",
       "Existing Use                              0.206707\n",
       "Estimated Cost                            0.191383\n",
       "Plansets                                  0.187577\n",
       "First Construction Document Date          0.075143\n",
       "Issued Date                               0.075113\n",
       "Revised Cost                              0.030498\n",
       "Street Suffix                             0.013917\n",
       "Neighborhoods - Analysis Boundaries       0.008673\n",
       "Supervisor District                       0.008632\n",
       "Zipcode                                   0.008627\n",
       "Location                                  0.008547\n",
       "Description                               0.001458\n",
       "Permit Type Definition                    0.000000\n",
       "Permit Creation Date                      0.000000\n",
       "Permit Type                               0.000000\n",
       "Block                                     0.000000\n",
       "Lot                                       0.000000\n",
       "Street Number                             0.000000\n",
       "Record ID                                 0.000000\n",
       "Street Name                               0.000000\n",
       "Current Status                            0.000000\n",
       "Current Status Date                       0.000000\n",
       "Filed Date                                0.000000\n",
       "Voluntary Soft-Story Retrofit             0.000000\n",
       "Fire Only Permit                          0.000000\n",
       "Site Permit                               0.000000\n",
       "Permit Number                             0.000000\n",
       "dtype: float64"
      ]
     },
     "execution_count": 688,
     "metadata": {},
     "output_type": "execute_result"
    }
   ],
   "source": [
    "sums = building_df.isnull().sum()\n",
    "missing_percent = (sums/building_df.shape[0]).sort_values(ascending=False)\n",
    "missing_percent"
   ]
  },
  {
   "cell_type": "markdown",
   "metadata": {},
   "source": [
    "Als nächsten werden folgenderestlichen Spalten behandelt:\n",
    "\n",
    "* TIDF Compliance                           100.00\n",
    "* Unit Suffix                                99.01\n",
    "* Street Number Suffix                       98.89\n",
    "* Structural Notification                    96.52\n",
    "* Unit                                       85.18\n",
    "* Completed Date                             51.14\n",
    "\n",
    "### Ignorieren der Spalten mit vielen fehlenden Werten\n",
    "\n",
    "Da eine rekonstruktion bzw. Imputation zu aufwändig ist bzw. dafür auch zu viele Daten fehlen ( >50%) werden wir die oben aufgezählten Spalten ignorieren. Nach unsrerem Verständnis ergbit es hier auch keine Sinn, dass wir anhand von bspw. der Street Number Suffix etwas vorhersagen."
   ]
  },
  {
   "cell_type": "code",
   "execution_count": 689,
   "metadata": {},
   "outputs": [],
   "source": [
    "def drop_column(column_name):\n",
    "    building_df.drop(column_name, axis=1, inplace=True)\n",
    "for i in range(len(missing_percent)):\n",
    "    if ( missing_percent[i] > 0.5):\n",
    "        drop_column(missing_percent.index[i])\n",
    "    else:\n",
    "        break"
   ]
  },
  {
   "cell_type": "markdown",
   "metadata": {},
   "source": [
    "Wie wir sehen können, wurden die entsprechenden Spalten gelöscht."
   ]
  },
  {
   "cell_type": "code",
   "execution_count": 690,
   "metadata": {},
   "outputs": [
    {
     "data": {
      "text/plain": [
       "Permit Expiration Date                    0.260835\n",
       "Existing Units                            0.259115\n",
       "Proposed Units                            0.255963\n",
       "Existing Construction Type Description    0.218029\n",
       "Existing Construction Type                0.218029\n",
       "Proposed Construction Type Description    0.217004\n",
       "Proposed Construction Type                0.217004\n",
       "Number of Proposed Stories                0.215525\n",
       "Number of Existing Stories                0.215103\n",
       "Proposed Use                              0.213369\n",
       "Existing Use                              0.206707\n",
       "Estimated Cost                            0.191383\n",
       "Plansets                                  0.187577\n",
       "First Construction Document Date          0.075143\n",
       "Issued Date                               0.075113\n",
       "Revised Cost                              0.030498\n",
       "Street Suffix                             0.013917\n",
       "Neighborhoods - Analysis Boundaries       0.008673\n",
       "Supervisor District                       0.008632\n",
       "Zipcode                                   0.008627\n",
       "Location                                  0.008547\n",
       "Description                               0.001458\n",
       "Street Number                             0.000000\n",
       "Permit Type Definition                    0.000000\n",
       "Permit Type                               0.000000\n",
       "Permit Creation Date                      0.000000\n",
       "Block                                     0.000000\n",
       "Lot                                       0.000000\n",
       "Record ID                                 0.000000\n",
       "Fire Only Permit                          0.000000\n",
       "Street Name                               0.000000\n",
       "Current Status                            0.000000\n",
       "Current Status Date                       0.000000\n",
       "Filed Date                                0.000000\n",
       "Voluntary Soft-Story Retrofit             0.000000\n",
       "Site Permit                               0.000000\n",
       "Permit Number                             0.000000\n",
       "dtype: float64"
      ]
     },
     "execution_count": 690,
     "metadata": {},
     "output_type": "execute_result"
    }
   ],
   "source": [
    "sums = building_df.isnull().sum()\n",
    "missing_percent = (sums/building_df.shape[0]).sort_values(ascending=False)\n",
    "missing_percent"
   ]
  },
  {
   "cell_type": "markdown",
   "metadata": {},
   "source": [
    "Nach der Behandlung der Daten fehlen nur noch knapp 8,4 % der Daten"
   ]
  },
  {
   "cell_type": "code",
   "execution_count": 691,
   "metadata": {},
   "outputs": [
    {
     "data": {
      "text/plain": [
       "8.39526857173916"
      ]
     },
     "execution_count": 691,
     "metadata": {},
     "output_type": "execute_result"
    }
   ],
   "source": [
    "# total number of cells \n",
    "total_cells = np.product(building_df.shape)\n",
    "# total missing values \n",
    "missing_values = building_df.isnull().sum()\n",
    "total_missing_values = missing_values.sum()\n",
    "\n",
    "# percentage of nan or None cells \n",
    "nan_or_null_cell_percentage = (total_missing_values/total_cells)*100\n",
    "nan_or_null_cell_percentage"
   ]
  },
  {
   "cell_type": "markdown",
   "metadata": {},
   "source": [
    "### Beschreibenden Spalten ignorieren\n",
    "\n",
    "Nachdem wir die Spalten mit den meistfehlenden Einträgen behandelt haben, schauen wir uns den restlichen Datensatz an. Wir können hier erkennen, dass es einige Spalten gibt, die andere wiederum  beschreiben.\n",
    "\n",
    "Permit Type - Permit Type Definition\n",
    "\n",
    "Wir haben uns entschieden, die Spalte rauszuschmeißen, welche eine numerische Spalte beschreibt.\n",
    "\n",
    "Außerdem ignorieren wir Record ID, da es einfach zu viele Werte enthält um es zu kategorisieren."
   ]
  },
  {
   "cell_type": "code",
   "execution_count": 692,
   "metadata": {},
   "outputs": [],
   "source": [
    "unuseful_columns = ['Record ID', 'Description', 'Permit Type Definition', 'Existing Construction Type Description', 'Proposed Construction Type Description']\n",
    "building_df.drop(unuseful_columns, axis=1, inplace=True)\n"
   ]
  },
  {
   "cell_type": "code",
   "execution_count": 693,
   "metadata": {},
   "outputs": [
    {
     "data": {
      "text/plain": [
       "Permit Expiration Date                 0.260835\n",
       "Existing Units                         0.259115\n",
       "Proposed Units                         0.255963\n",
       "Existing Construction Type             0.218029\n",
       "Proposed Construction Type             0.217004\n",
       "Number of Proposed Stories             0.215525\n",
       "Number of Existing Stories             0.215103\n",
       "Proposed Use                           0.213369\n",
       "Existing Use                           0.206707\n",
       "Estimated Cost                         0.191383\n",
       "Plansets                               0.187577\n",
       "First Construction Document Date       0.075143\n",
       "Issued Date                            0.075113\n",
       "Revised Cost                           0.030498\n",
       "Street Suffix                          0.013917\n",
       "Neighborhoods - Analysis Boundaries    0.008673\n",
       "Supervisor District                    0.008632\n",
       "Zipcode                                0.008627\n",
       "Location                               0.008547\n",
       "Permit Creation Date                   0.000000\n",
       "Street Name                            0.000000\n",
       "Permit Type                            0.000000\n",
       "Block                                  0.000000\n",
       "Lot                                    0.000000\n",
       "Street Number                          0.000000\n",
       "Voluntary Soft-Story Retrofit          0.000000\n",
       "Current Status                         0.000000\n",
       "Current Status Date                    0.000000\n",
       "Filed Date                             0.000000\n",
       "Fire Only Permit                       0.000000\n",
       "Site Permit                            0.000000\n",
       "Permit Number                          0.000000\n",
       "dtype: float64"
      ]
     },
     "execution_count": 693,
     "metadata": {},
     "output_type": "execute_result"
    }
   ],
   "source": [
    "sums = building_df.isnull().sum()\n",
    "missing_percent = (sums/building_df.shape[0]).sort_values(ascending=False)\n",
    "missing_percent"
   ]
  },
  {
   "cell_type": "markdown",
   "metadata": {},
   "source": [
    "### Logischer Zusammenhang zw. Proposed Spalten und Existing Spalten\n",
    "\n",
    "Wir haben uns den Datensatz mal genauer angeschaut und fest gestellt, dass bei vielen Tupeln, die Einträge bei Proposed Spalten und Existing Spalten identisch sind (immer über ca. 75%). Die Zahlen sollten nicht zu unterschiedlich sein es könnte möglich sein, dass die'Existing'-Spalten für Baugenehmigungen wichtiger sind. \n",
    "\n"
   ]
  },
  {
   "cell_type": "code",
   "execution_count": 694,
   "metadata": {},
   "outputs": [
    {
     "data": {
      "text/plain": [
       "0.7422976370035194"
      ]
     },
     "execution_count": 694,
     "metadata": {},
     "output_type": "execute_result"
    }
   ],
   "source": [
    "(building_df['Existing Use'] == building_df['Proposed Use']).sum() / len(building_df['Proposed Use'])"
   ]
  },
  {
   "cell_type": "code",
   "execution_count": 695,
   "metadata": {},
   "outputs": [
    {
     "data": {
      "text/plain": [
       "0.7635796882855707"
      ]
     },
     "execution_count": 695,
     "metadata": {},
     "output_type": "execute_result"
    }
   ],
   "source": [
    "(building_df['Existing Construction Type'] == building_df['Proposed Construction Type']).sum() / len(building_df['Proposed Construction Type'])"
   ]
  },
  {
   "cell_type": "code",
   "execution_count": 696,
   "metadata": {},
   "outputs": [
    {
     "data": {
      "text/plain": [
       "0.969502262443439"
      ]
     },
     "execution_count": 696,
     "metadata": {},
     "output_type": "execute_result"
    }
   ],
   "source": [
    "(building_df['Revised Cost'] == building_df['Revised Cost']).sum() / len(building_df['Estimated Cost'])"
   ]
  },
  {
   "cell_type": "code",
   "execution_count": 697,
   "metadata": {},
   "outputs": [
    {
     "data": {
      "text/plain": [
       "0.7525641025641026"
      ]
     },
     "execution_count": 697,
     "metadata": {},
     "output_type": "execute_result"
    }
   ],
   "source": [
    "(building_df['Number of Existing Stories'] == building_df['Number of Proposed Stories']).sum() / len(building_df['Number of Proposed Stories'])"
   ]
  },
  {
   "cell_type": "code",
   "execution_count": 698,
   "metadata": {},
   "outputs": [
    {
     "data": {
      "text/plain": [
       "0.7635796882855707"
      ]
     },
     "execution_count": 698,
     "metadata": {},
     "output_type": "execute_result"
    }
   ],
   "source": [
    "(building_df['Existing Construction Type'] == building_df['Proposed Construction Type']).sum() / len(building_df['Proposed Construction Type'])"
   ]
  },
  {
   "cell_type": "markdown",
   "metadata": {},
   "source": [
    "Wir haben uns dazu entschieden, die Werte aus den Proposed (und Revised) Spalten in die Estimated Spalten zu übernehmen\n"
   ]
  },
  {
   "cell_type": "code",
   "execution_count": 599,
   "metadata": {},
   "outputs": [],
   "source": [
    "building_df['Existing Use'].fillna(building_df['Proposed Use'], inplace=True)\n",
    "building_df['Revised Cost'].fillna(building_df['Estimated Cost'], inplace=True)\n",
    "building_df['Existing Units'].fillna(building_df['Proposed Units'], inplace=True)\n",
    "building_df['Number of Existing Stories'].fillna(building_df['Number of Proposed Stories'], inplace=True)\n",
    "building_df['Existing Construction Type'].fillna(building_df['Proposed Construction Type'], inplace=True)"
   ]
  },
  {
   "cell_type": "code",
   "execution_count": 699,
   "metadata": {},
   "outputs": [
    {
     "data": {
      "text/plain": [
       "Permit Expiration Date                 0.260835\n",
       "Existing Units                         0.259115\n",
       "Proposed Units                         0.255963\n",
       "Existing Construction Type             0.218029\n",
       "Proposed Construction Type             0.217004\n",
       "Number of Proposed Stories             0.215525\n",
       "Number of Existing Stories             0.215103\n",
       "Proposed Use                           0.213369\n",
       "Existing Use                           0.206707\n",
       "Estimated Cost                         0.191383\n",
       "Plansets                               0.187577\n",
       "First Construction Document Date       0.075143\n",
       "Issued Date                            0.075113\n",
       "Revised Cost                           0.030498\n",
       "Street Suffix                          0.013917\n",
       "Neighborhoods - Analysis Boundaries    0.008673\n",
       "Supervisor District                    0.008632\n",
       "Zipcode                                0.008627\n",
       "Location                               0.008547\n",
       "Permit Creation Date                   0.000000\n",
       "Street Name                            0.000000\n",
       "Permit Type                            0.000000\n",
       "Block                                  0.000000\n",
       "Lot                                    0.000000\n",
       "Street Number                          0.000000\n",
       "Voluntary Soft-Story Retrofit          0.000000\n",
       "Current Status                         0.000000\n",
       "Current Status Date                    0.000000\n",
       "Filed Date                             0.000000\n",
       "Fire Only Permit                       0.000000\n",
       "Site Permit                            0.000000\n",
       "Permit Number                          0.000000\n",
       "dtype: float64"
      ]
     },
     "execution_count": 699,
     "metadata": {},
     "output_type": "execute_result"
    }
   ],
   "source": [
    "sums = building_df.isnull().sum()\n",
    "missing_percent = (sums/building_df.shape[0]).sort_values(ascending=False)\n",
    "missing_percent"
   ]
  },
  {
   "cell_type": "markdown",
   "metadata": {},
   "source": [
    "### Datum anpassen, neue Spaltenaufteilung und alte Datumspalten entfernen\n",
    "\n",
    "da die Daten in der jeweiligen spalte auch in verschiedenen Formaten existieren, haben wir uns dazu entschieden, die Spalten aufzubrechen in einzelne Tag, Monat und Jahre Spalte und die ursprüngliche Spalte zu entfernen "
   ]
  },
  {
   "cell_type": "code",
   "execution_count": 700,
   "metadata": {},
   "outputs": [],
   "source": [
    "date_columns = [\n",
    "    'Permit Creation Date',\n",
    "    'Current Status Date',\n",
    "    'Filed Date',\n",
    "    'Issued Date',\n",
    "    'First Construction Document Date',\n",
    "    'Permit Expiration Date'\n",
    "]"
   ]
  },
  {
   "cell_type": "code",
   "execution_count": 701,
   "metadata": {},
   "outputs": [],
   "source": [
    "def split_dates(column_name):\n",
    "    name = column_name[0:-4]\n",
    "    building_df[name+'Year'] = building_df[column_name].astype(str).str[-4:]\n",
    "    building_df[name+'Year'] = pd.to_numeric(building_df[name+'Year'], errors='coerce')\n",
    "    building_df[name+'Day'] = building_df[column_name].astype(str).str[3:5]\n",
    "    building_df[name+'Day'] = pd.to_numeric(building_df[name+'Day'], errors='coerce')\n",
    "    building_df[name+'Month'] = building_df[column_name].astype(str).str[0:2]\n",
    "    building_df[name+'Month'] = pd.to_numeric(building_df[name+'Month'], errors='coerce')\n",
    "for i in date_columns:\n",
    "    split_dates(i)"
   ]
  },
  {
   "cell_type": "code",
   "execution_count": 702,
   "metadata": {},
   "outputs": [
    {
     "data": {
      "text/plain": [
       "Index(['Permit Number', 'Permit Type', 'Permit Creation Date', 'Block', 'Lot',\n",
       "       'Street Number', 'Street Name', 'Street Suffix', 'Current Status',\n",
       "       'Current Status Date', 'Filed Date', 'Issued Date',\n",
       "       'First Construction Document Date', 'Number of Existing Stories',\n",
       "       'Number of Proposed Stories', 'Voluntary Soft-Story Retrofit',\n",
       "       'Fire Only Permit', 'Permit Expiration Date', 'Estimated Cost',\n",
       "       'Revised Cost', 'Existing Use', 'Existing Units', 'Proposed Use',\n",
       "       'Proposed Units', 'Plansets', 'Existing Construction Type',\n",
       "       'Proposed Construction Type', 'Site Permit', 'Supervisor District',\n",
       "       'Neighborhoods - Analysis Boundaries', 'Zipcode', 'Location',\n",
       "       'Permit Creation Year', 'Permit Creation Day', 'Permit Creation Month',\n",
       "       'Current Status Year', 'Current Status Day', 'Current Status Month',\n",
       "       'Filed Year', 'Filed Day', 'Filed Month', 'Issued Year', 'Issued Day',\n",
       "       'Issued Month', 'First Construction Document Year',\n",
       "       'First Construction Document Day', 'First Construction Document Month',\n",
       "       'Permit Expiration Year', 'Permit Expiration Day',\n",
       "       'Permit Expiration Month'],\n",
       "      dtype='object')"
      ]
     },
     "execution_count": 702,
     "metadata": {},
     "output_type": "execute_result"
    }
   ],
   "source": [
    "building_df.columns"
   ]
  },
  {
   "cell_type": "code",
   "execution_count": 703,
   "metadata": {},
   "outputs": [],
   "source": [
    "for i in date_columns:\n",
    "    drop_column(i)"
   ]
  },
  {
   "cell_type": "code",
   "execution_count": 704,
   "metadata": {},
   "outputs": [
    {
     "data": {
      "text/plain": [
       "Index(['Permit Number', 'Permit Type', 'Block', 'Lot', 'Street Number',\n",
       "       'Street Name', 'Street Suffix', 'Current Status',\n",
       "       'Number of Existing Stories', 'Number of Proposed Stories',\n",
       "       'Voluntary Soft-Story Retrofit', 'Fire Only Permit', 'Estimated Cost',\n",
       "       'Revised Cost', 'Existing Use', 'Existing Units', 'Proposed Use',\n",
       "       'Proposed Units', 'Plansets', 'Existing Construction Type',\n",
       "       'Proposed Construction Type', 'Site Permit', 'Supervisor District',\n",
       "       'Neighborhoods - Analysis Boundaries', 'Zipcode', 'Location',\n",
       "       'Permit Creation Year', 'Permit Creation Day', 'Permit Creation Month',\n",
       "       'Current Status Year', 'Current Status Day', 'Current Status Month',\n",
       "       'Filed Year', 'Filed Day', 'Filed Month', 'Issued Year', 'Issued Day',\n",
       "       'Issued Month', 'First Construction Document Year',\n",
       "       'First Construction Document Day', 'First Construction Document Month',\n",
       "       'Permit Expiration Year', 'Permit Expiration Day',\n",
       "       'Permit Expiration Month'],\n",
       "      dtype='object')"
      ]
     },
     "execution_count": 704,
     "metadata": {},
     "output_type": "execute_result"
    }
   ],
   "source": [
    "building_df.columns"
   ]
  },
  {
   "cell_type": "code",
   "execution_count": 705,
   "metadata": {},
   "outputs": [
    {
     "data": {
      "text/plain": [
       "Permit Expiration Month                0.260835\n",
       "Permit Expiration Year                 0.260835\n",
       "Permit Expiration Day                  0.260835\n",
       "Existing Units                         0.259115\n",
       "Proposed Units                         0.255963\n",
       "Existing Construction Type             0.218029\n",
       "Proposed Construction Type             0.217004\n",
       "Number of Proposed Stories             0.215525\n",
       "Number of Existing Stories             0.215103\n",
       "Proposed Use                           0.213369\n",
       "Existing Use                           0.206707\n",
       "Estimated Cost                         0.191383\n",
       "Plansets                               0.187577\n",
       "First Construction Document Month      0.075143\n",
       "First Construction Document Day        0.075143\n",
       "First Construction Document Year       0.075143\n",
       "Issued Day                             0.075113\n",
       "Issued Year                            0.075113\n",
       "Issued Month                           0.075113\n",
       "Revised Cost                           0.030498\n",
       "Street Suffix                          0.013917\n",
       "Neighborhoods - Analysis Boundaries    0.008673\n",
       "Supervisor District                    0.008632\n",
       "Zipcode                                0.008627\n",
       "Location                               0.008547\n",
       "Block                                  0.000000\n",
       "Voluntary Soft-Story Retrofit          0.000000\n",
       "Current Status                         0.000000\n",
       "Street Name                            0.000000\n",
       "Street Number                          0.000000\n",
       "Lot                                    0.000000\n",
       "Permit Type                            0.000000\n",
       "Site Permit                            0.000000\n",
       "Fire Only Permit                       0.000000\n",
       "Permit Creation Year                   0.000000\n",
       "Permit Creation Day                    0.000000\n",
       "Permit Creation Month                  0.000000\n",
       "Current Status Year                    0.000000\n",
       "Current Status Day                     0.000000\n",
       "Current Status Month                   0.000000\n",
       "Filed Year                             0.000000\n",
       "Filed Day                              0.000000\n",
       "Filed Month                            0.000000\n",
       "Permit Number                          0.000000\n",
       "dtype: float64"
      ]
     },
     "execution_count": 705,
     "metadata": {},
     "output_type": "execute_result"
    }
   ],
   "source": [
    "sums = building_df.isnull().sum()\n",
    "missing_percent = (sums/building_df.shape[0]).sort_values(ascending=False)\n",
    "missing_percent"
   ]
  },
  {
   "cell_type": "markdown",
   "metadata": {},
   "source": [
    "### Welche Spalten sind für die Vorhersage (logisch) sinnvoll und welche nicht?\n",
    "\n",
    "Nachdem wir schon einige Spalten behandelt haben, haben wir uns überlegt, welche Spalten wir in diesem schon gesäuberten Datensatz behalten, und welche wir vor nicht sinnvoll halten. \n",
    "\n",
    "Hier eine Übersicht:\n",
    "\n",
    "* Location - Die Location ist nur ein Geokoordinate, das keinen Nutzen  ohne die Zonen hat (zu komplex für diesen Zweck und die Postleitzahl ist besser dafür).\n",
    "* Proposed Use - nutzen hier Existing Use\n",
    "* Estimated Cost  - nutzen hier revised Cost\n",
    "* Proposed Units - nutzen hier Estimated Unit\n",
    "* Number of Proposed Stories - nutzen hier Number of Estimated Stories\n",
    "* Proposed Construction Type - nutzen hier Estimated Construction Type\n",
    "* Street Number - wir ignorieren die Hausnummer , weil sie kategorisch ist, aber zu viele Kategorien hat und keinen Einfluss auf die Baugenehmigung hat (sollte nicht). \n",
    "* Block - tdie Adresse liefert keine guten Daten für Baugenehmigungen und kann nicht verwendet werden. \n",
    "* Lot \n",
    "* Street Suffix -  hat keinen Einfluss auf die Baugenehmigung  (sollte nicht). \n",
    "* Permit Number - nur eine Zahl, zu viele Kategorien "
   ]
  },
  {
   "cell_type": "code",
   "execution_count": 706,
   "metadata": {},
   "outputs": [
    {
     "data": {
      "text/plain": [
       "1704"
      ]
     },
     "execution_count": 706,
     "metadata": {},
     "output_type": "execute_result"
    }
   ],
   "source": [
    "len(building_df['Street Name'].unique())"
   ]
  },
  {
   "cell_type": "code",
   "execution_count": 707,
   "metadata": {},
   "outputs": [],
   "source": [
    "columns_to_drop = ['Location', \n",
    "                   'Proposed Use',\n",
    "                   'Estimated Cost',\n",
    "                   'Proposed Units',\n",
    "                   'Number of Proposed Stories',\n",
    "                   'Proposed Construction Type',\n",
    "                   'Street Number', \n",
    "                   'Block', \n",
    "                   'Lot',\n",
    "                   'Street Suffix',\n",
    "                   'Permit Number', \n",
    "                  ]"
   ]
  },
  {
   "cell_type": "code",
   "execution_count": 708,
   "metadata": {},
   "outputs": [],
   "source": [
    "for i in columns_to_drop:\n",
    "    drop_column(i)"
   ]
  },
  {
   "cell_type": "code",
   "execution_count": 709,
   "metadata": {},
   "outputs": [
    {
     "data": {
      "text/plain": [
       "(198900, 33)"
      ]
     },
     "execution_count": 709,
     "metadata": {},
     "output_type": "execute_result"
    }
   ],
   "source": [
    "building_df.shape"
   ]
  },
  {
   "cell_type": "code",
   "execution_count": 710,
   "metadata": {},
   "outputs": [
    {
     "data": {
      "text/plain": [
       "Permit Expiration Month                0.260835\n",
       "Permit Expiration Year                 0.260835\n",
       "Permit Expiration Day                  0.260835\n",
       "Existing Units                         0.259115\n",
       "Existing Construction Type             0.218029\n",
       "Number of Existing Stories             0.215103\n",
       "Existing Use                           0.206707\n",
       "Plansets                               0.187577\n",
       "First Construction Document Year       0.075143\n",
       "First Construction Document Day        0.075143\n",
       "First Construction Document Month      0.075143\n",
       "Issued Month                           0.075113\n",
       "Issued Day                             0.075113\n",
       "Issued Year                            0.075113\n",
       "Revised Cost                           0.030498\n",
       "Neighborhoods - Analysis Boundaries    0.008673\n",
       "Supervisor District                    0.008632\n",
       "Zipcode                                0.008627\n",
       "Street Name                            0.000000\n",
       "Current Status                         0.000000\n",
       "Voluntary Soft-Story Retrofit          0.000000\n",
       "Fire Only Permit                       0.000000\n",
       "Permit Creation Day                    0.000000\n",
       "Site Permit                            0.000000\n",
       "Permit Creation Year                   0.000000\n",
       "Permit Creation Month                  0.000000\n",
       "Current Status Year                    0.000000\n",
       "Current Status Day                     0.000000\n",
       "Current Status Month                   0.000000\n",
       "Filed Year                             0.000000\n",
       "Filed Day                              0.000000\n",
       "Filed Month                            0.000000\n",
       "Permit Type                            0.000000\n",
       "dtype: float64"
      ]
     },
     "execution_count": 710,
     "metadata": {},
     "output_type": "execute_result"
    }
   ],
   "source": [
    "sums = building_df.isnull().sum()\n",
    "missing_percent = (sums/building_df.shape[0]).sort_values(ascending=False)\n",
    "missing_percent"
   ]
  },
  {
   "cell_type": "markdown",
   "metadata": {},
   "source": [
    "# Imputations\n",
    "\n",
    "\n",
    "Damit man später weiß, welche Werte imputiert/nachberechnet wurden. fügen wir für jede Spalte eine zusätzliche Spalte hinzu, deren fehlende Werte anzeigen, ob dieser Wert berechnet wurde oder nicht. "
   ]
  },
  {
   "cell_type": "code",
   "execution_count": 711,
   "metadata": {},
   "outputs": [],
   "source": [
    "imputed = building_df.copy()\n",
    "cols_with_missing = (col for col in building_df.columns \n",
    "                                 if building_df[col].isnull().any())\n",
    "for col in cols_with_missing:\n",
    "    imputed[col + '_was_missing'] = imputed[col].isnull()"
   ]
  },
  {
   "cell_type": "code",
   "execution_count": 712,
   "metadata": {},
   "outputs": [
    {
     "data": {
      "text/html": [
       "<div>\n",
       "<style scoped>\n",
       "    .dataframe tbody tr th:only-of-type {\n",
       "        vertical-align: middle;\n",
       "    }\n",
       "\n",
       "    .dataframe tbody tr th {\n",
       "        vertical-align: top;\n",
       "    }\n",
       "\n",
       "    .dataframe thead th {\n",
       "        text-align: right;\n",
       "    }\n",
       "</style>\n",
       "<table border=\"1\" class=\"dataframe\">\n",
       "  <thead>\n",
       "    <tr style=\"text-align: right;\">\n",
       "      <th></th>\n",
       "      <th>Permit Type</th>\n",
       "      <th>Street Name</th>\n",
       "      <th>Current Status</th>\n",
       "      <th>Number of Existing Stories</th>\n",
       "      <th>Voluntary Soft-Story Retrofit</th>\n",
       "      <th>Fire Only Permit</th>\n",
       "      <th>Revised Cost</th>\n",
       "      <th>Existing Use</th>\n",
       "      <th>Existing Units</th>\n",
       "      <th>Plansets</th>\n",
       "      <th>...</th>\n",
       "      <th>Zipcode_was_missing</th>\n",
       "      <th>Issued Year_was_missing</th>\n",
       "      <th>Issued Day_was_missing</th>\n",
       "      <th>Issued Month_was_missing</th>\n",
       "      <th>First Construction Document Year_was_missing</th>\n",
       "      <th>First Construction Document Day_was_missing</th>\n",
       "      <th>First Construction Document Month_was_missing</th>\n",
       "      <th>Permit Expiration Year_was_missing</th>\n",
       "      <th>Permit Expiration Day_was_missing</th>\n",
       "      <th>Permit Expiration Month_was_missing</th>\n",
       "    </tr>\n",
       "  </thead>\n",
       "  <tbody>\n",
       "    <tr>\n",
       "      <th>0</th>\n",
       "      <td>4</td>\n",
       "      <td>Ellis</td>\n",
       "      <td>expired</td>\n",
       "      <td>6.0</td>\n",
       "      <td>N</td>\n",
       "      <td>N</td>\n",
       "      <td>4000.0</td>\n",
       "      <td>tourist hotel/motel</td>\n",
       "      <td>143.0</td>\n",
       "      <td>2.0</td>\n",
       "      <td>...</td>\n",
       "      <td>False</td>\n",
       "      <td>False</td>\n",
       "      <td>False</td>\n",
       "      <td>False</td>\n",
       "      <td>False</td>\n",
       "      <td>False</td>\n",
       "      <td>False</td>\n",
       "      <td>False</td>\n",
       "      <td>False</td>\n",
       "      <td>False</td>\n",
       "    </tr>\n",
       "    <tr>\n",
       "      <th>1</th>\n",
       "      <td>4</td>\n",
       "      <td>Geary</td>\n",
       "      <td>issued</td>\n",
       "      <td>7.0</td>\n",
       "      <td>N</td>\n",
       "      <td>N</td>\n",
       "      <td>500.0</td>\n",
       "      <td>tourist hotel/motel</td>\n",
       "      <td>NaN</td>\n",
       "      <td>2.0</td>\n",
       "      <td>...</td>\n",
       "      <td>False</td>\n",
       "      <td>False</td>\n",
       "      <td>False</td>\n",
       "      <td>False</td>\n",
       "      <td>False</td>\n",
       "      <td>False</td>\n",
       "      <td>False</td>\n",
       "      <td>False</td>\n",
       "      <td>False</td>\n",
       "      <td>False</td>\n",
       "    </tr>\n",
       "    <tr>\n",
       "      <th>2</th>\n",
       "      <td>3</td>\n",
       "      <td>Pacific</td>\n",
       "      <td>withdrawn</td>\n",
       "      <td>6.0</td>\n",
       "      <td>N</td>\n",
       "      <td>N</td>\n",
       "      <td>NaN</td>\n",
       "      <td>retail sales</td>\n",
       "      <td>39.0</td>\n",
       "      <td>2.0</td>\n",
       "      <td>...</td>\n",
       "      <td>False</td>\n",
       "      <td>True</td>\n",
       "      <td>True</td>\n",
       "      <td>True</td>\n",
       "      <td>True</td>\n",
       "      <td>True</td>\n",
       "      <td>True</td>\n",
       "      <td>True</td>\n",
       "      <td>True</td>\n",
       "      <td>True</td>\n",
       "    </tr>\n",
       "    <tr>\n",
       "      <th>3</th>\n",
       "      <td>8</td>\n",
       "      <td>Pacific</td>\n",
       "      <td>complete</td>\n",
       "      <td>2.0</td>\n",
       "      <td>N</td>\n",
       "      <td>N</td>\n",
       "      <td>2000.0</td>\n",
       "      <td>1 family dwelling</td>\n",
       "      <td>1.0</td>\n",
       "      <td>2.0</td>\n",
       "      <td>...</td>\n",
       "      <td>False</td>\n",
       "      <td>False</td>\n",
       "      <td>False</td>\n",
       "      <td>False</td>\n",
       "      <td>False</td>\n",
       "      <td>False</td>\n",
       "      <td>False</td>\n",
       "      <td>False</td>\n",
       "      <td>False</td>\n",
       "      <td>False</td>\n",
       "    </tr>\n",
       "    <tr>\n",
       "      <th>4</th>\n",
       "      <td>6</td>\n",
       "      <td>Market</td>\n",
       "      <td>issued</td>\n",
       "      <td>3.0</td>\n",
       "      <td>N</td>\n",
       "      <td>N</td>\n",
       "      <td>100000.0</td>\n",
       "      <td>retail sales</td>\n",
       "      <td>NaN</td>\n",
       "      <td>2.0</td>\n",
       "      <td>...</td>\n",
       "      <td>False</td>\n",
       "      <td>False</td>\n",
       "      <td>False</td>\n",
       "      <td>False</td>\n",
       "      <td>False</td>\n",
       "      <td>False</td>\n",
       "      <td>False</td>\n",
       "      <td>False</td>\n",
       "      <td>False</td>\n",
       "      <td>False</td>\n",
       "    </tr>\n",
       "  </tbody>\n",
       "</table>\n",
       "<p>5 rows × 51 columns</p>\n",
       "</div>"
      ],
      "text/plain": [
       "   Permit Type Street Name Current Status  Number of Existing Stories  \\\n",
       "0            4       Ellis        expired                         6.0   \n",
       "1            4       Geary         issued                         7.0   \n",
       "2            3     Pacific      withdrawn                         6.0   \n",
       "3            8     Pacific       complete                         2.0   \n",
       "4            6      Market         issued                         3.0   \n",
       "\n",
       "  Voluntary Soft-Story Retrofit Fire Only Permit  Revised Cost  \\\n",
       "0                             N                N        4000.0   \n",
       "1                             N                N         500.0   \n",
       "2                             N                N           NaN   \n",
       "3                             N                N        2000.0   \n",
       "4                             N                N      100000.0   \n",
       "\n",
       "          Existing Use  Existing Units  Plansets  ...  Zipcode_was_missing  \\\n",
       "0  tourist hotel/motel           143.0       2.0  ...                False   \n",
       "1  tourist hotel/motel             NaN       2.0  ...                False   \n",
       "2         retail sales            39.0       2.0  ...                False   \n",
       "3    1 family dwelling             1.0       2.0  ...                False   \n",
       "4         retail sales             NaN       2.0  ...                False   \n",
       "\n",
       "  Issued Year_was_missing  Issued Day_was_missing Issued Month_was_missing  \\\n",
       "0                   False                   False                    False   \n",
       "1                   False                   False                    False   \n",
       "2                    True                    True                     True   \n",
       "3                   False                   False                    False   \n",
       "4                   False                   False                    False   \n",
       "\n",
       "   First Construction Document Year_was_missing  \\\n",
       "0                                         False   \n",
       "1                                         False   \n",
       "2                                          True   \n",
       "3                                         False   \n",
       "4                                         False   \n",
       "\n",
       "   First Construction Document Day_was_missing  \\\n",
       "0                                        False   \n",
       "1                                        False   \n",
       "2                                         True   \n",
       "3                                        False   \n",
       "4                                        False   \n",
       "\n",
       "   First Construction Document Month_was_missing  \\\n",
       "0                                          False   \n",
       "1                                          False   \n",
       "2                                           True   \n",
       "3                                          False   \n",
       "4                                          False   \n",
       "\n",
       "   Permit Expiration Year_was_missing  Permit Expiration Day_was_missing  \\\n",
       "0                               False                              False   \n",
       "1                               False                              False   \n",
       "2                                True                               True   \n",
       "3                               False                              False   \n",
       "4                               False                              False   \n",
       "\n",
       "   Permit Expiration Month_was_missing  \n",
       "0                                False  \n",
       "1                                False  \n",
       "2                                 True  \n",
       "3                                False  \n",
       "4                                False  \n",
       "\n",
       "[5 rows x 51 columns]"
      ]
     },
     "execution_count": 712,
     "metadata": {},
     "output_type": "execute_result"
    }
   ],
   "source": [
    "imputed.head(5)"
   ]
  },
  {
   "cell_type": "code",
   "execution_count": 713,
   "metadata": {},
   "outputs": [
    {
     "data": {
      "text/plain": [
       "Permit Expiration Month                            0.260835\n",
       "Permit Expiration Year                             0.260835\n",
       "Permit Expiration Day                              0.260835\n",
       "Existing Units                                     0.259115\n",
       "Existing Construction Type                         0.218029\n",
       "Number of Existing Stories                         0.215103\n",
       "Existing Use                                       0.206707\n",
       "Plansets                                           0.187577\n",
       "First Construction Document Year                   0.075143\n",
       "First Construction Document Day                    0.075143\n",
       "First Construction Document Month                  0.075143\n",
       "Issued Day                                         0.075113\n",
       "Issued Year                                        0.075113\n",
       "Issued Month                                       0.075113\n",
       "Revised Cost                                       0.030498\n",
       "Neighborhoods - Analysis Boundaries                0.008673\n",
       "Supervisor District                                0.008632\n",
       "Zipcode                                            0.008627\n",
       "Permit Creation Year                               0.000000\n",
       "Permit Creation Day                                0.000000\n",
       "Current Status Month                               0.000000\n",
       "Site Permit                                        0.000000\n",
       "Fire Only Permit                                   0.000000\n",
       "Voluntary Soft-Story Retrofit                      0.000000\n",
       "Current Status                                     0.000000\n",
       "Permit Creation Month                              0.000000\n",
       "Street Name                                        0.000000\n",
       "Current Status Year                                0.000000\n",
       "Current Status Day                                 0.000000\n",
       "Permit Expiration Month_was_missing                0.000000\n",
       "Filed Year                                         0.000000\n",
       "Neighborhoods - Analysis Boundaries_was_missing    0.000000\n",
       "Permit Expiration Year_was_missing                 0.000000\n",
       "First Construction Document Month_was_missing      0.000000\n",
       "First Construction Document Day_was_missing        0.000000\n",
       "First Construction Document Year_was_missing       0.000000\n",
       "Issued Month_was_missing                           0.000000\n",
       "Issued Day_was_missing                             0.000000\n",
       "Issued Year_was_missing                            0.000000\n",
       "Zipcode_was_missing                                0.000000\n",
       "Supervisor District_was_missing                    0.000000\n",
       "Filed Day                                          0.000000\n",
       "Existing Construction Type_was_missing             0.000000\n",
       "Plansets_was_missing                               0.000000\n",
       "Existing Units_was_missing                         0.000000\n",
       "Existing Use_was_missing                           0.000000\n",
       "Revised Cost_was_missing                           0.000000\n",
       "Number of Existing Stories_was_missing             0.000000\n",
       "Permit Expiration Day_was_missing                  0.000000\n",
       "Filed Month                                        0.000000\n",
       "Permit Type                                        0.000000\n",
       "dtype: float64"
      ]
     },
     "execution_count": 713,
     "metadata": {},
     "output_type": "execute_result"
    }
   ],
   "source": [
    "sums = imputed.isnull().sum()\n",
    "missing_percent = (sums/imputed.shape[0]).sort_values(ascending=False)\n",
    "missing_percent"
   ]
  },
  {
   "cell_type": "code",
   "execution_count": 714,
   "metadata": {},
   "outputs": [
    {
     "data": {
      "text/plain": [
       "(198900, 33)"
      ]
     },
     "execution_count": 714,
     "metadata": {},
     "output_type": "execute_result"
    }
   ],
   "source": [
    "# vergelich imputing zu original\n",
    "building_df.shape\n"
   ]
  },
  {
   "cell_type": "code",
   "execution_count": 715,
   "metadata": {},
   "outputs": [
    {
     "data": {
      "text/plain": [
       "(198900, 51)"
      ]
     },
     "execution_count": 715,
     "metadata": {},
     "output_type": "execute_result"
    }
   ],
   "source": [
    "imputed.shape"
   ]
  },
  {
   "cell_type": "markdown",
   "metadata": {},
   "source": [
    "Wenn man den Datensatz betrachtet, gibt es ein paar Spalten (z.B Revised Cost,) die Numerisch sind, bei denen wir, wie in der Vorlesung behandelt, den Median imputieren können.."
   ]
  },
  {
   "cell_type": "code",
   "execution_count": 716,
   "metadata": {},
   "outputs": [],
   "source": [
    "numerical_cols = [\n",
    "    'Revised Cost',\n",
    "    'Existing Units',\n",
    "    'Number of Existing Stories'\n",
    "]"
   ]
  },
  {
   "cell_type": "code",
   "execution_count": 717,
   "metadata": {},
   "outputs": [
    {
     "data": {
      "text/plain": [
       "6066"
      ]
     },
     "execution_count": 717,
     "metadata": {},
     "output_type": "execute_result"
    }
   ],
   "source": [
    "imputed['Revised Cost'].isnull().sum()"
   ]
  },
  {
   "cell_type": "code",
   "execution_count": 718,
   "metadata": {},
   "outputs": [],
   "source": [
    "for column in numerical_cols:\n",
    "    imputed[column].fillna( imputed[column].mean(skipna=True) , inplace=True)"
   ]
  },
  {
   "cell_type": "code",
   "execution_count": 719,
   "metadata": {},
   "outputs": [
    {
     "data": {
      "text/plain": [
       "0"
      ]
     },
     "execution_count": 719,
     "metadata": {},
     "output_type": "execute_result"
    }
   ],
   "source": [
    "imputed['Revised Cost'].isnull().sum()"
   ]
  },
  {
   "cell_type": "markdown",
   "metadata": {},
   "source": [
    "Schauen wir uns den restlichen Datensatz an:"
   ]
  },
  {
   "cell_type": "code",
   "execution_count": 723,
   "metadata": {},
   "outputs": [
    {
     "data": {
      "text/plain": [
       "Permit Expiration Month                            0.260835\n",
       "Permit Expiration Year                             0.260835\n",
       "Permit Expiration Day                              0.260835\n",
       "Existing Construction Type                         0.218029\n",
       "Existing Use                                       0.206707\n",
       "Plansets                                           0.187577\n",
       "First Construction Document Year                   0.075143\n",
       "First Construction Document Day                    0.075143\n",
       "First Construction Document Month                  0.075143\n",
       "Issued Day                                         0.075113\n",
       "Issued Year                                        0.075113\n",
       "Issued Month                                       0.075113\n",
       "Neighborhoods - Analysis Boundaries                0.008673\n",
       "Supervisor District                                0.008632\n",
       "Zipcode                                            0.008627\n",
       "Current Status Month                               0.000000\n",
       "Permit Creation Year                               0.000000\n",
       "Permit Creation Day                                0.000000\n",
       "Site Permit                                        0.000000\n",
       "Existing Units                                     0.000000\n",
       "Revised Cost                                       0.000000\n",
       "Fire Only Permit                                   0.000000\n",
       "Voluntary Soft-Story Retrofit                      0.000000\n",
       "Number of Existing Stories                         0.000000\n",
       "Current Status                                     0.000000\n",
       "Permit Creation Month                              0.000000\n",
       "Street Name                                        0.000000\n",
       "Current Status Year                                0.000000\n",
       "Current Status Day                                 0.000000\n",
       "Permit Expiration Month_was_missing                0.000000\n",
       "Filed Year                                         0.000000\n",
       "Neighborhoods - Analysis Boundaries_was_missing    0.000000\n",
       "Permit Expiration Year_was_missing                 0.000000\n",
       "First Construction Document Month_was_missing      0.000000\n",
       "First Construction Document Day_was_missing        0.000000\n",
       "First Construction Document Year_was_missing       0.000000\n",
       "Issued Month_was_missing                           0.000000\n",
       "Issued Day_was_missing                             0.000000\n",
       "Issued Year_was_missing                            0.000000\n",
       "Zipcode_was_missing                                0.000000\n",
       "Supervisor District_was_missing                    0.000000\n",
       "Filed Day                                          0.000000\n",
       "Existing Construction Type_was_missing             0.000000\n",
       "Plansets_was_missing                               0.000000\n",
       "Existing Units_was_missing                         0.000000\n",
       "Existing Use_was_missing                           0.000000\n",
       "Revised Cost_was_missing                           0.000000\n",
       "Number of Existing Stories_was_missing             0.000000\n",
       "Permit Expiration Day_was_missing                  0.000000\n",
       "Filed Month                                        0.000000\n",
       "Permit Type                                        0.000000\n",
       "dtype: float64"
      ]
     },
     "execution_count": 723,
     "metadata": {},
     "output_type": "execute_result"
    }
   ],
   "source": [
    "sums = imputed.isnull().sum()\n",
    "missing_percent = (sums/imputed.shape[0]).sort_values(ascending=False)\n",
    "missing_percent"
   ]
  },
  {
   "cell_type": "code",
   "execution_count": 724,
   "metadata": {},
   "outputs": [
    {
     "data": {
      "text/plain": [
       "3.669643825353168"
      ]
     },
     "execution_count": 724,
     "metadata": {},
     "output_type": "execute_result"
    }
   ],
   "source": [
    "#Wie viel % der Daten fehlen insgesamt??\n",
    "# total number of cells \n",
    "total_cells = np.product(imputed.shape)\n",
    "# total missing values \n",
    "missing_values = imputed.isnull().sum()\n",
    "total_missing_values = missing_values.sum()\n",
    "# percentage of nan or None cells \n",
    "nan_or_null_cell_percentage = (total_missing_values/total_cells)*100\n",
    "nan_or_null_cell_percentage"
   ]
  },
  {
   "cell_type": "markdown",
   "metadata": {},
   "source": [
    "### Zwei Möglichkeiten\n",
    "\n",
    "Nun gibt es zwei Möglichkeiten die restlichen Spalten zu bereinigen. \n",
    "\n",
    "1.) Wir löschen alle Zeilen raus, die keine Werte enthalten.\n",
    "\n",
    "2.) Wir füllen sie mit dem Modus auf\n",
    "\n",
    "Wir haben uns für Möglichkeit 2 entschieden, da wenn wir die zeilen löschen würden rund 25% der Daten verlieren würden. Wir würden alle Zeilen löschen, bei denen bspw. Permit Expiration Month leer wäre (über 25%).\n",
    "Es wäre daher besser, für alle Spalten mit fehlenden Werten (s.u.) den Häufigsten Wert zu ermitteln und zu imputieren. \n",
    "\n",
    "* Permit Expiration Month                            0.260835\n",
    "* Permit Expiration Year                             0.260835\n",
    "* Permit Expiration Day                              0.260835\n",
    "* Existing Construction Type                         0.218029\n",
    "* Existing Use                                       0.206707\n",
    "* Plansets                                           0.187577\n",
    "* First Construction Document Year                   0.075143\n",
    "* First Construction Document Day                    0.075143\n",
    "* First Construction Document Month                  0.075143\n",
    "* Issued Day                                         0.075113\n",
    "* Issued Year                                        0.075113\n",
    "* Issued Month                                       0.075113\n",
    "* Neighborhoods - Analysis Boundaries                0.008673\n",
    "* Supervisor District                                0.008632\n",
    "* Zipcode                                            0.008627"
   ]
  },
  {
   "cell_type": "code",
   "execution_count": 725,
   "metadata": {},
   "outputs": [],
   "source": [
    "mode = [\n",
    "    'Existing Construction Type',\n",
    "    'Existing Use',\n",
    "    'Plansets',\n",
    "    'Zipcode',\n",
    "    'Supervisor District',\n",
    "    'Neighborhoods - Analysis Boundaries',\n",
    "    'Issued Year',\n",
    "    'Issued Day',\n",
    "    'Issued Month',\n",
    "    'First Construction Document Year',\n",
    "    'First Construction Document Day',\n",
    "    'First Construction Document Month',\n",
    "    'Permit Expiration Year',\n",
    "    'Permit Expiration Day',\n",
    "    'Permit Expiration Month'\n",
    "]"
   ]
  },
  {
   "cell_type": "code",
   "execution_count": 726,
   "metadata": {},
   "outputs": [],
   "source": [
    "for column in mode:\n",
    "    imputed[column].fillna(imputed[column].mode()[0], inplace = True)"
   ]
  },
  {
   "cell_type": "code",
   "execution_count": 727,
   "metadata": {},
   "outputs": [
    {
     "data": {
      "text/plain": [
       "0.0"
      ]
     },
     "execution_count": 727,
     "metadata": {},
     "output_type": "execute_result"
    }
   ],
   "source": [
    "#Wie viel % der Daten fehlen insgesamt??\n",
    "\n",
    "\n",
    "# total number of cells \n",
    "total_cells = np.product(imputed.shape)\n",
    "# total missing values \n",
    "missing_values = imputed.isnull().sum()\n",
    "total_missing_values = missing_values.sum()\n",
    "\n",
    "# percentage of nan or None cells \n",
    "nan_or_null_cell_percentage = (total_missing_values/total_cells)*100\n",
    "nan_or_null_cell_percentage"
   ]
  },
  {
   "cell_type": "markdown",
   "metadata": {},
   "source": [
    "**Hat die Bereinigung geklappt?**"
   ]
  },
  {
   "cell_type": "code",
   "execution_count": 728,
   "metadata": {},
   "outputs": [
    {
     "data": {
      "text/plain": [
       "Permit Expiration Month_was_missing                0.0\n",
       "Supervisor District                                0.0\n",
       "Filed Day                                          0.0\n",
       "Filed Year                                         0.0\n",
       "Current Status Month                               0.0\n",
       "Current Status Day                                 0.0\n",
       "Current Status Year                                0.0\n",
       "Permit Creation Month                              0.0\n",
       "Permit Creation Day                                0.0\n",
       "Permit Creation Year                               0.0\n",
       "Zipcode                                            0.0\n",
       "Neighborhoods - Analysis Boundaries                0.0\n",
       "Site Permit                                        0.0\n",
       "Issued Year                                        0.0\n",
       "Existing Construction Type                         0.0\n",
       "Plansets                                           0.0\n",
       "Existing Units                                     0.0\n",
       "Existing Use                                       0.0\n",
       "Revised Cost                                       0.0\n",
       "Fire Only Permit                                   0.0\n",
       "Voluntary Soft-Story Retrofit                      0.0\n",
       "Number of Existing Stories                         0.0\n",
       "Current Status                                     0.0\n",
       "Street Name                                        0.0\n",
       "Filed Month                                        0.0\n",
       "Issued Day                                         0.0\n",
       "Permit Expiration Day_was_missing                  0.0\n",
       "Existing Construction Type_was_missing             0.0\n",
       "Permit Expiration Year_was_missing                 0.0\n",
       "First Construction Document Month_was_missing      0.0\n",
       "First Construction Document Day_was_missing        0.0\n",
       "First Construction Document Year_was_missing       0.0\n",
       "Issued Month_was_missing                           0.0\n",
       "Issued Day_was_missing                             0.0\n",
       "Issued Year_was_missing                            0.0\n",
       "Zipcode_was_missing                                0.0\n",
       "Neighborhoods - Analysis Boundaries_was_missing    0.0\n",
       "Supervisor District_was_missing                    0.0\n",
       "Plansets_was_missing                               0.0\n",
       "Issued Month                                       0.0\n",
       "Existing Units_was_missing                         0.0\n",
       "Existing Use_was_missing                           0.0\n",
       "Revised Cost_was_missing                           0.0\n",
       "Number of Existing Stories_was_missing             0.0\n",
       "Permit Expiration Month                            0.0\n",
       "Permit Expiration Day                              0.0\n",
       "Permit Expiration Year                             0.0\n",
       "First Construction Document Month                  0.0\n",
       "First Construction Document Day                    0.0\n",
       "First Construction Document Year                   0.0\n",
       "Permit Type                                        0.0\n",
       "dtype: float64"
      ]
     },
     "execution_count": 728,
     "metadata": {},
     "output_type": "execute_result"
    }
   ],
   "source": [
    "sums = imputed.isnull().sum()\n",
    "missing_percent = (sums/imputed.shape[0]).sort_values(ascending=False)\n",
    "missing_percent"
   ]
  },
  {
   "cell_type": "code",
   "execution_count": 627,
   "metadata": {},
   "outputs": [],
   "source": [
    "#imputed['Permit Expiration Month'].value_counts()"
   ]
  },
  {
   "cell_type": "code",
   "execution_count": 628,
   "metadata": {},
   "outputs": [],
   "source": [
    "#imputed = imputed.dropna()\n",
    "#print(\"Rows left: %d\" % len(imputed))"
   ]
  },
  {
   "cell_type": "code",
   "execution_count": 629,
   "metadata": {},
   "outputs": [],
   "source": [
    "#sums = imputed.isnull().sum()\n",
    "#missing_percent = (sums/imputed.shape[0]).sort_values(ascending=False)\n",
    "#missing_percent"
   ]
  },
  {
   "cell_type": "code",
   "execution_count": 630,
   "metadata": {},
   "outputs": [
    {
     "data": {
      "text/html": [
       "<div>\n",
       "<style scoped>\n",
       "    .dataframe tbody tr th:only-of-type {\n",
       "        vertical-align: middle;\n",
       "    }\n",
       "\n",
       "    .dataframe tbody tr th {\n",
       "        vertical-align: top;\n",
       "    }\n",
       "\n",
       "    .dataframe thead th {\n",
       "        text-align: right;\n",
       "    }\n",
       "</style>\n",
       "<table border=\"1\" class=\"dataframe\">\n",
       "  <thead>\n",
       "    <tr style=\"text-align: right;\">\n",
       "      <th></th>\n",
       "      <th>Permit Type</th>\n",
       "      <th>Street Name</th>\n",
       "      <th>Current Status</th>\n",
       "      <th>Number of Existing Stories</th>\n",
       "      <th>Voluntary Soft-Story Retrofit</th>\n",
       "      <th>Fire Only Permit</th>\n",
       "      <th>Revised Cost</th>\n",
       "      <th>Existing Use</th>\n",
       "      <th>Existing Units</th>\n",
       "      <th>Plansets</th>\n",
       "      <th>...</th>\n",
       "      <th>Zipcode_was_missing</th>\n",
       "      <th>Issued Year_was_missing</th>\n",
       "      <th>Issued Day_was_missing</th>\n",
       "      <th>Issued Month_was_missing</th>\n",
       "      <th>First Construction Document Year_was_missing</th>\n",
       "      <th>First Construction Document Day_was_missing</th>\n",
       "      <th>First Construction Document Month_was_missing</th>\n",
       "      <th>Permit Expiration Year_was_missing</th>\n",
       "      <th>Permit Expiration Day_was_missing</th>\n",
       "      <th>Permit Expiration Month_was_missing</th>\n",
       "    </tr>\n",
       "  </thead>\n",
       "  <tbody>\n",
       "    <tr>\n",
       "      <th>0</th>\n",
       "      <td>4</td>\n",
       "      <td>Ellis</td>\n",
       "      <td>expired</td>\n",
       "      <td>6.0</td>\n",
       "      <td>N</td>\n",
       "      <td>N</td>\n",
       "      <td>4000.0</td>\n",
       "      <td>tourist hotel/motel</td>\n",
       "      <td>143.000000</td>\n",
       "      <td>2.0</td>\n",
       "      <td>...</td>\n",
       "      <td>False</td>\n",
       "      <td>False</td>\n",
       "      <td>False</td>\n",
       "      <td>False</td>\n",
       "      <td>False</td>\n",
       "      <td>False</td>\n",
       "      <td>False</td>\n",
       "      <td>False</td>\n",
       "      <td>False</td>\n",
       "      <td>False</td>\n",
       "    </tr>\n",
       "    <tr>\n",
       "      <th>1</th>\n",
       "      <td>4</td>\n",
       "      <td>Geary</td>\n",
       "      <td>issued</td>\n",
       "      <td>7.0</td>\n",
       "      <td>N</td>\n",
       "      <td>N</td>\n",
       "      <td>500.0</td>\n",
       "      <td>tourist hotel/motel</td>\n",
       "      <td>16.350162</td>\n",
       "      <td>2.0</td>\n",
       "      <td>...</td>\n",
       "      <td>False</td>\n",
       "      <td>False</td>\n",
       "      <td>False</td>\n",
       "      <td>False</td>\n",
       "      <td>False</td>\n",
       "      <td>False</td>\n",
       "      <td>False</td>\n",
       "      <td>False</td>\n",
       "      <td>False</td>\n",
       "      <td>False</td>\n",
       "    </tr>\n",
       "    <tr>\n",
       "      <th>2</th>\n",
       "      <td>3</td>\n",
       "      <td>Pacific</td>\n",
       "      <td>withdrawn</td>\n",
       "      <td>6.0</td>\n",
       "      <td>N</td>\n",
       "      <td>N</td>\n",
       "      <td>20000.0</td>\n",
       "      <td>retail sales</td>\n",
       "      <td>39.000000</td>\n",
       "      <td>2.0</td>\n",
       "      <td>...</td>\n",
       "      <td>False</td>\n",
       "      <td>True</td>\n",
       "      <td>True</td>\n",
       "      <td>True</td>\n",
       "      <td>True</td>\n",
       "      <td>True</td>\n",
       "      <td>True</td>\n",
       "      <td>True</td>\n",
       "      <td>True</td>\n",
       "      <td>True</td>\n",
       "    </tr>\n",
       "    <tr>\n",
       "      <th>3</th>\n",
       "      <td>8</td>\n",
       "      <td>Pacific</td>\n",
       "      <td>complete</td>\n",
       "      <td>2.0</td>\n",
       "      <td>N</td>\n",
       "      <td>N</td>\n",
       "      <td>2000.0</td>\n",
       "      <td>1 family dwelling</td>\n",
       "      <td>1.000000</td>\n",
       "      <td>2.0</td>\n",
       "      <td>...</td>\n",
       "      <td>False</td>\n",
       "      <td>False</td>\n",
       "      <td>False</td>\n",
       "      <td>False</td>\n",
       "      <td>False</td>\n",
       "      <td>False</td>\n",
       "      <td>False</td>\n",
       "      <td>False</td>\n",
       "      <td>False</td>\n",
       "      <td>False</td>\n",
       "    </tr>\n",
       "    <tr>\n",
       "      <th>4</th>\n",
       "      <td>6</td>\n",
       "      <td>Market</td>\n",
       "      <td>issued</td>\n",
       "      <td>3.0</td>\n",
       "      <td>N</td>\n",
       "      <td>N</td>\n",
       "      <td>100000.0</td>\n",
       "      <td>retail sales</td>\n",
       "      <td>16.350162</td>\n",
       "      <td>2.0</td>\n",
       "      <td>...</td>\n",
       "      <td>False</td>\n",
       "      <td>False</td>\n",
       "      <td>False</td>\n",
       "      <td>False</td>\n",
       "      <td>False</td>\n",
       "      <td>False</td>\n",
       "      <td>False</td>\n",
       "      <td>False</td>\n",
       "      <td>False</td>\n",
       "      <td>False</td>\n",
       "    </tr>\n",
       "  </tbody>\n",
       "</table>\n",
       "<p>5 rows × 51 columns</p>\n",
       "</div>"
      ],
      "text/plain": [
       "   Permit Type Street Name Current Status  Number of Existing Stories  \\\n",
       "0            4       Ellis        expired                         6.0   \n",
       "1            4       Geary         issued                         7.0   \n",
       "2            3     Pacific      withdrawn                         6.0   \n",
       "3            8     Pacific       complete                         2.0   \n",
       "4            6      Market         issued                         3.0   \n",
       "\n",
       "  Voluntary Soft-Story Retrofit Fire Only Permit  Revised Cost  \\\n",
       "0                             N                N        4000.0   \n",
       "1                             N                N         500.0   \n",
       "2                             N                N       20000.0   \n",
       "3                             N                N        2000.0   \n",
       "4                             N                N      100000.0   \n",
       "\n",
       "          Existing Use  Existing Units  Plansets  ...  Zipcode_was_missing  \\\n",
       "0  tourist hotel/motel      143.000000       2.0  ...                False   \n",
       "1  tourist hotel/motel       16.350162       2.0  ...                False   \n",
       "2         retail sales       39.000000       2.0  ...                False   \n",
       "3    1 family dwelling        1.000000       2.0  ...                False   \n",
       "4         retail sales       16.350162       2.0  ...                False   \n",
       "\n",
       "  Issued Year_was_missing  Issued Day_was_missing Issued Month_was_missing  \\\n",
       "0                   False                   False                    False   \n",
       "1                   False                   False                    False   \n",
       "2                    True                    True                     True   \n",
       "3                   False                   False                    False   \n",
       "4                   False                   False                    False   \n",
       "\n",
       "   First Construction Document Year_was_missing  \\\n",
       "0                                         False   \n",
       "1                                         False   \n",
       "2                                          True   \n",
       "3                                         False   \n",
       "4                                         False   \n",
       "\n",
       "   First Construction Document Day_was_missing  \\\n",
       "0                                        False   \n",
       "1                                        False   \n",
       "2                                         True   \n",
       "3                                        False   \n",
       "4                                        False   \n",
       "\n",
       "   First Construction Document Month_was_missing  \\\n",
       "0                                          False   \n",
       "1                                          False   \n",
       "2                                           True   \n",
       "3                                          False   \n",
       "4                                          False   \n",
       "\n",
       "   Permit Expiration Year_was_missing  Permit Expiration Day_was_missing  \\\n",
       "0                               False                              False   \n",
       "1                               False                              False   \n",
       "2                                True                               True   \n",
       "3                               False                              False   \n",
       "4                               False                              False   \n",
       "\n",
       "   Permit Expiration Month_was_missing  \n",
       "0                                False  \n",
       "1                                False  \n",
       "2                                 True  \n",
       "3                                False  \n",
       "4                                False  \n",
       "\n",
       "[5 rows x 51 columns]"
      ]
     },
     "execution_count": 630,
     "metadata": {},
     "output_type": "execute_result"
    }
   ],
   "source": [
    "imputed.head(5)"
   ]
  },
  {
   "cell_type": "markdown",
   "metadata": {},
   "source": [
    "### Fazit\n",
    "\n",
    "\n",
    "Das Bereinigen des San Francisco Buidling Permit Datensatzes war schwieriger als gedacht. Es war zu Beginn sehr schwer den Datensatz zu verstehen und Zusammenhänge daraus zu schließen. Erst nach Recherchen und Disskusionen konnte man langsam durchsteigen und erkennen wie man welche Spalten imputiert bzw. welche Spalten ignoriert werden können.\n",
    "Gerade zu bestimmen, welche Spalten für die Vorherrsage wichtig ist und welche nicht, fiel uns extrem schwer! Wir haben uns grundsätzlich immer auf rationale/logische Schritte geeinigt wie z.B. die 50% Hürde bei den fehlenden Daten. \n",
    "Dadurch, dass wir nach und nach Spalten entfernt haben, hatten wir gegen Ende auch einen besseren Überblick über den Datensatz"
   ]
  },
  {
   "cell_type": "markdown",
   "metadata": {},
   "source": [
    "# B SF Permits Exploration"
   ]
  },
  {
   "cell_type": "markdown",
   "metadata": {},
   "source": [
    "* Explore the data. Which columns correlate strongly with the \"Current Status\" column? How do other\n",
    "columns correlate to each other?\n",
    "* Describe problems with \"Current Status\" as a target column to predict. Can you construct a better\n",
    "target column?"
   ]
  },
  {
   "cell_type": "markdown",
   "metadata": {},
   "source": [
    "\n",
    "### 1) Beschreiben Sie Probleme mit \"Aktueller Status\" als Zielspalte zur Vorhersage. Kannst du eine bessere Spalte bauen?\n",
    "\n",
    "Wenn man sich die Spalte Current Status genauer anschaut, sieht man, dass es sehr viel verschiedene String-werte gibt. Das vorherrsagen der Stringwerte kann sehr schwer sein. Daher haben wir uns darauf geeinigt,die Spalte auf 0 (not permitted,in_progress) und 1 (permitted) zu kategorisieren, um später einfach einen binären Zustand vorherzusagen!"
   ]
  },
  {
   "cell_type": "code",
   "execution_count": 729,
   "metadata": {},
   "outputs": [
    {
     "data": {
      "text/plain": [
       "complete       97077\n",
       "issued         83559\n",
       "filed          12043\n",
       "withdrawn       1754\n",
       "cancelled       1536\n",
       "expired         1370\n",
       "approved         733\n",
       "reinstated       563\n",
       "suspend          193\n",
       "revoked           50\n",
       "plancheck         16\n",
       "incomplete         2\n",
       "appeal             2\n",
       "disapproved        2\n",
       "Name: Current Status, dtype: int64"
      ]
     },
     "execution_count": 729,
     "metadata": {},
     "output_type": "execute_result"
    }
   ],
   "source": [
    "imputed['Current Status'].value_counts()"
   ]
  },
  {
   "cell_type": "code",
   "execution_count": 730,
   "metadata": {},
   "outputs": [],
   "source": [
    "permitted = [\n",
    "   'approved', \n",
    "    'issued', \n",
    "    'complete'\n",
    "]\n",
    "\n",
    "in_progress = [\n",
    "    'appeal', \n",
    "    'plancheck', \n",
    "    'suspend', \n",
    "    'reinstated', \n",
    "    'filed'\n",
    "]\n",
    "\n",
    "not_permitted = [\n",
    "    'disapproved',\n",
    "    'incomplete',\n",
    "    'revoked',\n",
    "    'expired',\n",
    "    'cancelled',\n",
    "    'withdrawn'\n",
    "]"
   ]
  },
  {
   "cell_type": "code",
   "execution_count": 731,
   "metadata": {},
   "outputs": [],
   "source": [
    "for i in permitted:\n",
    "    imputed['Current Status'].replace(to_replace=i, value='1', inplace=True)\n",
    "\n",
    "for i in in_progress:\n",
    "    imputed['Current Status'].replace(to_replace=i, value='0', inplace=True)    \n",
    "\n",
    "for i in not_permitted:\n",
    "    imputed['Current Status'].replace(to_replace=i, value='0', inplace=True) "
   ]
  },
  {
   "cell_type": "code",
   "execution_count": 732,
   "metadata": {},
   "outputs": [
    {
     "data": {
      "text/plain": [
       "1    181369\n",
       "0     17531\n",
       "Name: Current Status, dtype: int64"
      ]
     },
     "execution_count": 732,
     "metadata": {},
     "output_type": "execute_result"
    }
   ],
   "source": [
    "imputed['Current Status'].value_counts()"
   ]
  },
  {
   "cell_type": "code",
   "execution_count": 733,
   "metadata": {},
   "outputs": [],
   "source": [
    "imputed['Current Status'] = pd.to_numeric(imputed['Current Status'])"
   ]
  },
  {
   "cell_type": "code",
   "execution_count": 734,
   "metadata": {},
   "outputs": [
    {
     "data": {
      "text/plain": [
       "0         0\n",
       "1         1\n",
       "2         0\n",
       "3         1\n",
       "4         1\n",
       "5         1\n",
       "6         1\n",
       "7         1\n",
       "8         1\n",
       "9         1\n",
       "10        1\n",
       "11        1\n",
       "12        1\n",
       "13        0\n",
       "14        1\n",
       "15        1\n",
       "16        1\n",
       "17        1\n",
       "18        0\n",
       "19        1\n",
       "20        1\n",
       "21        0\n",
       "22        0\n",
       "23        1\n",
       "24        1\n",
       "25        1\n",
       "26        1\n",
       "27        1\n",
       "28        1\n",
       "29        1\n",
       "         ..\n",
       "198870    1\n",
       "198871    1\n",
       "198872    0\n",
       "198873    1\n",
       "198874    1\n",
       "198875    0\n",
       "198876    1\n",
       "198877    1\n",
       "198878    0\n",
       "198879    1\n",
       "198880    1\n",
       "198881    1\n",
       "198882    1\n",
       "198883    1\n",
       "198884    0\n",
       "198885    0\n",
       "198886    1\n",
       "198887    1\n",
       "198888    1\n",
       "198889    1\n",
       "198890    0\n",
       "198891    1\n",
       "198892    1\n",
       "198893    1\n",
       "198894    1\n",
       "198895    1\n",
       "198896    1\n",
       "198897    1\n",
       "198898    1\n",
       "198899    1\n",
       "Name: Current Status, Length: 198900, dtype: int64"
      ]
     },
     "execution_count": 734,
     "metadata": {},
     "output_type": "execute_result"
    }
   ],
   "source": [
    "imputed['Current Status']"
   ]
  },
  {
   "cell_type": "code",
   "execution_count": 735,
   "metadata": {},
   "outputs": [
    {
     "data": {
      "text/plain": [
       "<Figure size 1440x288 with 0 Axes>"
      ]
     },
     "execution_count": 735,
     "metadata": {},
     "output_type": "execute_result"
    },
    {
     "data": {
      "text/plain": [
       "<Figure size 1440x288 with 0 Axes>"
      ]
     },
     "metadata": {},
     "output_type": "display_data"
    }
   ],
   "source": [
    "plt.figure(figsize=(20,4))"
   ]
  },
  {
   "cell_type": "markdown",
   "metadata": {},
   "source": [
    "### 2) Welche Spalten korrelieren stark mit der Spalte \"Current Status\"?"
   ]
  },
  {
   "cell_type": "markdown",
   "metadata": {},
   "source": [
    "**Im folgenden untersuchen wir die Korrelation von einigen Spalten und dem Current Status.**\n",
    "\n"
   ]
  },
  {
   "cell_type": "code",
   "execution_count": 736,
   "metadata": {},
   "outputs": [
    {
     "data": {
      "text/plain": [
       "<matplotlib.axes._subplots.AxesSubplot at 0x231970e1be0>"
      ]
     },
     "execution_count": 736,
     "metadata": {},
     "output_type": "execute_result"
    },
    {
     "data": {
      "image/png": "[encoded data removed]",
      "text/plain": [
       "<Figure size 648x576 with 2 Axes>"
      ]
     },
     "metadata": {},
     "output_type": "display_data"
    }
   ],
   "source": [
    "#drop was_missing spalten\n",
    "df1 = imputed\n",
    "df1 = df1.drop(df1.columns[33:],axis=1)\n",
    "#df1.columns\n",
    "#corrmat = imputed_scale.corr()\n",
    "\n",
    "corrmat = df1.corr()\n",
    "  \n",
    "f, ax = plt.subplots(figsize =(9, 8)) \n",
    "sns.heatmap(corrmat, ax = ax, cmap =\"YlGnBu\", linewidth = 0.1)"
   ]
  },
  {
   "cell_type": "markdown",
   "metadata": {},
   "source": [
    "Wenn es keine Korrelation zwischen 2 Variablen gibt (wenn die Korrelation 0 oder nahe 0 ist), ist die Farbe des Rechtecks in der Heatmap türkis. Das dunkelste Blau bedeutet, dass es eine perfekte positive Korrelation gibt, während das Weiß/Hellgrün bedeutet, dass es eine perfekte negative Korrelation gibt (siehe Legende rechts).\n",
    "Bei der Auswertung der Korrelation zwischen allen Merkmalen beinhaltet die \"corr()\"-Methode die Korrelation jedes Merkmals mit sich selbst, die immer 1 ist, weshalb diese Art von Diagramm immer die blaue Diagonale von oben links nach unten rechts aufweist. Abgesehen von der Diagonale zeigen die restlichen Quadrate Korrelationen zwischen verschiedenen Merkmalen, was es sehr einfach macht, festzustellen, dass es nur winzige Korrelationen mit dem Current Status gibt. Lediglich der Permit Type, Issued Day, First Construction Document Year/Day und Permit Expiration Day sind in der Heatmap leicht blau gefärbt. Anhang der leichten Färbung ist zu erkennen, dass die Korrelation gerin ist.\n",
    "Um sicherzugehen, haben wir testweise auch Spalten getestet und die Korrelation berechnet:"
   ]
  },
  {
   "cell_type": "code",
   "execution_count": 737,
   "metadata": {},
   "outputs": [
    {
     "data": {
      "image/png": "[encoded data removed]",
      "text/plain": [
       "<Figure size 432x288 with 1 Axes>"
      ]
     },
     "metadata": {},
     "output_type": "display_data"
    },
    {
     "name": "stdout",
     "output_type": "stream",
     "text": [
      "Die Korrelation von Permit Type und Current Status liegt bei: 0.2651893460366502\n"
     ]
    }
   ],
   "source": [
    "# Korrelation zwischen Permit Type und Current Status\n",
    "avg_by_permittype = imputed[['Permit Type','Current Status']].groupby('Permit Type',as_index=False).mean()\n",
    "sns.barplot(x='Permit Type', y='Current Status', data=avg_by_permittype, color=\"LightSeaGreen\")\n",
    "plt.show()\n",
    "corr = imputed['Permit Type'].corr(imputed['Current Status'],method ='pearson')\n",
    "print(\"Die Korrelation von Permit Type und Current Status liegt bei: \"+ str(corr))"
   ]
  },
  {
   "cell_type": "markdown",
   "metadata": {},
   "source": [
    "Hinweis: 5 und 8 werden oft permitted!"
   ]
  },
  {
   "cell_type": "code",
   "execution_count": 738,
   "metadata": {},
   "outputs": [
    {
     "data": {
      "image/png": "[encoded data removed]",
      "text/plain": [
       "<Figure size 432x288 with 1 Axes>"
      ]
     },
     "metadata": {},
     "output_type": "display_data"
    },
    {
     "name": "stdout",
     "output_type": "stream",
     "text": [
      "Die Korrelation von Issued Day und Current Status liegt bei: 0.2051612252227419\n"
     ]
    }
   ],
   "source": [
    "# Korrelation zwischen Plansets und Current Status\n",
    "avg_by_plansets = imputed[['Issued Day','Current Status']].groupby('Issued Day',as_index=False).mean()\n",
    "sns.barplot(x='Issued Day', y='Current Status', data=avg_by_plansets, color=\"LightSeaGreen\")\n",
    "plt.show()\n",
    "corr = imputed['Issued Day'].corr(imputed['Current Status'],method ='pearson')\n",
    "print(\"Die Korrelation von Issued Day und Current Status liegt bei: \"+ str(corr))"
   ]
  },
  {
   "cell_type": "code",
   "execution_count": 739,
   "metadata": {},
   "outputs": [
    {
     "data": {
      "image/png": "[encoded data removed]",
      "text/plain": [
       "<Figure size 432x288 with 1 Axes>"
      ]
     },
     "metadata": {},
     "output_type": "display_data"
    },
    {
     "name": "stdout",
     "output_type": "stream",
     "text": [
      "Die Korrelation von Supervisor District und Current Status liegt bei: -0.014969036747802021\n"
     ]
    }
   ],
   "source": [
    "# Korrelation zwischen Supervisor District und Current Status\n",
    "avg_by_supervisor_dis = imputed[['Supervisor District','Current Status']].groupby('Supervisor District',as_index=False).mean()\n",
    "sns.barplot(x='Supervisor District', y='Current Status', data=avg_by_supervisor_dis, color=\"LightSeaGreen\")\n",
    "plt.show()\n",
    "corr = imputed['Supervisor District'].corr(imputed['Current Status'],method ='pearson')\n",
    "print(\"Die Korrelation von Supervisor District und Current Status liegt bei: \"+ str(corr))"
   ]
  },
  {
   "cell_type": "code",
   "execution_count": 740,
   "metadata": {},
   "outputs": [
    {
     "data": {
      "image/png": "[encoded data removed]",
      "text/plain": [
       "<Figure size 432x288 with 1 Axes>"
      ]
     },
     "metadata": {},
     "output_type": "display_data"
    },
    {
     "name": "stdout",
     "output_type": "stream",
     "text": [
      "Die Korrelation von First Construction Document Day und Current Status liegt bei: 0.2044880440646523\n"
     ]
    }
   ],
   "source": [
    "# Korrelation zwischen Permit Creation Year und Current Status\n",
    "avg_by_permit_cre_year = imputed[['First Construction Document Day','Current Status']].groupby('First Construction Document Day',as_index=False).mean()\n",
    "sns.barplot(x='First Construction Document Day', y='Current Status', data=avg_by_permit_cre_year, color=\"LightSeaGreen\")\n",
    "plt.show()\n",
    "corr = imputed['First Construction Document Day'].corr(imputed['Current Status'],method ='pearson')\n",
    "print(\"Die Korrelation von First Construction Document Day und Current Status liegt bei: \"+ str(corr))\n"
   ]
  },
  {
   "cell_type": "code",
   "execution_count": 741,
   "metadata": {},
   "outputs": [
    {
     "data": {
      "image/png": "[encoded data removed]",
      "text/plain": [
       "<Figure size 4320x720 with 1 Axes>"
      ]
     },
     "metadata": {},
     "output_type": "display_data"
    },
    {
     "name": "stdout",
     "output_type": "stream",
     "text": [
      "Die Korrelation von Zipcode und Current Status liegt bei: -0.006923093716601471\n"
     ]
    }
   ],
   "source": [
    "# Korrelation zwischen Zipcode und Current Status\n",
    "plt.figure(figsize=(60,10))\n",
    "avg_by_zipcode = imputed[['Zipcode','Current Status']].groupby('Zipcode',as_index=False).mean()\n",
    "sns.barplot(x='Zipcode', y='Current Status', data=avg_by_zipcode, color=\"LightSeaGreen\")\n",
    "plt.show()\n",
    "corr = imputed['Zipcode'].corr(imputed['Current Status'],method ='pearson')\n",
    "print(\"Die Korrelation von Zipcode und Current Status liegt bei: \"+ str(corr))\n"
   ]
  },
  {
   "cell_type": "code",
   "execution_count": 742,
   "metadata": {},
   "outputs": [
    {
     "data": {
      "image/png": "[encoded data removed]",
      "text/plain": [
       "<Figure size 432x288 with 1 Axes>"
      ]
     },
     "metadata": {},
     "output_type": "display_data"
    },
    {
     "name": "stdout",
     "output_type": "stream",
     "text": [
      "Die Korrelation von Existing Construction Type und Current Status liegt bei: -0.02444563802529525\n"
     ]
    }
   ],
   "source": [
    "# Korrelation zwischen Existing Construction Type und Current Status\n",
    "avg_by_ex_con_tpye = imputed[['Existing Construction Type','Current Status']].groupby('Existing Construction Type',as_index=False).mean()\n",
    "sns.barplot(x='Existing Construction Type', y='Current Status', data=avg_by_ex_con_tpye, color=\"LightSeaGreen\")\n",
    "plt.show()\n",
    "corr = imputed['Existing Construction Type'].corr(imputed['Current Status'],method ='pearson')\n",
    "print(\"Die Korrelation von Existing Construction Type und Current Status liegt bei: \"+ str(corr))\n"
   ]
  },
  {
   "cell_type": "code",
   "execution_count": 743,
   "metadata": {},
   "outputs": [
    {
     "data": {
      "image/png": "[encoded data removed]",
      "text/plain": [
       "<Figure size 10800x360 with 1 Axes>"
      ]
     },
     "metadata": {},
     "output_type": "display_data"
    }
   ],
   "source": [
    "# Korrelation zwischen Existing Use und Current Status\n",
    "plt.figure(figsize=(150,5))\n",
    "avg_by_exi_use = imputed[['Existing Use','Current Status']].groupby('Existing Use',as_index=False).mean()\n",
    "sns.barplot(x='Existing Use', y='Current Status', data=avg_by_exi_use, color=\"LightSeaGreen\")\n",
    "plt.show()\n",
    "#corr = imputed['Existing Use'].corr(imputed['Current Status'],method ='pearson')\n",
    "#rint(\"Die Korrelation von Existing Use und Current Status liegt bei: \"+ str(corr))\n"
   ]
  },
  {
   "cell_type": "code",
   "execution_count": 744,
   "metadata": {},
   "outputs": [
    {
     "data": {
      "image/png": "[encoded data removed]",
      "text/plain": [
       "<Figure size 10800x360 with 1 Axes>"
      ]
     },
     "metadata": {},
     "output_type": "display_data"
    },
    {
     "name": "stdout",
     "output_type": "stream",
     "text": [
      "Die Korrelation von Number of Existing Stories und Current Status liegt bei: 0.04651374441903536\n"
     ]
    }
   ],
   "source": [
    "# Korrelation zwischen Number of Existing Stories und Current Status\n",
    "plt.figure(figsize=(150,5))\n",
    "avg_by_user_stor = imputed[['Number of Existing Stories','Current Status']].groupby('Number of Existing Stories',as_index=False).mean()\n",
    "sns.barplot(x='Number of Existing Stories', y='Current Status', data=avg_by_user_stor, color=\"LightSeaGreen\")\n",
    "plt.show()\n",
    "corr = imputed['Number of Existing Stories'].corr(imputed['Current Status'],method ='pearson')\n",
    "print(\"Die Korrelation von Number of Existing Stories und Current Status liegt bei: \"+ str(corr))"
   ]
  },
  {
   "cell_type": "code",
   "execution_count": 745,
   "metadata": {},
   "outputs": [
    {
     "data": {
      "image/png": "[encoded data removed]",
      "text/plain": [
       "<Figure size 432x288 with 1 Axes>"
      ]
     },
     "metadata": {},
     "output_type": "display_data"
    },
    {
     "name": "stdout",
     "output_type": "stream",
     "text": [
      "Die Korrelation von Permit Creation Month und Current Status liegt bei: -0.01254702884997337\n"
     ]
    }
   ],
   "source": [
    "# Korrelation zwischen Permit Creation Month und Current Status\n",
    "avg_by_creat_month = imputed[['Permit Creation Month','Current Status']].groupby('Permit Creation Month',as_index=False).mean()\n",
    "sns.barplot(x='Permit Creation Month', y='Current Status', data=avg_by_creat_month, color=\"LightSeaGreen\")\n",
    "plt.show()\n",
    "corr = imputed['Permit Creation Month'].corr(imputed['Current Status'],method ='pearson')\n",
    "print(\"Die Korrelation von Permit Creation Month und Current Status liegt bei: \"+ str(corr))"
   ]
  },
  {
   "cell_type": "code",
   "execution_count": 746,
   "metadata": {},
   "outputs": [
    {
     "data": {
      "image/png": "[encoded data removed]",
      "text/plain": [
       "<Figure size 432x288 with 1 Axes>"
      ]
     },
     "metadata": {},
     "output_type": "display_data"
    },
    {
     "name": "stdout",
     "output_type": "stream",
     "text": [
      "Die Korrelation von Issued Year und Current Status liegt bei: -0.2589033014903049\n"
     ]
    }
   ],
   "source": [
    "# Korrelation zwischen issued Year und Current Status\n",
    "avg_by_i_year = imputed[['Issued Year','Current Status']].groupby('Issued Year',as_index=False).mean()\n",
    "sns.barplot(x='Issued Year', y='Current Status', data=avg_by_i_year, color=\"LightSeaGreen\")\n",
    "plt.show()\n",
    "corr = imputed['Issued Year'].corr(imputed['Current Status'],method ='pearson')\n",
    "print(\"Die Korrelation von Issued Year und Current Status liegt bei: \"+ str(corr))"
   ]
  },
  {
   "cell_type": "code",
   "execution_count": 747,
   "metadata": {},
   "outputs": [
    {
     "data": {
      "image/png": "[encoded data removed]",
      "text/plain": [
       "<Figure size 432x288 with 1 Axes>"
      ]
     },
     "metadata": {},
     "output_type": "display_data"
    },
    {
     "name": "stdout",
     "output_type": "stream",
     "text": [
      "Die Korrelation von First Construction Document Year und Current Status liegt bei: -0.25830962558409387\n"
     ]
    }
   ],
   "source": [
    "# Korrelation zwischen First Construction Document Year und Current Status\n",
    "avg_by_first_cons_year = imputed[['First Construction Document Year','Current Status']].groupby('First Construction Document Year',as_index=False).mean()\n",
    "sns.barplot(x='First Construction Document Year', y='Current Status', data=avg_by_first_cons_year, color=\"LightSeaGreen\")\n",
    "plt.show()\n",
    "corr = imputed['First Construction Document Year'].corr(imputed['Current Status'],method ='pearson')\n",
    "print(\"Die Korrelation von First Construction Document Year und Current Status liegt bei: \"+ str(corr))"
   ]
  },
  {
   "cell_type": "code",
   "execution_count": 748,
   "metadata": {},
   "outputs": [
    {
     "data": {
      "image/png": "[encoded data removed]",
      "text/plain": [
       "<Figure size 432x288 with 1 Axes>"
      ]
     },
     "metadata": {},
     "output_type": "display_data"
    },
    {
     "name": "stdout",
     "output_type": "stream",
     "text": [
      "Die Korrelation von Filed Year und Current Status liegt bei: -0.09965971010384139\n"
     ]
    }
   ],
   "source": [
    "# Korrelation zwischen Filed Year und Current Status\n",
    "avg_by_filled_year = imputed[['Filed Year','Current Status']].groupby('Filed Year',as_index=False).mean()\n",
    "sns.barplot(x='Filed Year', y='Current Status', data=avg_by_filled_year, color=\"LightSeaGreen\")\n",
    "plt.show()\n",
    "corr = imputed['Filed Year'].corr(imputed['Current Status'],method ='pearson')\n",
    "print(\"Die Korrelation von Filed Year und Current Status liegt bei: \"+ str(corr))"
   ]
  },
  {
   "cell_type": "markdown",
   "metadata": {},
   "source": [
    "#### Antwort:\n",
    "\n",
    "Zusammenfassend kann man sagen, dass nur wenige Spalten \"gering\" mit dem Current Status korellieren. Die Korrelation liegt eher bei der 0 als bei der 1!"
   ]
  },
  {
   "cell_type": "markdown",
   "metadata": {},
   "source": [
    "### Wie verhalten sich andere Spalten zueinander?"
   ]
  },
  {
   "cell_type": "markdown",
   "metadata": {},
   "source": [
    "Zuerst testen wir zur Übung ein paar Spalten gegeneinander und berechnen die Korrelation:"
   ]
  },
  {
   "cell_type": "code",
   "execution_count": 749,
   "metadata": {},
   "outputs": [
    {
     "data": {
      "image/png": "[encoded data removed]",
      "text/plain": [
       "<Figure size 1440x288 with 1 Axes>"
      ]
     },
     "metadata": {},
     "output_type": "display_data"
    },
    {
     "name": "stdout",
     "output_type": "stream",
     "text": [
      "Die Korrelation von Permit Type und Filed Year liegt bei: 0.004845955500137787\n"
     ]
    }
   ],
   "source": [
    "plt.figure(figsize=(20,4))\n",
    "avg_status_by_permittype =imputed[['Permit Type','Filed Year']].groupby('Permit Type',as_index=False).mean()\n",
    "sns.barplot(x= 'Permit Type', y='Filed Year', data=avg_status_by_permittype, color=\"LightSeaGreen\")\n",
    "plt.show()\n",
    "corr = imputed['Permit Type'].corr(imputed['Filed Year'],method ='pearson')\n",
    "print(\"Die Korrelation von Permit Type und Filed Year liegt bei: \"+ str(corr))"
   ]
  },
  {
   "cell_type": "code",
   "execution_count": 750,
   "metadata": {},
   "outputs": [
    {
     "data": {
      "image/png": "[encoded data removed]",
      "text/plain": [
       "<Figure size 1440x288 with 1 Axes>"
      ]
     },
     "metadata": {},
     "output_type": "display_data"
    },
    {
     "name": "stdout",
     "output_type": "stream",
     "text": [
      "Die Korrelation von Zipcode und Permit Type liegt bei: -0.012993436940883665\n"
     ]
    }
   ],
   "source": [
    "plt.figure(figsize=(20,4))\n",
    "avg_status_by_permittype =imputed[['Zipcode','Permit Type']].groupby('Zipcode',as_index=False).mean()\n",
    "sns.barplot(x= 'Zipcode', y='Permit Type', data=avg_status_by_permittype, color=\"LightSeaGreen\")\n",
    "plt.show()\n",
    "corr = imputed['Zipcode'].corr(imputed['Permit Type'],method ='pearson')\n",
    "print(\"Die Korrelation von Zipcode und Permit Type liegt bei: \"+ str(corr))"
   ]
  },
  {
   "cell_type": "code",
   "execution_count": 751,
   "metadata": {},
   "outputs": [
    {
     "data": {
      "image/png": "[encoded data removed]",
      "text/plain": [
       "<Figure size 1440x288 with 1 Axes>"
      ]
     },
     "metadata": {},
     "output_type": "display_data"
    },
    {
     "name": "stdout",
     "output_type": "stream",
     "text": [
      "Die Korrelation von Zipcode und Supervisor District liegt bei: -0.06533912533060862\n"
     ]
    }
   ],
   "source": [
    "plt.figure(figsize=(20,4))\n",
    "avg_status_by_permittype =imputed[['Zipcode','Supervisor District']].groupby('Zipcode',as_index=False).mean()\n",
    "sns.barplot(x= 'Zipcode', y='Supervisor District', data=avg_status_by_permittype, color=\"LightSeaGreen\")\n",
    "plt.show()\n",
    "corr = imputed['Zipcode'].corr(imputed['Supervisor District'],method ='pearson')\n",
    "print(\"Die Korrelation von Zipcode und Supervisor District liegt bei: \"+ str(corr))"
   ]
  },
  {
   "cell_type": "code",
   "execution_count": 752,
   "metadata": {},
   "outputs": [
    {
     "data": {
      "image/png": "[encoded data removed]",
      "text/plain": [
       "<Figure size 1440x288 with 1 Axes>"
      ]
     },
     "metadata": {},
     "output_type": "display_data"
    },
    {
     "name": "stdout",
     "output_type": "stream",
     "text": [
      "Die Korrelation von Existing Construction Typeund Zipcode liegt bei: 0.33597848355609994\n"
     ]
    }
   ],
   "source": [
    "plt.figure(figsize=(20,4))\n",
    "avg_status_by_permittype =imputed[['Existing Construction Type','Zipcode']].groupby('Existing Construction Type',as_index=False).mean()\n",
    "sns.barplot(x= 'Existing Construction Type', y='Zipcode', data=avg_status_by_permittype, color=\"LightSeaGreen\")\n",
    "plt.show()\n",
    "corr = imputed['Existing Construction Type'].corr(imputed['Zipcode'],method ='pearson')\n",
    "print(\"Die Korrelation von Existing Construction Typeund Zipcode liegt bei: \"+ str(corr))"
   ]
  },
  {
   "cell_type": "markdown",
   "metadata": {},
   "source": [
    "\n",
    "Hier eine Heatmap:"
   ]
  },
  {
   "cell_type": "code",
   "execution_count": 753,
   "metadata": {},
   "outputs": [
    {
     "data": {
      "text/plain": [
       "<matplotlib.axes._subplots.AxesSubplot at 0x2318b4eceb8>"
      ]
     },
     "execution_count": 753,
     "metadata": {},
     "output_type": "execute_result"
    },
    {
     "data": {
      "image/png": "[encoded data removed]",
      "text/plain": [
       "<Figure size 648x576 with 2 Axes>"
      ]
     },
     "metadata": {},
     "output_type": "display_data"
    }
   ],
   "source": [
    "#drop was_missing spalten\n",
    "df1 = imputed\n",
    "df1 = df1.drop(df1.columns[33:],axis=1)\n",
    "#df1.columns\n",
    "#corrmat = imputed_scale.corr()\n",
    "\n",
    "corrmat = df1.corr()\n",
    "  \n",
    "f, ax = plt.subplots(figsize =(9, 8)) \n",
    "sns.heatmap(corrmat, ax = ax, cmap =\"YlGnBu\", linewidth = 0.1)"
   ]
  },
  {
   "cell_type": "markdown",
   "metadata": {},
   "source": [
    "Wenn wir alle Spalten im Bezug auf die Korrelationmiteinader vergleichen, muss man quasi jedes Rechteck (außer die Diagonale) mit einander vergleichen. Hier fällt uns schnell auf, dass auf der Rechten unteren Seite viele blau gefärbte Rechtecke gibt. Hier handelt es sich um die Datumfelder handelt, die einen Zusammenhang haben. Entweder ist das auf Fristen in der Behörde zurückzuführen oder auf unsere Imputation mit dem häufigsten Wert. Es gibt hier auf jeden Fall eine Korrelation. \n",
    "\n",
    "Es gibt aber auch sichtbare Korrelationen wie z.B. Zipcode und Existing Construction Type (siehe Einfärbung in der Heatmap)\n",
    "\n",
    "Es ist aber auch interessant, dass es auch 2 weiße Felder gibt, was eine fast perfekte (nahe -1) negative Korrelation zeigt"
   ]
  },
  {
   "cell_type": "code",
   "execution_count": 754,
   "metadata": {},
   "outputs": [
    {
     "data": {
      "image/png": "[encoded data removed]",
      "text/plain": [
       "<Figure size 1440x288 with 1 Axes>"
      ]
     },
     "metadata": {},
     "output_type": "display_data"
    },
    {
     "name": "stdout",
     "output_type": "stream",
     "text": [
      "Die Korrelation von Existing Construction Type und Number of Existing Stories liegt bei: -0.6558441231024212\n"
     ]
    }
   ],
   "source": [
    "plt.figure(figsize=(20,4))\n",
    "avg_status_by_permittype =imputed[['Existing Construction Type','Number of Existing Stories']].groupby('Existing Construction Type',as_index=False).mean()\n",
    "sns.barplot(x= 'Existing Construction Type', y='Number of Existing Stories', data=avg_status_by_permittype, color=\"LightSeaGreen\")\n",
    "plt.show()\n",
    "corr = imputed['Existing Construction Type'].corr(imputed['Number of Existing Stories'],method ='pearson')\n",
    "print(\"Die Korrelation von Existing Construction Type und Number of Existing Stories liegt bei: \"+ str(corr))"
   ]
  },
  {
   "cell_type": "code",
   "execution_count": 755,
   "metadata": {},
   "outputs": [
    {
     "data": {
      "image/png": "[encoded data removed]",
      "text/plain": [
       "<Figure size 1440x288 with 1 Axes>"
      ]
     },
     "metadata": {},
     "output_type": "display_data"
    },
    {
     "name": "stdout",
     "output_type": "stream",
     "text": [
      "Die Korrelation von Issued Month und Permit Expiration Month liegt bei: 0.6601028364182376\n"
     ]
    }
   ],
   "source": [
    "plt.figure(figsize=(20,4))\n",
    "avg_status_by_permittype =imputed[['Issued Month','Permit Expiration Month']].groupby('Issued Month',as_index=False).mean()\n",
    "sns.barplot(x= 'Issued Month', y='Permit Expiration Month', data=avg_status_by_permittype, color=\"LightSeaGreen\")\n",
    "plt.show()\n",
    "corr = imputed['Issued Month'].corr(imputed['Permit Expiration Month'],method ='pearson')\n",
    "print(\"Die Korrelation von Issued Month und Permit Expiration Month liegt bei: \"+ str(corr))"
   ]
  },
  {
   "cell_type": "markdown",
   "metadata": {},
   "source": [
    "# C SF Permits Prediction"
   ]
  },
  {
   "cell_type": "markdown",
   "metadata": {},
   "source": [
    "\n",
    "* Predict the \"Current Status\" or your substitute column from B from the other columns.\n",
    "* Drop unessecary columns \n",
    "* Construct one-hot encoded dummy columns \n",
    "* Choose the Predictor of your choice"
   ]
  },
  {
   "cell_type": "markdown",
   "metadata": {},
   "source": [
    "**Drop unessecary columns**\n",
    "\n",
    "Wir haben schon viele nicht notwendige Spalten in Aufgabe B gelöscht (wie z.B. Permit Number), daher wurde dieser Teil der Aufgabe schon erledigt. Nachfolgend, werden wie Street Name noch ignorieren, da es sonst zu viele Spalten durch \"one-hot-encoded\" gibt\n"
   ]
  },
  {
   "cell_type": "markdown",
   "metadata": {},
   "source": [
    "**Construct one-hot encoded dummy columns**"
   ]
  },
  {
   "cell_type": "code",
   "execution_count": 756,
   "metadata": {},
   "outputs": [
    {
     "data": {
      "text/html": [
       "<div>\n",
       "<style scoped>\n",
       "    .dataframe tbody tr th:only-of-type {\n",
       "        vertical-align: middle;\n",
       "    }\n",
       "\n",
       "    .dataframe tbody tr th {\n",
       "        vertical-align: top;\n",
       "    }\n",
       "\n",
       "    .dataframe thead th {\n",
       "        text-align: right;\n",
       "    }\n",
       "</style>\n",
       "<table border=\"1\" class=\"dataframe\">\n",
       "  <thead>\n",
       "    <tr style=\"text-align: right;\">\n",
       "      <th></th>\n",
       "      <th>Street Name</th>\n",
       "      <th>Current Status</th>\n",
       "      <th>Number of Existing Stories</th>\n",
       "      <th>Revised Cost</th>\n",
       "      <th>Existing Units</th>\n",
       "      <th>Plansets</th>\n",
       "      <th>Supervisor District</th>\n",
       "      <th>Zipcode</th>\n",
       "      <th>Permit Creation Year</th>\n",
       "      <th>Permit Creation Day</th>\n",
       "      <th>...</th>\n",
       "      <th>Neighborhoods - Analysis Boundaries_Russian Hill</th>\n",
       "      <th>Neighborhoods - Analysis Boundaries_Seacliff</th>\n",
       "      <th>Neighborhoods - Analysis Boundaries_South of Market</th>\n",
       "      <th>Neighborhoods - Analysis Boundaries_Sunset/Parkside</th>\n",
       "      <th>Neighborhoods - Analysis Boundaries_Tenderloin</th>\n",
       "      <th>Neighborhoods - Analysis Boundaries_Treasure Island</th>\n",
       "      <th>Neighborhoods - Analysis Boundaries_Twin Peaks</th>\n",
       "      <th>Neighborhoods - Analysis Boundaries_Visitacion Valley</th>\n",
       "      <th>Neighborhoods - Analysis Boundaries_West of Twin Peaks</th>\n",
       "      <th>Neighborhoods - Analysis Boundaries_Western Addition</th>\n",
       "    </tr>\n",
       "  </thead>\n",
       "  <tbody>\n",
       "    <tr>\n",
       "      <th>0</th>\n",
       "      <td>Ellis</td>\n",
       "      <td>0</td>\n",
       "      <td>6.0</td>\n",
       "      <td>4000.000000</td>\n",
       "      <td>143.000000</td>\n",
       "      <td>2.0</td>\n",
       "      <td>3.0</td>\n",
       "      <td>94102.0</td>\n",
       "      <td>2015</td>\n",
       "      <td>6</td>\n",
       "      <td>...</td>\n",
       "      <td>0</td>\n",
       "      <td>0</td>\n",
       "      <td>0</td>\n",
       "      <td>0</td>\n",
       "      <td>1</td>\n",
       "      <td>0</td>\n",
       "      <td>0</td>\n",
       "      <td>0</td>\n",
       "      <td>0</td>\n",
       "      <td>0</td>\n",
       "    </tr>\n",
       "    <tr>\n",
       "      <th>1</th>\n",
       "      <td>Geary</td>\n",
       "      <td>1</td>\n",
       "      <td>7.0</td>\n",
       "      <td>500.000000</td>\n",
       "      <td>15.666164</td>\n",
       "      <td>2.0</td>\n",
       "      <td>3.0</td>\n",
       "      <td>94102.0</td>\n",
       "      <td>2016</td>\n",
       "      <td>19</td>\n",
       "      <td>...</td>\n",
       "      <td>0</td>\n",
       "      <td>0</td>\n",
       "      <td>0</td>\n",
       "      <td>0</td>\n",
       "      <td>1</td>\n",
       "      <td>0</td>\n",
       "      <td>0</td>\n",
       "      <td>0</td>\n",
       "      <td>0</td>\n",
       "      <td>0</td>\n",
       "    </tr>\n",
       "    <tr>\n",
       "      <th>2</th>\n",
       "      <td>Pacific</td>\n",
       "      <td>0</td>\n",
       "      <td>6.0</td>\n",
       "      <td>132856.186492</td>\n",
       "      <td>39.000000</td>\n",
       "      <td>2.0</td>\n",
       "      <td>3.0</td>\n",
       "      <td>94109.0</td>\n",
       "      <td>2016</td>\n",
       "      <td>27</td>\n",
       "      <td>...</td>\n",
       "      <td>1</td>\n",
       "      <td>0</td>\n",
       "      <td>0</td>\n",
       "      <td>0</td>\n",
       "      <td>0</td>\n",
       "      <td>0</td>\n",
       "      <td>0</td>\n",
       "      <td>0</td>\n",
       "      <td>0</td>\n",
       "      <td>0</td>\n",
       "    </tr>\n",
       "    <tr>\n",
       "      <th>3</th>\n",
       "      <td>Pacific</td>\n",
       "      <td>1</td>\n",
       "      <td>2.0</td>\n",
       "      <td>2000.000000</td>\n",
       "      <td>1.000000</td>\n",
       "      <td>2.0</td>\n",
       "      <td>3.0</td>\n",
       "      <td>94109.0</td>\n",
       "      <td>2016</td>\n",
       "      <td>7</td>\n",
       "      <td>...</td>\n",
       "      <td>0</td>\n",
       "      <td>0</td>\n",
       "      <td>0</td>\n",
       "      <td>0</td>\n",
       "      <td>0</td>\n",
       "      <td>0</td>\n",
       "      <td>0</td>\n",
       "      <td>0</td>\n",
       "      <td>0</td>\n",
       "      <td>0</td>\n",
       "    </tr>\n",
       "    <tr>\n",
       "      <th>4</th>\n",
       "      <td>Market</td>\n",
       "      <td>1</td>\n",
       "      <td>3.0</td>\n",
       "      <td>100000.000000</td>\n",
       "      <td>15.666164</td>\n",
       "      <td>2.0</td>\n",
       "      <td>6.0</td>\n",
       "      <td>94102.0</td>\n",
       "      <td>2016</td>\n",
       "      <td>28</td>\n",
       "      <td>...</td>\n",
       "      <td>0</td>\n",
       "      <td>0</td>\n",
       "      <td>0</td>\n",
       "      <td>0</td>\n",
       "      <td>1</td>\n",
       "      <td>0</td>\n",
       "      <td>0</td>\n",
       "      <td>0</td>\n",
       "      <td>0</td>\n",
       "      <td>0</td>\n",
       "    </tr>\n",
       "  </tbody>\n",
       "</table>\n",
       "<p>5 rows × 197 columns</p>\n",
       "</div>"
      ],
      "text/plain": [
       "  Street Name  Current Status  Number of Existing Stories   Revised Cost  \\\n",
       "0       Ellis               0                         6.0    4000.000000   \n",
       "1       Geary               1                         7.0     500.000000   \n",
       "2     Pacific               0                         6.0  132856.186492   \n",
       "3     Pacific               1                         2.0    2000.000000   \n",
       "4      Market               1                         3.0  100000.000000   \n",
       "\n",
       "   Existing Units  Plansets  Supervisor District  Zipcode  \\\n",
       "0      143.000000       2.0                  3.0  94102.0   \n",
       "1       15.666164       2.0                  3.0  94102.0   \n",
       "2       39.000000       2.0                  3.0  94109.0   \n",
       "3        1.000000       2.0                  3.0  94109.0   \n",
       "4       15.666164       2.0                  6.0  94102.0   \n",
       "\n",
       "   Permit Creation Year  Permit Creation Day  ...  \\\n",
       "0                  2015                    6  ...   \n",
       "1                  2016                   19  ...   \n",
       "2                  2016                   27  ...   \n",
       "3                  2016                    7  ...   \n",
       "4                  2016                   28  ...   \n",
       "\n",
       "   Neighborhoods - Analysis Boundaries_Russian Hill  \\\n",
       "0                                                 0   \n",
       "1                                                 0   \n",
       "2                                                 1   \n",
       "3                                                 0   \n",
       "4                                                 0   \n",
       "\n",
       "   Neighborhoods - Analysis Boundaries_Seacliff  \\\n",
       "0                                             0   \n",
       "1                                             0   \n",
       "2                                             0   \n",
       "3                                             0   \n",
       "4                                             0   \n",
       "\n",
       "   Neighborhoods - Analysis Boundaries_South of Market  \\\n",
       "0                                                  0     \n",
       "1                                                  0     \n",
       "2                                                  0     \n",
       "3                                                  0     \n",
       "4                                                  0     \n",
       "\n",
       "   Neighborhoods - Analysis Boundaries_Sunset/Parkside  \\\n",
       "0                                                  0     \n",
       "1                                                  0     \n",
       "2                                                  0     \n",
       "3                                                  0     \n",
       "4                                                  0     \n",
       "\n",
       "   Neighborhoods - Analysis Boundaries_Tenderloin  \\\n",
       "0                                               1   \n",
       "1                                               1   \n",
       "2                                               0   \n",
       "3                                               0   \n",
       "4                                               1   \n",
       "\n",
       "   Neighborhoods - Analysis Boundaries_Treasure Island  \\\n",
       "0                                                  0     \n",
       "1                                                  0     \n",
       "2                                                  0     \n",
       "3                                                  0     \n",
       "4                                                  0     \n",
       "\n",
       "   Neighborhoods - Analysis Boundaries_Twin Peaks  \\\n",
       "0                                               0   \n",
       "1                                               0   \n",
       "2                                               0   \n",
       "3                                               0   \n",
       "4                                               0   \n",
       "\n",
       "   Neighborhoods - Analysis Boundaries_Visitacion Valley  \\\n",
       "0                                                  0       \n",
       "1                                                  0       \n",
       "2                                                  0       \n",
       "3                                                  0       \n",
       "4                                                  0       \n",
       "\n",
       "   Neighborhoods - Analysis Boundaries_West of Twin Peaks  \\\n",
       "0                                                  0        \n",
       "1                                                  0        \n",
       "2                                                  0        \n",
       "3                                                  0        \n",
       "4                                                  0        \n",
       "\n",
       "   Neighborhoods - Analysis Boundaries_Western Addition  \n",
       "0                                                  0     \n",
       "1                                                  0     \n",
       "2                                                  0     \n",
       "3                                                  0     \n",
       "4                                                  0     \n",
       "\n",
       "[5 rows x 197 columns]"
      ]
     },
     "execution_count": 756,
     "metadata": {},
     "output_type": "execute_result"
    }
   ],
   "source": [
    "#Durchführen von \"one hot encoding\" über alle Spalten, welche Kategorien enthalten\n",
    "sf_df = pd.get_dummies(imputed, columns=['Permit Type'])\n",
    "sf_df2 = pd.get_dummies(sf_df, columns=['Existing Use'])\n",
    "#sf_df3 = pd.get_dummies(sf_df2, columns=['Street Name'])\n",
    "sf_df4 = pd.get_dummies(sf_df2, columns=['Existing Construction Type'])\n",
    "sf_df5 = pd.get_dummies(sf_df4, columns=['Voluntary Soft-Story Retrofit'])\n",
    "sf_df6 = pd.get_dummies(sf_df5, columns=['Fire Only Permit'])\n",
    "sf_df7 = pd.get_dummies(sf_df6, columns=['Site Permit'])\n",
    "sf_df_final = pd.get_dummies(sf_df7, columns=['Neighborhoods - Analysis Boundaries'])\n",
    "sf_df_final.head()\n",
    "\n"
   ]
  },
  {
   "cell_type": "code",
   "execution_count": 757,
   "metadata": {},
   "outputs": [
    {
     "data": {
      "text/plain": [
       "(198900, 197)"
      ]
     },
     "execution_count": 757,
     "metadata": {},
     "output_type": "execute_result"
    }
   ],
   "source": [
    "sf_df_final.shape"
   ]
  },
  {
   "cell_type": "code",
   "execution_count": 758,
   "metadata": {},
   "outputs": [
    {
     "name": "stdout",
     "output_type": "stream",
     "text": [
      "(198900, 195)\n",
      "(198900,)\n"
     ]
    }
   ],
   "source": [
    "#Wir speichern in X alle daten außer \"Current Status\" und Street Name (Einfachheitshalber) in y nur den Current Status\n",
    "X = sf_df_final.drop([\"Current Status\",\"Street Name\"], axis=1)\n",
    "y = sf_df_final[\"Current Status\"]\n",
    "print(X.shape)\n",
    "print(y.shape)"
   ]
  },
  {
   "cell_type": "code",
   "execution_count": 759,
   "metadata": {},
   "outputs": [],
   "source": [
    "# wir erstellen eine Test und einen Trainingsdatensatz im Verhältnis 70%/30%\n",
    "X_train, X_test, y_train, y_test = train_test_split(X, y, test_size=0.3)"
   ]
  },
  {
   "cell_type": "markdown",
   "metadata": {},
   "source": [
    "Wir haben uns dazu entschieden, verschiedene \"Predictor\" zu nehmen um Unterschiede zu sehen:"
   ]
  },
  {
   "cell_type": "markdown",
   "metadata": {},
   "source": [
    "###  Prediction durch lineare Regression:"
   ]
  },
  {
   "cell_type": "code",
   "execution_count": 760,
   "metadata": {},
   "outputs": [],
   "source": [
    "# Train the linear regression model on our train subsample\n",
    "from sklearn.linear_model import LinearRegression \n",
    "model = LinearRegression() \n",
    "model.fit(X_train, y_train)\n",
    "# Use our trained model to predict values for the testing subsample\n",
    "Y_pred = model.predict(X_test)"
   ]
  },
  {
   "cell_type": "code",
   "execution_count": 761,
   "metadata": {},
   "outputs": [
    {
     "name": "stdout",
     "output_type": "stream",
     "text": [
      "R2 score is 0.7709595414410115\n"
     ]
    }
   ],
   "source": [
    "from sklearn.metrics import mean_squared_error, r2_score\n",
    "r2 = r2_score(y_test, Y_pred)\n",
    "print('R2 score is {}'.format(r2))"
   ]
  },
  {
   "cell_type": "markdown",
   "metadata": {},
   "source": [
    "###  Prediction durch logistic Regression"
   ]
  },
  {
   "cell_type": "code",
   "execution_count": 768,
   "metadata": {},
   "outputs": [
    {
     "name": "stderr",
     "output_type": "stream",
     "text": [
      "C:\\Users\\D073616\\AppData\\Local\\Continuum\\anaconda3\\lib\\site-packages\\sklearn\\linear_model\\sag.py:337: ConvergenceWarning: The max_iter was reached which means the coef_ did not converge\n",
      "  \"the coef_ did not converge\", ConvergenceWarning)\n"
     ]
    }
   ],
   "source": [
    "# Vorbereiten der Logistic regression für das Modell um die Spalte Current Status vorherrzusagen\n",
    "lr_saga = LogisticRegression(solver = \"saga\", n_jobs= -1)\n",
    "lr_lbfgs = LogisticRegression(solver =\"newton-cg\", n_jobs= -1)\n",
    "lr_saga.fit(X_train, y_train)\n",
    "lr_lbfgs.fit(X_train, y_train)\n",
    "saga_pred = lr_saga.predict(X_test)\n",
    "lbfgs_pred = lr_lbfgs.predict(X_test)"
   ]
  },
  {
   "cell_type": "code",
   "execution_count": 769,
   "metadata": {},
   "outputs": [
    {
     "name": "stdout",
     "output_type": "stream",
     "text": [
      "Logistic Regression Model with Solver= saga\n",
      "Accuracy score: 0.9099882688117982\n",
      "-----------------------------------------\n",
      "Logistic Regression Model with Solver= lbfgs\n",
      "Accuracy score: 0.9795039383274677\n",
      "-----------------------------------------\n"
     ]
    }
   ],
   "source": [
    "print(\"Logistic Regression Model with Solver= saga\")\n",
    "print(\"Accuracy score: {}\".format(accuracy_score(saga_pred, y_test)))\n",
    "print(\"-----------------------------------------\")\n",
    "print(\"Logistic Regression Model with Solver= lbfgs\")\n",
    "print(\"Accuracy score: {}\".format(accuracy_score(lbfgs_pred, y_test)))\n",
    "print(\"-----------------------------------------\")"
   ]
  },
  {
   "cell_type": "markdown",
   "metadata": {},
   "source": [
    "###  Prediction durch Linear Support Vector Classification"
   ]
  },
  {
   "cell_type": "code",
   "execution_count": 764,
   "metadata": {},
   "outputs": [
    {
     "name": "stderr",
     "output_type": "stream",
     "text": [
      "C:\\Users\\D073616\\AppData\\Local\\Continuum\\anaconda3\\lib\\site-packages\\sklearn\\svm\\base.py:929: ConvergenceWarning: Liblinear failed to converge, increase the number of iterations.\n",
      "  \"the number of iterations.\", ConvergenceWarning)\n"
     ]
    }
   ],
   "source": [
    "clf = LinearSVC()\n",
    "clf.fit(X_train, y_train)\n",
    "clf_pred = clf.predict(X_test)"
   ]
  },
  {
   "cell_type": "code",
   "execution_count": 765,
   "metadata": {},
   "outputs": [
    {
     "name": "stderr",
     "output_type": "stream",
     "text": [
      "C:\\Users\\D073616\\AppData\\Local\\Continuum\\anaconda3\\lib\\site-packages\\sklearn\\feature_selection\\univariate_selection.py:114: UserWarning: Features [ 67 107 108] are constant.\n",
      "  UserWarning)\n",
      "C:\\Users\\D073616\\AppData\\Local\\Continuum\\anaconda3\\lib\\site-packages\\sklearn\\feature_selection\\univariate_selection.py:115: RuntimeWarning: invalid value encountered in true_divide\n",
      "  f = msb / msw\n"
     ]
    }
   ],
   "source": [
    "# Da der Datensatz viele one_hot_encodings Spalten besitzt, könnte es passieren, dass das Modell ungenau wird. Wir haben uns dazu entschieden, mit SelectKBest\n",
    "# nur nur bestimmte Spalten verwenden, um dem Problem Herr zu werden.\n",
    "# Die Featureauswahl (SelectKBest) ist eine Technik, bei der wir die Features in unseren Daten auswählen, die am\n",
    "#meisten zur Zielvariablen beitragen. Mit anderen Worten, wir wählen die besten Prädiktoren für die Zielvariable aus. (Quelle Kaggele)\n",
    "\n",
    "kbest = SelectKBest(k = 35)\n",
    "kbest.fit(X_train, y_train)\n",
    "X_t_train = kbest.transform(X_train)\n",
    "X_t_test = kbest.transform(X_test)"
   ]
  },
  {
   "cell_type": "code",
   "execution_count": 766,
   "metadata": {},
   "outputs": [
    {
     "name": "stderr",
     "output_type": "stream",
     "text": [
      "C:\\Users\\D073616\\AppData\\Local\\Continuum\\anaconda3\\lib\\site-packages\\sklearn\\svm\\base.py:929: ConvergenceWarning: Liblinear failed to converge, increase the number of iterations.\n",
      "  \"the number of iterations.\", ConvergenceWarning)\n"
     ]
    }
   ],
   "source": [
    "clf.fit(X_t_train, y_train)\n",
    "clf_pred_kbest = clf.predict(X_t_test)"
   ]
  },
  {
   "cell_type": "code",
   "execution_count": 767,
   "metadata": {},
   "outputs": [
    {
     "name": "stdout",
     "output_type": "stream",
     "text": [
      "LinearSVC Model\n",
      "Accuracy score all data: 0.9056812468577174\n",
      "Accuracy score SelectKBest data: 0.979252555723144\n"
     ]
    }
   ],
   "source": [
    "print(\"LinearSVC Model\")\n",
    "print(\"Accuracy score all data: {}\".format(accuracy_score(clf_pred, y_test)))\n",
    "print(\"Accuracy score SelectKBest data: {}\".format(accuracy_score(clf_pred_kbest, y_test)))"
   ]
  },
  {
   "cell_type": "code",
   "execution_count": null,
   "metadata": {},
   "outputs": [],
   "source": []
  },
  {
   "cell_type": "code",
   "execution_count": null,
   "metadata": {},
   "outputs": [],
   "source": []
  },
  {
   "cell_type": "code",
   "execution_count": null,
   "metadata": {},
   "outputs": [],
   "source": []
  },
  {
   "cell_type": "code",
   "execution_count": null,
   "metadata": {},
   "outputs": [],
   "source": []
  }
 ],
 "metadata": {
  "kernelspec": {
   "display_name": "Python 3",
   "language": "python",
   "name": "python3"
  },
  "language_info": {
   "codemirror_mode": {
    "name": "ipython",
    "version": 3
   },
   "file_extension": ".py",
   "mimetype": "text/x-python",
   "name": "python",
   "nbconvert_exporter": "python",
   "pygments_lexer": "ipython3",
   "version": "3.7.3"
  }
 },
 "nbformat": 4,
 "nbformat_minor": 2
}
